{
  "cells": [
    {
      "metadata": {},
      "cell_type": "markdown",
      "source": "# Practica 1 - Lab01 - Redes neuronales con RSNNS"
    },
    {
      "metadata": {},
      "cell_type": "markdown",
      "source": "## Grupo de Meteorología"
    },
    {
      "metadata": {},
      "cell_type": "markdown",
      "source": "    1 Redes Neuronales en R\n    2 Construcción de una red neuronal - IRIS\n    3 Construcción de una red neuronal - CIRCLE\n    4 Cross validación de redes neuronales - CARET\n    5 Construcción de una red neuronal - METEO"
    },
    {
      "metadata": {},
      "cell_type": "markdown",
      "source": "## 1 Redes Neuronales en R"
    },
    {
      "metadata": {},
      "cell_type": "markdown",
      "source": "Existen diversas librerías para trabajar con redes neuronales en R. La diferencia principal entre las librerías existentes radica en la complejidad de la red neuronal a modelar y la facilidad de uso por parte del usuario. En esta sección se va a hacer una breve descripción de las librerías más relevantes.\n\n- Librería nnet: este paquete es muy sencillo de usar y te permite elaborar redes neuronales de una manera fácil y rápida aunque con complejidad limitada. Por ejemplo, mediante esta librería tan solo se pueden realizar redes con una capa oculta, tan solo permite dos tipos de funciones de activación (sigmoidal o lineal) aunque la función de activación “softmax” también se puede aplicar a las neuronas de salida. Tampoco se puede especificar el valor de eta para controlar el aprendizaje de la red ni aprender mediante “stochastic gradient descent”. A pesar de no permitir elaborar redes muy complejas, incluye la posibilidad de limitar el módulo de los pesos (regularización) o estimar los parámetros (conexiones de la red) mediante la función de máxima verosimilitud en vez de resolver el problema de mínimos cuadrados.\n\n- Librería neural: Esta librería también es simple pero presenta varias novedades con respector a nnet. Por un lado te permite visualizar una interfaz gráfica y por otro lado te permite controlar el aprendizaje mediante la regulación de eta (en ste caso, en la función al parámetro se le llama alpha). Esta red permite modelar dos tipos de redes: “radial basis function neural network (RBF-NN)” o las “multilayer perceptron neural network (MLP-NN)”. En las RBF-NN la última capa es lineal, en cambio, la capa oculta presenta una función de activación conocida como “radial basis function”. Este tipo de funciones dependen únicamente de la distancia al origen. Un tipo de función radial es la función de gauss o exponencial.\n\n$$\\phi \\left(x, c\\right) = \\phi \\left(||x−c||\\right) = e^{−\\left(\\epsilon ||x−c||\\right)^2}$$\n\nLa función `rfbtrain` que es la que se usa la librería neural para entrenar redes neuronales utiliza únicamente la función de gauss como función de activación. En cambio las MLP-NN son entrenadas mediante la función `mlptrain`, la cual presenta unas características similares que la función nnet del paquete anterior. La diferencia principal radica que en este caso se pueden construir redes con más de una capa y efectuar early-stopping.\n\n- Librería deepnet: Esta librería permite elaborar perceptrones multicapa, es decir, con más de una capa oculta. La ventaja de esta librería es que tiene versatilidad a la hora de ajustar los parámetros del aprendizaje: el número de épocas, el ratio de aprendizaje (o eta), la posiblidad de entrenar con subconjuntos de la muestra de train (o batchs) así como la posibilidad de introducir un término de momento para evitar quedarse atrapado en mínimos locales. Concretamente, entrenar con un subconjunto aleatorio de la muestra se conoce como “stochastic gradient descent” y si además se le añade el término del moment, entonces “momentum gradient descent”. Esta manera de estocástica de entrenar es la adoptada hoy en día y por tanto esta librería resulta muy útil, ya que es simple pero versátil. Otra novedad es la posibilidad de regularizar mediante “dropout”. Dropout consiste en entrenar subredes de la red completa generadas aleatoriamente durante un número determinado de épocas. Dichas subredes tienen menor número de parámetros y por tanto resulta eficaz utilizarlo cuando tenemos gran cantidad de parámetros como es el caso de redes con varias capas.\n\n- Librería neuralnet: es una librería sencilla de usar cuya principal ventaja es la variedad en algoritmos de aprendizaje que presenta: standard backpropagation y diferentes tipos de resilient backpropagation.\n\n- Librería AMORE: la novedad de esta librería es que utiliza un algoritmo de aprendizaje llamado TAO-backpropagation. Este algoritmo es menos sensible a los outliers y por tanto más robusto.\n\n- Librería RSNNS: A día de hoy esta librería es una de las más completas, fiables y rápidas implementaciones de redes neuronales. Se apoya en una librería realizada para el software S llamada SNNS. Permite implementar una gran variedad de tipos de topologías de redes neuronales (perceptrones multicapa, funciones radiales, redes dinámicas, redes autoasociativas…)\n\nEn esta práctica nos vamos a centrar en el paquete RSNNS debido a su versatilidad. Esta librería también se encuentra dentro de las admitidas por el paquete CARET, el cual se utiliza para estimar la configuración de los parámetros mediante cross-validación o leave-one-out.\n\nPor tanto, en la primera parte de la práctica aprenderemos a construir una red neuronal con el paquete RSNNS, as así como a observar como aprende la red. En la segunda parte de la práctica se enseñará a utilizar el paquete CARET como medio para estimar el número óptimo de neuronas ocultas."
    },
    {
      "metadata": {},
      "cell_type": "markdown",
      "source": "## 2 Construcción de una red neuronal - IRIS"
    },
    {
      "metadata": {},
      "cell_type": "markdown",
      "source": "El paquete RSNNS permite elaborar una red neuronal de perceptrones multicapa mediante la función mlp. En cuanto a la estructura, esta función permite elaborar una red con más de una capa y variar el tipo de función de activación mediante los parámetros “size” y “hiddenActFunc” o “outputActFunc” , respectivamente. En cuanto al aprendizaje, se puede tunear tanto el tipo de backpropagation (“learnFunc”) , como la velocidad de aprendizaje(“learFuncParams”) o el número de épocas/iteraciones (“maxit”).\n\nPara elaborar nuestra primera red neuronal vamos a utilizar el dataset iris. Recordamos que el dataset iris consiste en 150 observaciones de 3 tipos de flor distintas (setosa, versicolor y virginica) y cuyo objetivo es clasificar cada tipo en base a 4 parámetros: la longitud y anchura del sépalo, y la longitud y anchura del pétalo. Las funciones decodeClassLabels,splitForTrainingAndTest y normTrainingAndTestSet, son funciones internas de RSNNS que han sido especificament diseñadas para ilustrar con facilidad el preproceso en el dataset de iris. Sus objetivos son convertir a binario las categorías, dividir en train y test, y normalizar los predictores, respectivamente."
    },
    {
      "metadata": {
        "trusted": false
      },
      "cell_type": "code",
      "source": "# Cargamos el dataset iris\nlibrary(RSNNS)",
      "execution_count": null,
      "outputs": []
    },
    {
      "metadata": {
        "trusted": false
      },
      "cell_type": "code",
      "source": "## Loading required package: Rcpp\n\niris <- iris[sample(1:nrow(iris),length(1:nrow(iris))),1:ncol(iris)]\nirisValues <- iris[,1:4]\nirisTargets <- decodeClassLabels(iris[,5]) # Función interna de RSNNS específica para ilustrar una NN con iris\niris <- splitForTrainingAndTest(irisValues, irisTargets, ratio=0.15)\niris <- normTrainingAndTestSet(iris)\n\nstr(iris)\n\n## List of 4\n##  $ inputsTrain : num [1:127, 1:4] 1.307 1.307 -1.815 -0.441 0.183 ...\n##   ..- attr(*, \"normParams\")=List of 3\n##   .. ..$ colMeans: num [1:4] 5.85 3.07 3.72 1.19\n##   .. ..$ colSds  : num [1:4] 0.801 0.421 1.768 0.768\n##   .. ..$ type    : chr \"norm\"\n##  $ targetsTrain: num [1:127, 1:3] 0 0 1 0 0 0 0 1 0 1 ...\n##   ..- attr(*, \"dimnames\")=List of 2\n##   .. ..$ : NULL\n##   .. ..$ : chr [1:3] \"setosa\" \"versicolor\" \"virginica\"\n##  $ inputsTest  : num [1:23, 1:4] -1.066 -0.317 -0.566 0.557 -0.441 ...\n##   ..- attr(*, \"normParams\")=List of 3\n##   .. ..$ colMeans: num [1:4] 5.85 3.07 3.72 1.19\n##   .. ..$ colSds  : num [1:4] 0.801 0.421 1.768 0.768\n##   .. ..$ type    : chr \"norm\"\n##  $ targetsTest : num [1:23, 1:3] 0 0 1 0 0 0 0 0 0 0 ...\n##   ..- attr(*, \"dimnames\")=List of 2\n##   .. ..$ : NULL\n##   .. ..$ : chr [1:3] \"setosa\" \"versicolor\" \"virginica\"",
      "execution_count": null,
      "outputs": []
    },
    {
      "metadata": {},
      "cell_type": "markdown",
      "source": "El resultado es una lista con 4 miembros: “inputsTrain”,“targetsTrain”,“inputsTest”,“targetsTest”. El dataset de train consta ahora de 127 observaciones por 23 del dataset de test.\n\nUna vez preprocesado el dataset podemos elaborar la red neuronal. En el código de abajo se muestra como se construye una red de 5 neuronas ocultas con función de salida sigmoidal/logística. Mediante la función sumary(), la cual es de base de R, podemos ver las propiedades del modelo estimado."
    },
    {
      "metadata": {
        "trusted": false
      },
      "cell_type": "code",
      "source": "model <- mlp(iris$inputsTrain, iris$targetsTrain, size = 5, \n             outputActFunc = \"Act_Logistic\",\n             learnFuncParams = c(0.1), # Quiere decir que eta = 0.1\n             maxit = 1000, # 50 épocas \n             inputsTest = iris$inputsTest, targetsTest = iris$targetsTest)\nsummary(model)\n\n## SNNS network definition file V1.4-3D\n## generated at Thu Feb  7 12:29:22 2019\n## \n## network name : RSNNS_untitled\n## source files :\n## no. of units : 12\n## no. of connections : 35\n## no. of unit types : 0\n## no. of site types : 0\n## \n## \n## learning function : Std_Backpropagation\n## update function   : Topological_Order\n## \n## \n## unit default section :\n## \n## act      | bias     | st | subnet | layer | act func     | out func\n## ---------|----------|----|--------|-------|--------------|-------------\n##  0.00000 |  0.00000 | i  |      0 |     1 | Act_Logistic | Out_Identity \n## ---------|----------|----|--------|-------|--------------|-------------\n## \n## \n## unit definition section :\n## \n## no. | typeName | unitName          | act      | bias     | st | position | act func     | out func | sites\n## ----|----------|-------------------|----------|----------|----|----------|--------------|----------|-------\n##   1 |          | Input_1           | -0.19172 |  0.24511 | i  | 1,0,0    | Act_Identity |          | \n##   2 |          | Input_2           | -0.16467 | -0.25460 | i  | 2,0,0    | Act_Identity |          | \n##   3 |          | Input_3           |  0.26946 |  0.28727 | i  | 3,0,0    | Act_Identity |          | \n##   4 |          | Input_4           |  0.01538 | -0.02886 | i  | 4,0,0    | Act_Identity |          | \n##   5 |          | Hidden_2_1        |  0.14791 | -2.83731 | h  | 1,2,0    |||\n##   6 |          | Hidden_2_2        |  0.94295 |  2.15954 | h  | 2,2,0    |||\n##   7 |          | Hidden_2_3        |  0.03546 | -5.79731 | h  | 3,2,0    |||\n##   8 |          | Hidden_2_4        |  0.05649 | -2.03201 | h  | 4,2,0    |||\n##   9 |          | Hidden_2_5        |  0.92566 |  4.55989 | h  | 5,2,0    |||\n##  10 |          | Output_setosa     |  0.01571 | -0.97445 | o  | 1,4,0    |||\n##  11 |          | Output_versicolor |  0.99600 | -1.45009 | o  | 2,4,0    |||\n##  12 |          | Output_virginica  |  0.00103 | -1.80274 | o  | 3,4,0    |||\n## ----|----------|-------------------|----------|----------|----|----------|--------------|----------|-------\n## \n## \n## connection definition section :\n## \n## target | site | source:weight\n## -------|------|---------------------------------------------------------------------------------------------------------------------\n##      5 |      |  4: 1.65795,  3: 3.24152,  2:-0.29496,  1:-0.72333\n##      6 |      |  4: 2.29583,  3: 2.07197,  2:-1.51624,  1: 1.03171\n##      7 |      |  4: 2.97358,  3: 7.21615,  2:-0.76687,  1:-1.96935\n##      8 |      |  4:-2.38995,  3:-2.39416,  2: 1.46783,  1:-0.73089\n##      9 |      |  4:-2.33873,  3:-5.87672,  2: 0.56515,  1: 1.69784\n##     10 |      |  9: 1.18219,  8: 4.33367,  7:-0.90516,  6:-4.57974,  5:-1.02635\n##     11 |      |  9: 3.76803,  8:-6.51161,  7:-7.70836,  6: 4.84506,  5:-3.02123\n##     12 |      |  9:-6.99726,  8:-3.27965,  7: 6.02931,  6: 1.03437,  5: 2.70799\n## -------|------|---------------------------------------------------------------------------------------------------------------------",
      "execution_count": null,
      "outputs": []
    },
    {
      "metadata": {},
      "cell_type": "markdown",
      "source": "Podemos visualizar como ha evolucionado el error en cada iteración. Recordemos que la red neuronal optimiza error cuadrático medio entre el valor esperado y la salida de la red, por ello el error que vemos en la gráfica es el MSE o Mean Squared Error. La gráfica se puede dibujar mediante la función “plotIterativeError” del propio paquete RSNNS."
    },
    {
      "metadata": {},
      "cell_type": "markdown",
      "source": "plotIterativeError(model)"
    },
    {
      "metadata": {},
      "cell_type": "markdown",
      "source": "La curva error es muy útil para visualizar como va divergiendo la predicción en distintos datasets y por lo tanto diagnoisticar el sobreajuste. Un criterio para evitar el sobreajuste es utilizar early-stopping: parar el aprendizaje cuando la diferencia entre las dos curvas de error sea superior a un umbral. Recordemos que el sobreajuste de un modelo está muy influenciado por la cantidad de parámetros del sistema. En el caso anterior tan solo teníamos 2 neuronas ocultas, por ello vamos a observar el sobreajuste en un modelo cuyo número de neuronas ocultas (y por tanto de parámetros) es mucho mayor."
    },
    {
      "metadata": {
        "trusted": false
      },
      "cell_type": "code",
      "source": "model <- mlp(iris$inputsTrain, iris$targetsTrain, size = 1000, \n             outputActFunc = \"Act_Logistic\",\n             learnFuncParams = c(0.1), # Quiere decir que eta = 0.1\n             maxit = 1000, # 50 épocas \n             inputsTest = iris$inputsTest, targetsTest = iris$targetsTest)\n\nplotIterativeError(model)",
      "execution_count": null,
      "outputs": []
    },
    {
      "metadata": {},
      "cell_type": "markdown",
      "source": "Podemos observar como en esta figura el error de train (curva negra) es alrededor de 0, lo que indica que el modelo tiene la suficiente flexibilidad como para ajustarse totalmente a los datos. La variabilidad en el error se debe al efecto que tiene el parámetro eta (velocidad de aprendizaje) al oscilar en torno al mínimo. En el caso anterior (5 neuronas ocultas) la nolinealidad de la superficie de error es menor y por tanto una osicalación en torno al mínimo tiene un menor efecto. Para ser más concretos podemos obtener las predicciones del modelo ya sea mediante la información contenida en el modelo (caso (a)) o mediante el método tradicional: usando la función de base predict."
    },
    {
      "metadata": {
        "trusted": false
      },
      "cell_type": "code",
      "source": "## Caso (a)\npredictions1 <- model$fittedTestValues\n#plot(1:nrow(model$fitted.values),model$fitted.values[,1])",
      "execution_count": null,
      "outputs": []
    },
    {
      "metadata": {
        "trusted": false
      },
      "cell_type": "code",
      "source": "## Caso (b)\npredictions2 <- predict(model,iris$inputsTest)\nplot(predictions1,predictions2)\nlines(0:1,0:1)",
      "execution_count": null,
      "outputs": []
    },
    {
      "metadata": {},
      "cell_type": "markdown",
      "source": "Como hemos visto en asignaturas anteriores, para validar una predicción de una variable binomial es más coherente utilizar otras índices como el Area bajo la curva (AUC, por sus siglas en inglés) o la matriz de confusión, en lugar del MSE. El paquete RSNN también proporciona funciones que de una manera sencilla y rápida nos permite visualizar dichos índices y por tanto juzgar nuestro modelo."
    },
    {
      "metadata": {
        "trusted": false
      },
      "cell_type": "code",
      "source": "confusionMatrix(iris$targetsTest,predictions2)\n\n##        predictions\n## targets 1 2 3\n##       1 6 0 0\n##       2 0 8 3\n##       3 0 0 6",
      "execution_count": null,
      "outputs": []
    },
    {
      "metadata": {
        "trusted": false
      },
      "cell_type": "code",
      "source": "plotROC(predictions2[,2], iris$targetsTest[,2])",
      "execution_count": null,
      "outputs": []
    },
    {
      "metadata": {},
      "cell_type": "markdown",
      "source": "Una vez visto la funcionalidad básica de las función mlp vamos a probar a cambiar parámetros de la función. Uno de ellos es el parámetro “size”, responsable del número de neuronas así como del número de capas. Si el parámetro size es un vector entonces tendremos una red neuronal con tantas capas como longitud tenga el vector."
    },
    {
      "metadata": {
        "trusted": false
      },
      "cell_type": "code",
      "source": "model <- mlp(iris$inputsTrain, iris$targetsTrain, size = c(10,10), \n             outputActFunc = \"Act_Logistic\",\n             learnFuncParams = c(0.1), # Quiere decir que eta = 0.1\n             maxit = 50, # 50 épocas \n             inputsTest = iris$inputsTest, targetsTest = iris$targetsTest)",
      "execution_count": null,
      "outputs": []
    },
    {
      "metadata": {},
      "cell_type": "markdown",
      "source": "De hecho utilizando la librería NeuralNetTools podemos visualizar la estructura de la red."
    },
    {
      "metadata": {
        "trusted": false
      },
      "cell_type": "code",
      "source": "library(NeuralNetTools)\nplotnet(model)",
      "execution_count": null,
      "outputs": []
    },
    {
      "metadata": {},
      "cell_type": "markdown",
      "source": "Donde el grosor de la línea es proporcional al valor absoluto del coeficiente estimado por la red y el color el signo del coeficiente."
    },
    {
      "metadata": {},
      "cell_type": "markdown",
      "source": "Hasta ahora hemos estado entrenando con el algoritmo de backpropagation estándar. Sim embargo la librería nos permite entrenar con variantes del algoritmo estándar, entre las que se encuentram: algoritmo+momento y algoritmo+weightdecay y el algoritmo conjugado de gradiente.\n\nΔw(t)=η∂E(t)∂w+αΔw(t−1)\nΔw(t)=η∂E(t)∂w+λw\n\nEn el primer caso el aprendizaje se va a apoyar en el gradiente del paso anterior, por tanto presenta inercia, es decir, tiene a conservar el estado del sistema en un instante anterior (t - 1). Esto va a ocasionar que el aprendizaje se acelere o relentice en algunas etapas. En cambio en el segundo caso, la búsqueda de parámetros va a estar sesgada a una región del espacio limitada por la norma 1 o 2 del módulo de los pesos (regularización). En el tercer caso, el paso no es lineal, sino curvo, lo que acelera el aprendizaje aunque requiere un mayor coste computacional ya que calcular las derivadas de segundo orden es mas costoso. Para aplicar estos algoritmos en R hay que modificar el parámetro learnFunc."
    },
    {
      "metadata": {
        "trusted": false
      },
      "cell_type": "code",
      "source": "# Backprop estandar\nmodel1 <- mlp(iris$inputsTrain, iris$targetsTrain, size = c(10,10), \n             outputActFunc = \"Act_Logistic\",\n             learnFunc = \"Std_Backpropagation\",\n             learnFuncParams = c(0.1), # Quiere decir que eta = 0.1\n             maxit = 50, # 50 épocas \n             inputsTest = iris$inputsTest, targetsTest = iris$targetsTest)",
      "execution_count": null,
      "outputs": []
    },
    {
      "metadata": {
        "trusted": false
      },
      "cell_type": "code",
      "source": "# Gradient+momentum\nmodel2 <- mlp(iris$inputsTrain, iris$targetsTrain, size = c(10,10), \n             outputActFunc = \"Act_Logistic\",\n             learnFunc = \"BackpropMomentum\",\n             learnFuncParams = c(0.1,0.1), # Quiere decir que eta = 0.1\n             maxit = 50, # 50 épocas \n             inputsTest = iris$inputsTest, targetsTest = iris$targetsTest)",
      "execution_count": null,
      "outputs": []
    },
    {
      "metadata": {
        "trusted": false
      },
      "cell_type": "code",
      "source": "# Gradient+scaled conjugate gradient\nmodel3 <- mlp(iris$inputsTrain, iris$targetsTrain, size = c(10,10), \n             outputActFunc = \"Act_Logistic\",\n             learnFunc = \"SCG\",\n             learnFuncParams = c(0.1), # Quiere decir que eta = 0.1\n             maxit = 50, # 50 épocas \n             inputsTest = iris$inputsTest, targetsTest = iris$targetsTest)\n\npar(mfrow = c(1,3))\nplotIterativeError(model1)\nplotIterativeError(model2)\nplotIterativeError(model3)",
      "execution_count": null,
      "outputs": []
    },
    {
      "metadata": {},
      "cell_type": "markdown",
      "source": "El módulo de los pesos al entrenar con weight decay puede verse dibujando la red, donde recordemos que el grosor de las líneas indica el módulo."
    },
    {
      "metadata": {
        "trusted": false
      },
      "cell_type": "code",
      "source": "# Gradient+weight decay\nmodel4 <- mlp(iris$inputsTrain, iris$targetsTrain, size = c(10,10), \n             outputActFunc = \"Act_Logistic\",\n             learnFunc = \"BackpropWeightDecay\",\n             learnFuncParams = c(0.1,0.001), # Quiere decir que eta = 0.1 y lamda = 0.001\n             maxit = 1000, # 50 épocas \n             inputsTest = iris$inputsTest, targetsTest = iris$targetsTest)\npar(mfrow=c(1,2))\nplotnet(model)\nplotnet(model4)",
      "execution_count": null,
      "outputs": []
    },
    {
      "metadata": {},
      "cell_type": "markdown",
      "source": "## 3 Construcción de una red neuronal - CIRCLE"
    },
    {
      "metadata": {},
      "cell_type": "markdown",
      "source": "La separación de las clases del dataset de iris no es un caso que requiera demasiada no linealidad. De hecho, en asignaturas anteriores visteis como métodos lineales daban un resultado bastante bueno sin necesidad de acudir a métodos no lineales. Por ello vamos a construir una red neuronal pero en este caso para un dataset cuya separación de las clases requiera no linealidad, concretamente en el dataset del círculo."
    },
    {
      "metadata": {
        "trusted": false
      },
      "cell_type": "code",
      "source": "### Cargamos los datos\ndf <- read.table(\"/home/jorge/Escritorio/Master_DataScience/MachineLearningI/Data/circle.txt\")\ncolnames(df) <- c(\"x1\",\"x2\",\"y\")",
      "execution_count": null,
      "outputs": []
    },
    {
      "metadata": {
        "trusted": false
      },
      "cell_type": "code",
      "source": "### Visualizamos los datos\nind.A <- which(df$y == 0)\nind.B <- which(df$y == 1)\nplot(df$x1[ind.A],df$x2[ind.A], pch = 21, xlab = \"Coordinate x1\", ylab = \"Coordinate x2\")\npoints(df$x1[ind.B],df$x2[ind.B], pch = 19)\nlegend(\"topright\", legend = c(\"A\", \"B\"),\n      pch = c(21,19))",
      "execution_count": null,
      "outputs": []
    },
    {
      "metadata": {},
      "cell_type": "markdown",
      "source": "A medida que aumentamos el número de neuronas ocultas y/o capas aumentamos la nolinealidad del sistema. ¿Para qué número de neuronas podemos encontrar una buena clasificación de las clases?"
    },
    {
      "metadata": {
        "trusted": false
      },
      "cell_type": "code",
      "source": "library(verification)",
      "execution_count": null,
      "outputs": []
    },
    {
      "metadata": {
        "trusted": false
      },
      "cell_type": "code",
      "source": "aucTRAIN <- aucTEST <- vector(\"numeric\", length = 10)\nfor (i in 1:10) {\n  model <- mlp(df[1:80,-3], df[1:80,3], size = i, \n               outputActFunc = \"Act_Logistic\",\n               learnFuncParams = c(0.1), # Quiere decir que eta = 0.1\n               maxit = 1000) # 50 épocas \n  predTRAIN <- predict(model,df[1:80,-3])\n  aucTRAIN[i] <- roc.area(df$y[1:80],predTRAIN)$A\n  predTEST <- predict(model,df[81:100,-3])\n  aucTEST[i] <- roc.area(df$y[81:100],predTEST)$A\n}\nplot(1:10,aucTRAIN,type = \"l\", col = \"black\", ylab = \"AUC\", xlab = \"Neuronas ocultas\")\nlines(1:10,aucTEST,col = \"red\")",
      "execution_count": null,
      "outputs": []
    },
    {
      "metadata": {},
      "cell_type": "markdown",
      "source": "Ahora vamos a comprobar lo rápido que aprende la red variando la tasa de aprendizaje. Para ello vamos a dibujar el auc de varios modelos que han sido entrenados con valores de eta diferentes."
    },
    {
      "metadata": {
        "trusted": false
      },
      "cell_type": "code",
      "source": "par(mfrow=c(2,5))\nfor (i in 1:10) {\n  model <- mlp(df[1:80,-3], df[1:80,3], size = 2, \n               outputActFunc = \"Act_Logistic\",\n               learnFuncParams = c(i*0.1), # Quiere decir que eta = 0.1\n               maxit = 1000) # 50 épocas \n  \n  plotIterativeError(model)\n}",
      "execution_count": null,
      "outputs": []
    },
    {
      "metadata": {},
      "cell_type": "markdown",
      "source": "Como se puede observar la red aprende más lento cuando la tasa de aprendizaje es menor, sin embargo el aprendizaje es más estable ya que no hay cambios abruptos por cada paso en la superficie de error."
    },
    {
      "metadata": {},
      "cell_type": "markdown",
      "source": "Es interesante observar la probabilidad que asigna nuestra red en cada región del espacio formado por los predictores a pertenecer a una clase u otra. Para ello vamos a construir una rejilla y a evaluarla en nuestra red tal como indica el código de abajo. Primero generamos una rejilla en el espacio comprendido por los predictores x1 y x2."
    },
    {
      "metadata": {
        "trusted": false
      },
      "cell_type": "code",
      "source": "# Construcción de la rejilla\nx1 <- seq(from = -1, to = 1, by = 0.1)\nn <- length(x1)\nx1 <- rep(x1,n)\nm <- 0\nx2 <- vector(\"numeric\", length(x1))\nfor (i in 1:n) {\n  m <- (i-1)*n + 1\n  x2[m:(i*n)] <- rep(x1[i],n)\n}\nplot(x1,x2)",
      "execution_count": null,
      "outputs": []
    },
    {
      "metadata": {},
      "cell_type": "markdown",
      "source": "Ahora vamos a evaluar esta rejilla en distintas redes, variando en (a) el número de épocas y (b) el número de neuronas ocultas."
    },
    {
      "metadata": {
        "trusted": false
      },
      "cell_type": "code",
      "source": "par(mfrow=c(2,4))\nfor (j in c(1,5)){\n  for (i in c(1,100,500,1000)) {\n    model <- mlp(df[,-3], df[,3], size = j, \n                 outputActFunc = \"Act_Logistic\",\n                 learnFuncParams = 0.1, # Quiere decir que eta = 0.1\n                 maxit = i) # 50 épocas \n    pred <- predict(model,cbind(x1,x2))\n    image(matrix(pred, nrow = n, ncol = n), zlim = c(0,1), col = gray.colors(10))\n    \n  }\n}",
      "execution_count": null,
      "outputs": []
    },
    {
      "metadata": {},
      "cell_type": "markdown",
      "source": "Se puede observar en la figura anterior como cuando solo hay 1 neurona oculta, la red no tiene suficiente flexibilidad como para ajustar un círculo (primeras 4 figuras). En cambio, si aumentamos el número de neuronas oculta a 5, la red es capaz de generar un círculo como figura geométrica de separación entre clases (siempre y cuando se le deje entrenar un número suficiente de épocas)."
    },
    {
      "metadata": {},
      "cell_type": "markdown",
      "source": "## 4 Cross validación de redes neuronales - CARET"
    },
    {
      "metadata": {},
      "cell_type": "markdown",
      "source": "Como visteis en asignaturas anteriores, lo importante de un modelo es que sea capaz de extrapolar sus buenos resultados a muestras de la población que no hayan sido previamente “vistas” por el modelo. Es decir, evitar en la medida de lo posible que el modelo no esté excesivamente ajustado a la muestra de entrenamiento y por tanto tenga capacidad de generalización. La capacidad de generalización de un modelo depende en gran medida de los grados de libertad del sistema, ya que cuantos más parámetros sea capaz de ajustar un modelo más flexibilidad tendrá para ajustarse completamente a los datos. Por tanto, para encontrar una configuración que evite el sobreajuste existen diversosprocedimientos destacando entre ellos la cross validación. Si recordais, cross validar consiste en dividir la muestra en un número k de folds e ir alternando dichos folds en la etapa de entrenamiento. Mediante esta manera uno puede encontrar una configuración que generalice bien, por ejemplo encontrar el parámetro k en el método de vecinos cercanos… o el número de neuronas ocultas en una red neuronal.\n\nPara realizar cross validación en R hay que utilizar el paquete CARET, que ya utilizasteis en sesiones anteriores. Este paquete admite una serie de librerías correspondientes a diversos métodos de machine learning entre las que se encuentra la librería RSNNS (otro motivo más por el que usar esta librería a la hora de construir una red neuronal). En esta sección vamos a utilizar el paquete CARET para encontrar el número de neuronas ocultas de una red neuronal, tanto de 1 capa como de varias capas."
    },
    {
      "metadata": {
        "trusted": false
      },
      "cell_type": "code",
      "source": "library(caret)",
      "execution_count": null,
      "outputs": []
    },
    {
      "metadata": {
        "trusted": false
      },
      "cell_type": "code",
      "source": "# Cross validation con 4 folds para una red neuronal con una capa oculta\ndf$y <- as.factor(df$y)\nctrl <- trainControl(method = \"cv\", number = 4)\nfit <- train(y ~ .,\n            data = df,\n            method = \"mlp\",\n            trControl = ctrl,\n            preProc = c(\"center\", \"scale\"))\nfit$results\n\n##   size  Accuracy     Kappa AccuracySD   KappaSD\n## 1    1 0.7101603 0.0000000 0.01311097 0.0000000\n## 2    3 0.7514103 0.2648595 0.06127776 0.3224029\n## 3    5 0.7630449 0.2653748 0.13387515 0.4317299",
      "execution_count": null,
      "outputs": []
    },
    {
      "metadata": {},
      "cell_type": "markdown",
      "source": "En el cuadro anterior, la columna “size” indica el número de neuronas ocultas. En este caso se ha cross validado para configuraciones de 1, 3 y 5 neuronas ocultas. Como se puede observar la configuración de 5 neuronas ocultas presenta un menor Root Mean Squared Error (RMSE) que el resto de configuraciones. Esto coincide con el rastreo sin cross validar que habíamos utilizado para elaborar una figura anterior, aunque en ese caso la métrica era el AUC. Las configuraciones que prueba (1, 3 y 5 neuronas ocultas) van de acuerdo al grid que CARET cree, internamente, más apropiado rastrear. Sin embargo las configuraciones a rastrear pueden ser explícitamente indicadas por el usuario, tal y como mostramos a continuación."
    },
    {
      "metadata": {
        "trusted": false
      },
      "cell_type": "code",
      "source": "ctrl <- trainControl(method = \"cv\",number = 4,search = \"grid\")\npp <- getModelInfo(model = \"mlp\", regex = TRUE)\npp$mlp$parameters\n\n##   parameter   class         label\n## 1      size numeric #Hidden Units",
      "execution_count": null,
      "outputs": []
    },
    {
      "metadata": {},
      "cell_type": "markdown",
      "source": "Utiliamos la función getModelInfo para conocer el nombre del parámetro que define el número de neuronas ocultas, en este caso: size. El nombre lo necesitamos para indicar el grid, o conjunto de valores, a cross validar."
    },
    {
      "metadata": {
        "trusted": false
      },
      "cell_type": "code",
      "source": "grid <- expand.grid(size = 1:10)\nfit <- train(y ~ .,\n            data = df,\n            method = \"mlp\",\n            trControl = ctrl,\n            tuneGrid = grid,     \n            preProc = c(\"center\", \"scale\"))",
      "execution_count": null,
      "outputs": []
    },
    {
      "metadata": {
        "trusted": false
      },
      "cell_type": "code",
      "source": "fit$results\n\n##    size  Accuracy     Kappa AccuracySD   KappaSD\n## 1     1 0.7101603 0.0000000 0.01311097 0.0000000\n## 2     2 0.6901603 0.1362818 0.03531446 0.1653160\n## 3     3 0.8126603 0.4621689 0.10958398 0.3677465\n## 4     4 0.7301603 0.2037972 0.04792373 0.2359864\n## 5     5 0.8226603 0.4965307 0.10986830 0.3816957\n## 6     6 0.8214103 0.4840330 0.11026506 0.3682603\n## 7     7 0.8317949 0.5187162 0.12965133 0.4245508\n## 8     8 0.7701603 0.2860132 0.08725207 0.3502377\n## 9     9 0.7786218 0.3845427 0.05860843 0.2639396\n## 10   10 0.7601603 0.2724831 0.07130122 0.3150705",
      "execution_count": null,
      "outputs": []
    },
    {
      "metadata": {
        "trusted": false
      },
      "cell_type": "code",
      "source": "fit$bestTune\n\n##   size\n## 7    7",
      "execution_count": null,
      "outputs": []
    },
    {
      "metadata": {},
      "cell_type": "markdown",
      "source": "La totalidad de los resultados puede verse en la tabla anterior. En este caso el número óptimo de neuronas ocultas es 9. El propio objeto resultante (fit) nos indica explícitamente la mejor configuración dentro de las que ha rastreado:"
    },
    {
      "metadata": {
        "trusted": false
      },
      "cell_type": "code",
      "source": "fit$bestTune\n\n##   size\n## 7    7",
      "execution_count": null,
      "outputs": []
    },
    {
      "metadata": {},
      "cell_type": "markdown",
      "source": "El paquete CARET también te permite hacer cross validación para configuraciones de más de una capa. En el siguiente ejemplo vamos a ver como esto es posible. El principal cambio radica en que el método ya no es mlp sino mlpML y que el nombre de las neuronas ocultas ya no es “size”, sino “layer1”, “layer2” y “layer3”. Aunque utilizando la función mlp del paquete RSNNS uno puede construir una red con todas las capas ocultas que desee, en CARET el top está en 3 capas ocultas."
    },
    {
      "metadata": {
        "trusted": false
      },
      "cell_type": "code",
      "source": "grid = expand.grid(layer1 = 1:10,\n                       layer2 = 1:10,\n                       layer3 = 0) # Si no queremos que haya tercera capa entonces layer3 = 0\nfit <- train(y ~ .,\n            data = df,\n            method = \"mlpML\",\n            trControl = ctrl,\n            tuneGrid = grid,     \n            preProc = c(\"center\", \"scale\"))",
      "execution_count": null,
      "outputs": []
    },
    {
      "metadata": {
        "trusted": false
      },
      "cell_type": "code",
      "source": "image(matrix(fit$results$Accuracy,nrow = 10,ncol = 10), col = grey.colors(n))",
      "execution_count": null,
      "outputs": []
    },
    {
      "metadata": {
        "trusted": false
      },
      "cell_type": "code",
      "source": "fit$bestTune\n\n##   layer1 layer2 layer3\n## 1      1      1      0",
      "execution_count": null,
      "outputs": []
    },
    {
      "metadata": {},
      "cell_type": "markdown",
      "source": "## 5 Construcción de una red neuronal - METEO"
    },
    {
      "metadata": {},
      "cell_type": "markdown",
      "source": "En esta parte de la práctica teneis que elaborar una red neuronal que sea capaz de predecir la ocurrencia de precipitación en Lisboa de manera más precisa que un modelo lineal generalizado con familia binomial."
    },
    {
      "metadata": {},
      "cell_type": "markdown",
      "source": "La parte de carga de datos y preproceso aparece en el siguiente código (dado que ya lo habéis visto en anteriores prácticas en las que ya habéis utilizado este dataset):"
    },
    {
      "metadata": {
        "trusted": false
      },
      "cell_type": "code",
      "source": "# # Cargamos los datos\n# load(\"/home/jorge/Escritorio/DataMining/MasterDataScience/meteo.RData\")\n# # Convertimos a binomial\n# y[which(y <  1)] <- 0\n# y[which(y >= 1)] <- 1\n# # Divido en train y test -> 80% y 20% respectivamente\n# ind.train <- sample(1:length(y),size = round(0.8*length(y)))\n# ind.test <- setdiff(1:length(y),ind.train)",
      "execution_count": null,
      "outputs": []
    }
  ],
  "metadata": {
    "kernelspec": {
      "name": "r",
      "display_name": "R",
      "language": "R"
    },
    "language_info": {
      "mimetype": "text/x-r-source",
      "name": "R",
      "pygments_lexer": "r",
      "version": "3.4.1",
      "file_extension": ".r",
      "codemirror_mode": "r"
    }
  },
  "nbformat": 4,
  "nbformat_minor": 2
}