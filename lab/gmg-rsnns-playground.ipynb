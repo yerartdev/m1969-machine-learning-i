{
 "cells": [
  {
   "cell_type": "markdown",
   "metadata": {},
   "source": [
    "## Bibliotecas"
   ]
  },
  {
   "cell_type": "code",
   "execution_count": 1,
   "metadata": {},
   "outputs": [
    {
     "name": "stderr",
     "output_type": "stream",
     "text": [
      "Loading required package: Rcpp\n"
     ]
    }
   ],
   "source": [
    "# https://cran.r-project.org/web/packages/RSNNS/RSNNS.pdf\n",
    "# https://cran.r-project.org/web/packages/RSNNS/index.html\n",
    "# https://www.rdocumentation.org/packages/RSNNS/versions/0.4-11\n",
    "# https://rdrr.io/cran/RSNNS/man/mlp.html\n",
    "# https://rdrr.io/cran/RSNNS/man/RSNNS-package.html\n",
    "# https://github.com/cbergmeir/RSNNS\n",
    "# https://github.com/cran/RSNNS\n",
    "library('RSNNS')"
   ]
  },
  {
   "cell_type": "code",
   "execution_count": 2,
   "metadata": {},
   "outputs": [],
   "source": [
    "#install.packages('dslabs')\n",
    "# https://rdrr.io/cran/dslabs/\n",
    "# https://github.com/rafalab/dslabs\n",
    "# https://www.rdocumentation.org/packages/dslabs/versions/0.5.2\n",
    "# https://cran.r-project.org/web/packages/dslabs/index.html\n",
    "# https://cran.r-project.org/web/packages/dslabs/dslabs.pdf\n",
    "library('dslabs')"
   ]
  },
  {
   "cell_type": "markdown",
   "metadata": {},
   "source": [
    "## Datasets"
   ]
  },
  {
   "cell_type": "markdown",
   "metadata": {},
   "source": [
    "### mnist"
   ]
  },
  {
   "cell_type": "code",
   "execution_count": 3,
   "metadata": {},
   "outputs": [],
   "source": [
    "# http://beyondvalence.blogspot.com/2014/03/neural-network-prediction-of.html\n",
    "mnist <- read_mnist()"
   ]
  },
  {
   "cell_type": "code",
   "execution_count": 4,
   "metadata": {},
   "outputs": [
    {
     "name": "stdout",
     "output_type": "stream",
     "text": [
      "List of 2\n",
      " $ train:List of 2\n",
      "  ..$ images: int [1:60000, 1:784] 0 0 0 0 0 0 0 0 0 0 ...\n",
      "  ..$ labels: int [1:60000] 5 0 4 1 9 2 1 3 1 4 ...\n",
      " $ test :List of 2\n",
      "  ..$ images: int [1:10000, 1:784] 0 0 0 0 0 0 0 0 0 0 ...\n",
      "  ..$ labels: int [1:10000] 7 2 1 0 4 1 4 9 5 9 ...\n"
     ]
    }
   ],
   "source": [
    "str(mnist)"
   ]
  },
  {
   "cell_type": "markdown",
   "metadata": {},
   "source": [
    "### iris"
   ]
  },
  {
   "cell_type": "code",
   "execution_count": 5,
   "metadata": {},
   "outputs": [
    {
     "name": "stdout",
     "output_type": "stream",
     "text": [
      "'data.frame':\t150 obs. of  5 variables:\n",
      " $ Sepal.Length: num  5.1 4.9 4.7 4.6 5 5.4 4.6 5 4.4 4.9 ...\n",
      " $ Sepal.Width : num  3.5 3 3.2 3.1 3.6 3.9 3.4 3.4 2.9 3.1 ...\n",
      " $ Petal.Length: num  1.4 1.4 1.3 1.5 1.4 1.7 1.4 1.5 1.4 1.5 ...\n",
      " $ Petal.Width : num  0.2 0.2 0.2 0.2 0.2 0.4 0.3 0.2 0.2 0.1 ...\n",
      " $ Species     : Factor w/ 3 levels \"setosa\",\"versicolor\",..: 1 1 1 1 1 1 1 1 1 1 ...\n"
     ]
    }
   ],
   "source": [
    "str(iris)"
   ]
  },
  {
   "cell_type": "markdown",
   "metadata": {},
   "source": [
    "## Preproceso"
   ]
  },
  {
   "cell_type": "markdown",
   "metadata": {},
   "source": [
    "### iris"
   ]
  },
  {
   "cell_type": "code",
   "execution_count": 6,
   "metadata": {},
   "outputs": [],
   "source": [
    "# shuffle (with sample)\n",
    "set.seed(1)\n",
    "iris_s <- iris[sample(1:nrow(iris), length(1:nrow(iris))), 1:ncol(iris)] \n"
   ]
  },
  {
   "cell_type": "code",
   "execution_count": 7,
   "metadata": {},
   "outputs": [],
   "source": [
    "# Split Train/Test\n",
    "iris_s <- splitForTrainingAndTest(iris_s[, 1:4], # irisValues (features)\n",
    "                                  decodeClassLabels(iris_s[, 5]), #irisTargets Hot encoded \n",
    "                                  ratio = 0.15)"
   ]
  },
  {
   "cell_type": "code",
   "execution_count": 8,
   "metadata": {},
   "outputs": [
    {
     "name": "stdout",
     "output_type": "stream",
     "text": [
      "List of 4\n",
      " $ inputsTrain : num [1:127, 1:4] 5.1 5.7 5.4 6.3 4.7 7.4 6.3 5.6 5.5 4.4 ...\n",
      "  ..- attr(*, \"dimnames\")=List of 2\n",
      "  .. ..$ : chr [1:127] \"40\" \"56\" \"85\" \"134\" ...\n",
      "  .. ..$ : chr [1:4] \"Sepal.Length\" \"Sepal.Width\" \"Petal.Length\" \"Petal.Width\"\n",
      " $ targetsTrain: num [1:127, 1:3] 1 0 0 0 1 0 0 0 0 1 ...\n",
      "  ..- attr(*, \"dimnames\")=List of 2\n",
      "  .. ..$ : NULL\n",
      "  .. ..$ : chr [1:3] \"setosa\" \"versicolor\" \"virginica\"\n",
      " $ inputsTest  : num [1:23, 1:4] 5.6 5 6.3 7.2 6.3 4.9 5.4 6.9 6.1 6 ...\n",
      "  ..- attr(*, \"dimnames\")=List of 2\n",
      "  .. ..$ : chr [1:23] \"89\" \"36\" \"147\" \"126\" ...\n",
      "  .. ..$ : chr [1:4] \"Sepal.Length\" \"Sepal.Width\" \"Petal.Length\" \"Petal.Width\"\n",
      " $ targetsTest : num [1:23, 1:3] 0 1 0 0 0 1 1 0 0 0 ...\n",
      "  ..- attr(*, \"dimnames\")=List of 2\n",
      "  .. ..$ : NULL\n",
      "  .. ..$ : chr [1:3] \"setosa\" \"versicolor\" \"virginica\"\n"
     ]
    }
   ],
   "source": [
    "str(iris_s)"
   ]
  },
  {
   "cell_type": "code",
   "execution_count": 9,
   "metadata": {},
   "outputs": [],
   "source": [
    "# Standarization (Normalization and Scale)\n",
    "iris_s <- normTrainingAndTestSet(iris_s)"
   ]
  },
  {
   "cell_type": "code",
   "execution_count": 10,
   "metadata": {},
   "outputs": [
    {
     "name": "stdout",
     "output_type": "stream",
     "text": [
      "List of 4\n",
      " $ inputsTrain : num [1:127, 1:4] -0.848 -0.134 -0.491 0.58 -1.324 ...\n",
      "  ..- attr(*, \"normParams\")=List of 3\n",
      "  .. ..$ colMeans: num [1:4] 5.81 3.05 3.72 1.19\n",
      "  .. ..$ colSds  : num [1:4] 0.84 0.435 1.757 0.764\n",
      "  .. ..$ type    : chr \"norm\"\n",
      " $ targetsTrain: num [1:127, 1:3] 1 0 0 0 1 0 0 0 0 1 ...\n",
      "  ..- attr(*, \"dimnames\")=List of 2\n",
      "  .. ..$ : NULL\n",
      "  .. ..$ : chr [1:3] \"setosa\" \"versicolor\" \"virginica\"\n",
      " $ inputsTest  : num [1:23, 1:4] -0.253 -0.967 0.58 1.651 0.58 ...\n",
      "  ..- attr(*, \"normParams\")=List of 3\n",
      "  .. ..$ colMeans: num [1:4] 5.81 3.05 3.72 1.19\n",
      "  .. ..$ colSds  : num [1:4] 0.84 0.435 1.757 0.764\n",
      "  .. ..$ type    : chr \"norm\"\n",
      " $ targetsTest : num [1:23, 1:3] 0 1 0 0 0 1 1 0 0 0 ...\n",
      "  ..- attr(*, \"dimnames\")=List of 2\n",
      "  .. ..$ : NULL\n",
      "  .. ..$ : chr [1:3] \"setosa\" \"versicolor\" \"virginica\"\n"
     ]
    }
   ],
   "source": [
    "str(iris_s)"
   ]
  },
  {
   "cell_type": "markdown",
   "metadata": {},
   "source": [
    "### mnist"
   ]
  },
  {
   "cell_type": "code",
   "execution_count": 11,
   "metadata": {},
   "outputs": [
    {
     "name": "stdout",
     "output_type": "stream",
     "text": [
      "List of 2\n",
      " $ train:List of 2\n",
      "  ..$ images: num [1:60000, 1:784] 0 0 0 0 0 0 0 0 0 0 ...\n",
      "  ..$ labels: num [1:60000, 1:10] 0 1 0 0 0 0 0 0 0 0 ...\n",
      "  .. ..- attr(*, \"dimnames\")=List of 2\n",
      "  .. .. ..$ : NULL\n",
      "  .. .. ..$ : chr [1:10] \"0\" \"1\" \"2\" \"3\" ...\n",
      " $ test :List of 2\n",
      "  ..$ images: num [1:10000, 1:784] 0 0 0 0 0 0 0 0 0 0 ...\n",
      "  ..$ labels: num [1:10000, 1:10] 0 0 0 1 0 0 0 0 0 0 ...\n",
      "  .. ..- attr(*, \"dimnames\")=List of 2\n",
      "  .. .. ..$ : NULL\n",
      "  .. .. ..$ : chr [1:10] \"0\" \"1\" \"2\" \"3\" ...\n"
     ]
    }
   ],
   "source": [
    "# En esta caso todos los píxeles tienen el mismo rango por lo que solamente necesitan ser escalados\n",
    "# DUDA: ¿https://www.rdocumentation.org/packages/base/versions/3.5.2/topics/scale?\n",
    "# https://stats.stackexchange.com/questions/230166/scale-mnist-data-to-0-9-0-9\n",
    "# https://github.com/Srungeer-Simha/MNIST-digit-recognition-using-SVM/blob/master/MNIST%20digit%20recognition%20-%20SVM.R\n",
    "# https://rrighart.github.io/Digits/\n",
    "# https://towardsdatascience.com/image-classification-in-10-minutes-with-mnist-dataset-54c35b77a38d\n",
    "mnist_s <- list(train = list(images = mnist$train$images/255, \n",
    "                             labels = decodeClassLabels(mnist$train$labels)\n",
    "                            ), \n",
    "                test  = list(images = mnist$test$images/255, \n",
    "                             labels = decodeClassLabels(mnist$test$labels)\n",
    "                            )\n",
    "               )\n",
    "str(mnist_s)"
   ]
  },
  {
   "cell_type": "markdown",
   "metadata": {},
   "source": [
    "##  Modelo MLP"
   ]
  },
  {
   "cell_type": "markdown",
   "metadata": {},
   "source": [
    "### Iris"
   ]
  },
  {
   "cell_type": "code",
   "execution_count": 12,
   "metadata": {},
   "outputs": [],
   "source": [
    "# Train\n",
    "model_iris <- mlp(iris_s$inputsTrain, iris_s$targetsTrain, \n",
    "                  size = 5, learnFuncParams = 0.1, maxit = 60, \n",
    "                  inputsTest = iris_s$inputsTest, targetsTest = iris_s$targetsTest)"
   ]
  },
  {
   "cell_type": "code",
   "execution_count": 13,
   "metadata": {},
   "outputs": [
    {
     "data": {
      "text/plain": [
       "Class: mlp->rsnns\n",
       "Number of inputs: 4 \n",
       "Number of outputs: 3 \n",
       "Maximal iterations: 60 \n",
       "Initialization function: Randomize_Weights \n",
       "Initialization function parameters: -0.3 0.3 \n",
       "Learning function: Std_Backpropagation \n",
       "Learning function parameters: 0.1 \n",
       "Update function:Topological_Order\n",
       "Update function parameters: 0 \n",
       "Patterns are shuffled internally: TRUE \n",
       "Compute error in every iteration: TRUE \n",
       "Architecture Parameters:\n",
       "$size\n",
       "[1] 5\n",
       "\n",
       "All members of model:\n",
       " [1] \"nInputs\"               \"maxit\"                 \"initFunc\"             \n",
       " [4] \"initFuncParams\"        \"learnFunc\"             \"learnFuncParams\"      \n",
       " [7] \"updateFunc\"            \"updateFuncParams\"      \"shufflePatterns\"      \n",
       "[10] \"computeIterativeError\" \"snnsObject\"            \"archParams\"           \n",
       "[13] \"IterativeFitError\"     \"IterativeTestError\"    \"fitted.values\"        \n",
       "[16] \"fittedTestValues\"      \"nOutputs\"             "
      ]
     },
     "metadata": {},
     "output_type": "display_data"
    }
   ],
   "source": [
    "model_iris"
   ]
  },
  {
   "cell_type": "code",
   "execution_count": 14,
   "metadata": {},
   "outputs": [
    {
     "data": {
      "text/html": [
       "<dl>\n",
       "\t<dt>$infoHeader</dt>\n",
       "\t\t<dd><table>\n",
       "<thead><tr><th scope=col>name</th><th scope=col>value</th></tr></thead>\n",
       "<tbody>\n",
       "\t<tr><td>no. of units       </td><td>12                 </td></tr>\n",
       "\t<tr><td>no. of connections </td><td>35                 </td></tr>\n",
       "\t<tr><td>no. of unit types  </td><td>0                  </td></tr>\n",
       "\t<tr><td>no. of site types  </td><td>0                  </td></tr>\n",
       "\t<tr><td>learning function  </td><td>Std_Backpropagation</td></tr>\n",
       "\t<tr><td>update function    </td><td>Topological_Order  </td></tr>\n",
       "</tbody>\n",
       "</table>\n",
       "</dd>\n",
       "\t<dt>$unitDefinitions</dt>\n",
       "\t\t<dd><table>\n",
       "<thead><tr><th scope=col>unitNo</th><th scope=col>unitName</th><th scope=col>unitAct</th><th scope=col>unitBias</th><th scope=col>type</th><th scope=col>posX</th><th scope=col>posY</th><th scope=col>posZ</th><th scope=col>actFunc</th><th scope=col>outFunc</th><th scope=col>sites</th></tr></thead>\n",
       "<tbody>\n",
       "\t<tr><td> 1               </td><td>Input_1          </td><td>-0.8481681347    </td><td> 0.06878698      </td><td>UNIT_INPUT       </td><td>1                </td><td>0                </td><td>0                </td><td>Act_Identity     </td><td>Out_Identity     </td><td>                 </td></tr>\n",
       "\t<tr><td> 2               </td><td>Input_2          </td><td> 1.7172917128    </td><td> 0.03429574      </td><td>UNIT_INPUT       </td><td>2                </td><td>0                </td><td>0                </td><td>Act_Identity     </td><td>Out_Identity     </td><td>                 </td></tr>\n",
       "\t<tr><td> 3               </td><td>Input_3          </td><td>-1.0353536606    </td><td>-0.10273361      </td><td>UNIT_INPUT       </td><td>3                </td><td>0                </td><td>0                </td><td>Act_Identity     </td><td>Out_Identity     </td><td>                 </td></tr>\n",
       "\t<tr><td> 4               </td><td>Input_4          </td><td>-1.0281265974    </td><td>-0.02812114      </td><td>UNIT_INPUT       </td><td>4                </td><td>0                </td><td>0                </td><td>Act_Identity     </td><td>Out_Identity     </td><td>                 </td></tr>\n",
       "\t<tr><td> 5               </td><td>Hidden_2_1       </td><td> 0.9967541695    </td><td> 1.97652531      </td><td>UNIT_HIDDEN      </td><td>1                </td><td>2                </td><td>0                </td><td>Act_Logistic     </td><td>Out_Identity     </td><td>                 </td></tr>\n",
       "\t<tr><td> 6               </td><td>Hidden_2_2       </td><td> 0.0144360233    </td><td> 0.38606557      </td><td>UNIT_HIDDEN      </td><td>2                </td><td>2                </td><td>0                </td><td>Act_Logistic     </td><td>Out_Identity     </td><td>                 </td></tr>\n",
       "\t<tr><td> 7               </td><td>Hidden_2_3       </td><td> 0.9990627170    </td><td> 2.55375266      </td><td>UNIT_HIDDEN      </td><td>3                </td><td>2                </td><td>0                </td><td>Act_Logistic     </td><td>Out_Identity     </td><td>                 </td></tr>\n",
       "\t<tr><td> 8               </td><td>Hidden_2_4       </td><td> 0.0099294875    </td><td> 0.51586378      </td><td>UNIT_HIDDEN      </td><td>4                </td><td>2                </td><td>0                </td><td>Act_Logistic     </td><td>Out_Identity     </td><td>                 </td></tr>\n",
       "\t<tr><td> 9               </td><td>Hidden_2_5       </td><td> 0.0052233879    </td><td> 1.28743649      </td><td>UNIT_HIDDEN      </td><td>5                </td><td>2                </td><td>0                </td><td>Act_Logistic     </td><td>Out_Identity     </td><td>                 </td></tr>\n",
       "\t<tr><td>10               </td><td>Output_setosa    </td><td> 0.9603418708    </td><td> 0.01950675      </td><td>UNIT_OUTPUT      </td><td>1                </td><td>4                </td><td>0                </td><td>Act_Logistic     </td><td>Out_Identity     </td><td>                 </td></tr>\n",
       "\t<tr><td>11               </td><td>Output_versicolor</td><td> 0.1874711514    </td><td>-4.70711517      </td><td>UNIT_OUTPUT      </td><td>2                </td><td>4                </td><td>0                </td><td>Act_Logistic     </td><td>Out_Identity     </td><td>                 </td></tr>\n",
       "\t<tr><td>12               </td><td>Output_virginica </td><td> 0.0004799908    </td><td>-0.79085964      </td><td>UNIT_OUTPUT      </td><td>3                </td><td>4                </td><td>0                </td><td>Act_Logistic     </td><td>Out_Identity     </td><td>                 </td></tr>\n",
       "</tbody>\n",
       "</table>\n",
       "</dd>\n",
       "\t<dt>$fullWeightMatrix</dt>\n",
       "\t\t<dd><table>\n",
       "<thead><tr><th></th><th scope=col>Input_1</th><th scope=col>Input_2</th><th scope=col>Input_3</th><th scope=col>Input_4</th><th scope=col>Hidden_2_1</th><th scope=col>Hidden_2_2</th><th scope=col>Hidden_2_3</th><th scope=col>Hidden_2_4</th><th scope=col>Hidden_2_5</th><th scope=col>Output_setosa</th><th scope=col>Output_versicolor</th><th scope=col>Output_virginica</th></tr></thead>\n",
       "<tbody>\n",
       "\t<tr><th scope=row>Input_1</th><td>0          </td><td>0          </td><td>0          </td><td>0          </td><td> 0.2084407 </td><td> 0.4157994 </td><td> 0.29920870</td><td> 0.1766878 </td><td> 0.7407534 </td><td> 0.000000  </td><td>0.0000000  </td><td> 0.000000  </td></tr>\n",
       "\t<tr><th scope=row>Input_2</th><td>0          </td><td>0          </td><td>0          </td><td>0          </td><td> 0.1132473 </td><td>-1.2578596 </td><td> 0.07215004</td><td>-1.2827166 </td><td>-1.6325650 </td><td> 0.000000  </td><td>0.0000000  </td><td> 0.000000  </td></tr>\n",
       "\t<tr><th scope=row>Input_3</th><td>0          </td><td>0          </td><td>0          </td><td>0          </td><td>-1.3111145 </td><td> 1.2235508 </td><td>-1.81650555</td><td> 1.4037654 </td><td> 1.6144031 </td><td> 0.000000  </td><td>0.0000000  </td><td> 0.000000  </td></tr>\n",
       "\t<tr><th scope=row>Input_4</th><td>0          </td><td>0          </td><td>0          </td><td>0          </td><td>-2.3104682 </td><td> 0.8072597 </td><td>-2.59405518</td><td> 1.2761834 </td><td> 1.3942412 </td><td> 0.000000  </td><td>0.0000000  </td><td> 0.000000  </td></tr>\n",
       "\t<tr><th scope=row>Hidden_2_1</th><td>0          </td><td>0          </td><td>0          </td><td>0          </td><td> 0.0000000 </td><td> 0.0000000 </td><td> 0.00000000</td><td> 0.0000000 </td><td> 0.0000000 </td><td> 1.679274  </td><td>1.1386397  </td><td>-3.454794  </td></tr>\n",
       "\t<tr><th scope=row>Hidden_2_2</th><td>0          </td><td>0          </td><td>0          </td><td>0          </td><td> 0.0000000 </td><td> 0.0000000 </td><td> 0.00000000</td><td> 0.0000000 </td><td> 0.0000000 </td><td>-1.903718  </td><td>0.5730166  </td><td> 1.307913  </td></tr>\n",
       "\t<tr><th scope=row>Hidden_2_3</th><td>0          </td><td>0          </td><td>0          </td><td>0          </td><td> 0.0000000 </td><td> 0.0000000 </td><td> 0.00000000</td><td> 0.0000000 </td><td> 0.0000000 </td><td> 1.558027  </td><td>2.0798967  </td><td>-3.452202  </td></tr>\n",
       "\t<tr><th scope=row>Hidden_2_4</th><td>0          </td><td>0          </td><td>0          </td><td>0          </td><td> 0.0000000 </td><td> 0.0000000 </td><td> 0.00000000</td><td> 0.0000000 </td><td> 0.0000000 </td><td>-2.434654  </td><td>0.8314279  </td><td> 1.898671  </td></tr>\n",
       "\t<tr><th scope=row>Hidden_2_5</th><td>0          </td><td>0          </td><td>0          </td><td>0          </td><td> 0.0000000 </td><td> 0.0000000 </td><td> 0.00000000</td><td> 0.0000000 </td><td> 0.0000000 </td><td>-2.152975  </td><td>2.1384485  </td><td> 0.844058  </td></tr>\n",
       "\t<tr><th scope=row>Output_setosa</th><td>0          </td><td>0          </td><td>0          </td><td>0          </td><td> 0.0000000 </td><td> 0.0000000 </td><td> 0.00000000</td><td> 0.0000000 </td><td> 0.0000000 </td><td> 0.000000  </td><td>0.0000000  </td><td> 0.000000  </td></tr>\n",
       "\t<tr><th scope=row>Output_versicolor</th><td>0          </td><td>0          </td><td>0          </td><td>0          </td><td> 0.0000000 </td><td> 0.0000000 </td><td> 0.00000000</td><td> 0.0000000 </td><td> 0.0000000 </td><td> 0.000000  </td><td>0.0000000  </td><td> 0.000000  </td></tr>\n",
       "\t<tr><th scope=row>Output_virginica</th><td>0          </td><td>0          </td><td>0          </td><td>0          </td><td> 0.0000000 </td><td> 0.0000000 </td><td> 0.00000000</td><td> 0.0000000 </td><td> 0.0000000 </td><td> 0.000000  </td><td>0.0000000  </td><td> 0.000000  </td></tr>\n",
       "</tbody>\n",
       "</table>\n",
       "</dd>\n",
       "</dl>\n"
      ],
      "text/latex": [
       "\\begin{description}\n",
       "\\item[\\$infoHeader] \\begin{tabular}{r|ll}\n",
       " name & value\\\\\n",
       "\\hline\n",
       "\t no. of units        & 12                 \\\\\n",
       "\t no. of connections  & 35                 \\\\\n",
       "\t no. of unit types   & 0                  \\\\\n",
       "\t no. of site types   & 0                  \\\\\n",
       "\t learning function     & Std\\_Backpropagation\\\\\n",
       "\t update function       & Topological\\_Order  \\\\\n",
       "\\end{tabular}\n",
       "\n",
       "\\item[\\$unitDefinitions] \\begin{tabular}{r|lllllllllll}\n",
       " unitNo & unitName & unitAct & unitBias & type & posX & posY & posZ & actFunc & outFunc & sites\\\\\n",
       "\\hline\n",
       "\t  1                  & Input\\_1           & -0.8481681347       &  0.06878698         & UNIT\\_INPUT        & 1                   & 0                   & 0                   & Act\\_Identity      & Out\\_Identity      &                    \\\\\n",
       "\t  2                  & Input\\_2           &  1.7172917128       &  0.03429574         & UNIT\\_INPUT        & 2                   & 0                   & 0                   & Act\\_Identity      & Out\\_Identity      &                    \\\\\n",
       "\t  3                  & Input\\_3           & -1.0353536606       & -0.10273361         & UNIT\\_INPUT        & 3                   & 0                   & 0                   & Act\\_Identity      & Out\\_Identity      &                    \\\\\n",
       "\t  4                  & Input\\_4           & -1.0281265974       & -0.02812114         & UNIT\\_INPUT        & 4                   & 0                   & 0                   & Act\\_Identity      & Out\\_Identity      &                    \\\\\n",
       "\t  5                    & Hidden\\_2\\_1        &  0.9967541695         &  1.97652531           & UNIT\\_HIDDEN         & 1                     & 2                     & 0                     & Act\\_Logistic        & Out\\_Identity        &                      \\\\\n",
       "\t  6                    & Hidden\\_2\\_2        &  0.0144360233         &  0.38606557           & UNIT\\_HIDDEN         & 2                     & 2                     & 0                     & Act\\_Logistic        & Out\\_Identity        &                      \\\\\n",
       "\t  7                    & Hidden\\_2\\_3        &  0.9990627170         &  2.55375266           & UNIT\\_HIDDEN         & 3                     & 2                     & 0                     & Act\\_Logistic        & Out\\_Identity        &                      \\\\\n",
       "\t  8                    & Hidden\\_2\\_4        &  0.0099294875         &  0.51586378           & UNIT\\_HIDDEN         & 4                     & 2                     & 0                     & Act\\_Logistic        & Out\\_Identity        &                      \\\\\n",
       "\t  9                    & Hidden\\_2\\_5        &  0.0052233879         &  1.28743649           & UNIT\\_HIDDEN         & 5                     & 2                     & 0                     & Act\\_Logistic        & Out\\_Identity        &                      \\\\\n",
       "\t 10                  & Output\\_setosa     &  0.9603418708       &  0.01950675         & UNIT\\_OUTPUT       & 1                   & 4                   & 0                   & Act\\_Logistic      & Out\\_Identity      &                    \\\\\n",
       "\t 11                  & Output\\_versicolor &  0.1874711514       & -4.70711517         & UNIT\\_OUTPUT       & 2                   & 4                   & 0                   & Act\\_Logistic      & Out\\_Identity      &                    \\\\\n",
       "\t 12                  & Output\\_virginica  &  0.0004799908       & -0.79085964         & UNIT\\_OUTPUT       & 3                   & 4                   & 0                   & Act\\_Logistic      & Out\\_Identity      &                    \\\\\n",
       "\\end{tabular}\n",
       "\n",
       "\\item[\\$fullWeightMatrix] \\begin{tabular}{r|llllllllllll}\n",
       "  & Input\\_1 & Input\\_2 & Input\\_3 & Input\\_4 & Hidden\\_2\\_1 & Hidden\\_2\\_2 & Hidden\\_2\\_3 & Hidden\\_2\\_4 & Hidden\\_2\\_5 & Output\\_setosa & Output\\_versicolor & Output\\_virginica\\\\\n",
       "\\hline\n",
       "\tInput\\_1 & 0           & 0           & 0           & 0           &  0.2084407  &  0.4157994  &  0.29920870 &  0.1766878  &  0.7407534  &  0.000000   & 0.0000000   &  0.000000  \\\\\n",
       "\tInput\\_2 & 0           & 0           & 0           & 0           &  0.1132473  & -1.2578596  &  0.07215004 & -1.2827166  & -1.6325650  &  0.000000   & 0.0000000   &  0.000000  \\\\\n",
       "\tInput\\_3 & 0           & 0           & 0           & 0           & -1.3111145  &  1.2235508  & -1.81650555 &  1.4037654  &  1.6144031  &  0.000000   & 0.0000000   &  0.000000  \\\\\n",
       "\tInput\\_4 & 0           & 0           & 0           & 0           & -2.3104682  &  0.8072597  & -2.59405518 &  1.2761834  &  1.3942412  &  0.000000   & 0.0000000   &  0.000000  \\\\\n",
       "\tHidden\\_2\\_1 & 0           & 0           & 0           & 0           &  0.0000000  &  0.0000000  &  0.00000000 &  0.0000000  &  0.0000000  &  1.679274   & 1.1386397   & -3.454794  \\\\\n",
       "\tHidden\\_2\\_2 & 0           & 0           & 0           & 0           &  0.0000000  &  0.0000000  &  0.00000000 &  0.0000000  &  0.0000000  & -1.903718   & 0.5730166   &  1.307913  \\\\\n",
       "\tHidden\\_2\\_3 & 0           & 0           & 0           & 0           &  0.0000000  &  0.0000000  &  0.00000000 &  0.0000000  &  0.0000000  &  1.558027   & 2.0798967   & -3.452202  \\\\\n",
       "\tHidden\\_2\\_4 & 0           & 0           & 0           & 0           &  0.0000000  &  0.0000000  &  0.00000000 &  0.0000000  &  0.0000000  & -2.434654   & 0.8314279   &  1.898671  \\\\\n",
       "\tHidden\\_2\\_5 & 0           & 0           & 0           & 0           &  0.0000000  &  0.0000000  &  0.00000000 &  0.0000000  &  0.0000000  & -2.152975   & 2.1384485   &  0.844058  \\\\\n",
       "\tOutput\\_setosa & 0           & 0           & 0           & 0           &  0.0000000  &  0.0000000  &  0.00000000 &  0.0000000  &  0.0000000  &  0.000000   & 0.0000000   &  0.000000  \\\\\n",
       "\tOutput\\_versicolor & 0           & 0           & 0           & 0           &  0.0000000  &  0.0000000  &  0.00000000 &  0.0000000  &  0.0000000  &  0.000000   & 0.0000000   &  0.000000  \\\\\n",
       "\tOutput\\_virginica & 0           & 0           & 0           & 0           &  0.0000000  &  0.0000000  &  0.00000000 &  0.0000000  &  0.0000000  &  0.000000   & 0.0000000   &  0.000000  \\\\\n",
       "\\end{tabular}\n",
       "\n",
       "\\end{description}\n"
      ],
      "text/markdown": [
       "$infoHeader\n",
       ":   \n",
       "name | value | \n",
       "|---|---|---|---|---|---|\n",
       "| no. of units        | 12                  | \n",
       "| no. of connections  | 35                  | \n",
       "| no. of unit types   | 0                   | \n",
       "| no. of site types   | 0                   | \n",
       "| learning function   | Std_Backpropagation | \n",
       "| update function     | Topological_Order   | \n",
       "\n",
       "\n",
       "\n",
       "$unitDefinitions\n",
       ":   \n",
       "unitNo | unitName | unitAct | unitBias | type | posX | posY | posZ | actFunc | outFunc | sites | \n",
       "|---|---|---|---|---|---|---|---|---|---|---|---|\n",
       "|  1                | Input_1           | -0.8481681347     |  0.06878698       | UNIT_INPUT        | 1                 | 0                 | 0                 | Act_Identity      | Out_Identity      |                   | \n",
       "|  2                | Input_2           |  1.7172917128     |  0.03429574       | UNIT_INPUT        | 2                 | 0                 | 0                 | Act_Identity      | Out_Identity      |                   | \n",
       "|  3                | Input_3           | -1.0353536606     | -0.10273361       | UNIT_INPUT        | 3                 | 0                 | 0                 | Act_Identity      | Out_Identity      |                   | \n",
       "|  4                | Input_4           | -1.0281265974     | -0.02812114       | UNIT_INPUT        | 4                 | 0                 | 0                 | Act_Identity      | Out_Identity      |                   | \n",
       "|  5                | Hidden_2_1        |  0.9967541695     |  1.97652531       | UNIT_HIDDEN       | 1                 | 2                 | 0                 | Act_Logistic      | Out_Identity      |                   | \n",
       "|  6                | Hidden_2_2        |  0.0144360233     |  0.38606557       | UNIT_HIDDEN       | 2                 | 2                 | 0                 | Act_Logistic      | Out_Identity      |                   | \n",
       "|  7                | Hidden_2_3        |  0.9990627170     |  2.55375266       | UNIT_HIDDEN       | 3                 | 2                 | 0                 | Act_Logistic      | Out_Identity      |                   | \n",
       "|  8                | Hidden_2_4        |  0.0099294875     |  0.51586378       | UNIT_HIDDEN       | 4                 | 2                 | 0                 | Act_Logistic      | Out_Identity      |                   | \n",
       "|  9                | Hidden_2_5        |  0.0052233879     |  1.28743649       | UNIT_HIDDEN       | 5                 | 2                 | 0                 | Act_Logistic      | Out_Identity      |                   | \n",
       "| 10                | Output_setosa     |  0.9603418708     |  0.01950675       | UNIT_OUTPUT       | 1                 | 4                 | 0                 | Act_Logistic      | Out_Identity      |                   | \n",
       "| 11                | Output_versicolor |  0.1874711514     | -4.70711517       | UNIT_OUTPUT       | 2                 | 4                 | 0                 | Act_Logistic      | Out_Identity      |                   | \n",
       "| 12                | Output_virginica  |  0.0004799908     | -0.79085964       | UNIT_OUTPUT       | 3                 | 4                 | 0                 | Act_Logistic      | Out_Identity      |                   | \n",
       "\n",
       "\n",
       "\n",
       "$fullWeightMatrix\n",
       ":   \n",
       "| <!--/--> | Input_1 | Input_2 | Input_3 | Input_4 | Hidden_2_1 | Hidden_2_2 | Hidden_2_3 | Hidden_2_4 | Hidden_2_5 | Output_setosa | Output_versicolor | Output_virginica | \n",
       "|---|---|---|---|---|---|---|---|---|---|---|---|\n",
       "| Input_1 | 0           | 0           | 0           | 0           |  0.2084407  |  0.4157994  |  0.29920870 |  0.1766878  |  0.7407534  |  0.000000   | 0.0000000   |  0.000000   | \n",
       "| Input_2 | 0           | 0           | 0           | 0           |  0.1132473  | -1.2578596  |  0.07215004 | -1.2827166  | -1.6325650  |  0.000000   | 0.0000000   |  0.000000   | \n",
       "| Input_3 | 0           | 0           | 0           | 0           | -1.3111145  |  1.2235508  | -1.81650555 |  1.4037654  |  1.6144031  |  0.000000   | 0.0000000   |  0.000000   | \n",
       "| Input_4 | 0           | 0           | 0           | 0           | -2.3104682  |  0.8072597  | -2.59405518 |  1.2761834  |  1.3942412  |  0.000000   | 0.0000000   |  0.000000   | \n",
       "| Hidden_2_1 | 0           | 0           | 0           | 0           |  0.0000000  |  0.0000000  |  0.00000000 |  0.0000000  |  0.0000000  |  1.679274   | 1.1386397   | -3.454794   | \n",
       "| Hidden_2_2 | 0           | 0           | 0           | 0           |  0.0000000  |  0.0000000  |  0.00000000 |  0.0000000  |  0.0000000  | -1.903718   | 0.5730166   |  1.307913   | \n",
       "| Hidden_2_3 | 0           | 0           | 0           | 0           |  0.0000000  |  0.0000000  |  0.00000000 |  0.0000000  |  0.0000000  |  1.558027   | 2.0798967   | -3.452202   | \n",
       "| Hidden_2_4 | 0           | 0           | 0           | 0           |  0.0000000  |  0.0000000  |  0.00000000 |  0.0000000  |  0.0000000  | -2.434654   | 0.8314279   |  1.898671   | \n",
       "| Hidden_2_5 | 0           | 0           | 0           | 0           |  0.0000000  |  0.0000000  |  0.00000000 |  0.0000000  |  0.0000000  | -2.152975   | 2.1384485   |  0.844058   | \n",
       "| Output_setosa | 0           | 0           | 0           | 0           |  0.0000000  |  0.0000000  |  0.00000000 |  0.0000000  |  0.0000000  |  0.000000   | 0.0000000   |  0.000000   | \n",
       "| Output_versicolor | 0           | 0           | 0           | 0           |  0.0000000  |  0.0000000  |  0.00000000 |  0.0000000  |  0.0000000  |  0.000000   | 0.0000000   |  0.000000   | \n",
       "| Output_virginica | 0           | 0           | 0           | 0           |  0.0000000  |  0.0000000  |  0.00000000 |  0.0000000  |  0.0000000  |  0.000000   | 0.0000000   |  0.000000   | \n",
       "\n",
       "\n",
       "\n",
       "\n",
       "\n"
      ],
      "text/plain": [
       "$infoHeader\n",
       "                name               value\n",
       "1       no. of units                  12\n",
       "2 no. of connections                  35\n",
       "3  no. of unit types                   0\n",
       "4  no. of site types                   0\n",
       "5  learning function Std_Backpropagation\n",
       "6    update function   Topological_Order\n",
       "\n",
       "$unitDefinitions\n",
       "   unitNo          unitName       unitAct    unitBias        type posX posY\n",
       "1       1           Input_1 -0.8481681347  0.06878698  UNIT_INPUT    1    0\n",
       "2       2           Input_2  1.7172917128  0.03429574  UNIT_INPUT    2    0\n",
       "3       3           Input_3 -1.0353536606 -0.10273361  UNIT_INPUT    3    0\n",
       "4       4           Input_4 -1.0281265974 -0.02812114  UNIT_INPUT    4    0\n",
       "5       5        Hidden_2_1  0.9967541695  1.97652531 UNIT_HIDDEN    1    2\n",
       "6       6        Hidden_2_2  0.0144360233  0.38606557 UNIT_HIDDEN    2    2\n",
       "7       7        Hidden_2_3  0.9990627170  2.55375266 UNIT_HIDDEN    3    2\n",
       "8       8        Hidden_2_4  0.0099294875  0.51586378 UNIT_HIDDEN    4    2\n",
       "9       9        Hidden_2_5  0.0052233879  1.28743649 UNIT_HIDDEN    5    2\n",
       "10     10     Output_setosa  0.9603418708  0.01950675 UNIT_OUTPUT    1    4\n",
       "11     11 Output_versicolor  0.1874711514 -4.70711517 UNIT_OUTPUT    2    4\n",
       "12     12  Output_virginica  0.0004799908 -0.79085964 UNIT_OUTPUT    3    4\n",
       "   posZ      actFunc      outFunc sites\n",
       "1     0 Act_Identity Out_Identity      \n",
       "2     0 Act_Identity Out_Identity      \n",
       "3     0 Act_Identity Out_Identity      \n",
       "4     0 Act_Identity Out_Identity      \n",
       "5     0 Act_Logistic Out_Identity      \n",
       "6     0 Act_Logistic Out_Identity      \n",
       "7     0 Act_Logistic Out_Identity      \n",
       "8     0 Act_Logistic Out_Identity      \n",
       "9     0 Act_Logistic Out_Identity      \n",
       "10    0 Act_Logistic Out_Identity      \n",
       "11    0 Act_Logistic Out_Identity      \n",
       "12    0 Act_Logistic Out_Identity      \n",
       "\n",
       "$fullWeightMatrix\n",
       "                  Input_1 Input_2 Input_3 Input_4 Hidden_2_1 Hidden_2_2\n",
       "Input_1                 0       0       0       0  0.2084407  0.4157994\n",
       "Input_2                 0       0       0       0  0.1132473 -1.2578596\n",
       "Input_3                 0       0       0       0 -1.3111145  1.2235508\n",
       "Input_4                 0       0       0       0 -2.3104682  0.8072597\n",
       "Hidden_2_1              0       0       0       0  0.0000000  0.0000000\n",
       "Hidden_2_2              0       0       0       0  0.0000000  0.0000000\n",
       "Hidden_2_3              0       0       0       0  0.0000000  0.0000000\n",
       "Hidden_2_4              0       0       0       0  0.0000000  0.0000000\n",
       "Hidden_2_5              0       0       0       0  0.0000000  0.0000000\n",
       "Output_setosa           0       0       0       0  0.0000000  0.0000000\n",
       "Output_versicolor       0       0       0       0  0.0000000  0.0000000\n",
       "Output_virginica        0       0       0       0  0.0000000  0.0000000\n",
       "                   Hidden_2_3 Hidden_2_4 Hidden_2_5 Output_setosa\n",
       "Input_1            0.29920870  0.1766878  0.7407534      0.000000\n",
       "Input_2            0.07215004 -1.2827166 -1.6325650      0.000000\n",
       "Input_3           -1.81650555  1.4037654  1.6144031      0.000000\n",
       "Input_4           -2.59405518  1.2761834  1.3942412      0.000000\n",
       "Hidden_2_1         0.00000000  0.0000000  0.0000000      1.679274\n",
       "Hidden_2_2         0.00000000  0.0000000  0.0000000     -1.903718\n",
       "Hidden_2_3         0.00000000  0.0000000  0.0000000      1.558027\n",
       "Hidden_2_4         0.00000000  0.0000000  0.0000000     -2.434654\n",
       "Hidden_2_5         0.00000000  0.0000000  0.0000000     -2.152975\n",
       "Output_setosa      0.00000000  0.0000000  0.0000000      0.000000\n",
       "Output_versicolor  0.00000000  0.0000000  0.0000000      0.000000\n",
       "Output_virginica   0.00000000  0.0000000  0.0000000      0.000000\n",
       "                  Output_versicolor Output_virginica\n",
       "Input_1                   0.0000000         0.000000\n",
       "Input_2                   0.0000000         0.000000\n",
       "Input_3                   0.0000000         0.000000\n",
       "Input_4                   0.0000000         0.000000\n",
       "Hidden_2_1                1.1386397        -3.454794\n",
       "Hidden_2_2                0.5730166         1.307913\n",
       "Hidden_2_3                2.0798967        -3.452202\n",
       "Hidden_2_4                0.8314279         1.898671\n",
       "Hidden_2_5                2.1384485         0.844058\n",
       "Output_setosa             0.0000000         0.000000\n",
       "Output_versicolor         0.0000000         0.000000\n",
       "Output_virginica          0.0000000         0.000000\n"
      ]
     },
     "metadata": {},
     "output_type": "display_data"
    }
   ],
   "source": [
    "extractNetInfo(model_iris)"
   ]
  },
  {
   "cell_type": "code",
   "execution_count": 15,
   "metadata": {},
   "outputs": [
    {
     "data": {
      "image/png": "[encoded data removed]",
      "text/plain": [
       "plot without title"
      ]
     },
     "metadata": {},
     "output_type": "display_data"
    }
   ],
   "source": [
    "plotIterativeError(model_iris)"
   ]
  },
  {
   "cell_type": "markdown",
   "metadata": {},
   "source": [
    "### mnist"
   ]
  },
  {
   "cell_type": "code",
   "execution_count": 38,
   "metadata": {},
   "outputs": [],
   "source": [
    "#::nota::tarda unos minutos (!!)\n",
    "#::nota::no sé por qué NO funciona la introducción de mnist_s$test\n",
    "model_mnist <- mlp(mnist_s$train$images, mnist_s$train$labels,\n",
    "                   size = 16, learnFuncParams = 0.1, maxit = 100,\n",
    "                   inputTest = mnist_s$test$images, targetsTest = mnist_s$test$labels)"
   ]
  },
  {
   "cell_type": "code",
   "execution_count": 39,
   "metadata": {},
   "outputs": [
    {
     "data": {
      "text/plain": [
       "Class: mlp->rsnns\n",
       "Number of inputs: 784 \n",
       "Number of outputs: 10 \n",
       "Maximal iterations: 100 \n",
       "Initialization function: Randomize_Weights \n",
       "Initialization function parameters: -0.3 0.3 \n",
       "Learning function: Std_Backpropagation \n",
       "Learning function parameters: 0.1 \n",
       "Update function:Topological_Order\n",
       "Update function parameters: 0 \n",
       "Patterns are shuffled internally: TRUE \n",
       "Compute error in every iteration: TRUE \n",
       "Architecture Parameters:\n",
       "$size\n",
       "[1] 16\n",
       "\n",
       "All members of model:\n",
       " [1] \"nInputs\"               \"maxit\"                 \"initFunc\"             \n",
       " [4] \"initFuncParams\"        \"learnFunc\"             \"learnFuncParams\"      \n",
       " [7] \"updateFunc\"            \"updateFuncParams\"      \"shufflePatterns\"      \n",
       "[10] \"computeIterativeError\" \"snnsObject\"            \"archParams\"           \n",
       "[13] \"IterativeFitError\"     \"fitted.values\"         \"nOutputs\"             "
      ]
     },
     "metadata": {},
     "output_type": "display_data"
    }
   ],
   "source": [
    "model_mnist"
   ]
  },
  {
   "cell_type": "code",
   "execution_count": 42,
   "metadata": {},
   "outputs": [
    {
     "data": {
      "text/html": [
       "100"
      ],
      "text/latex": [
       "100"
      ],
      "text/markdown": [
       "100"
      ],
      "text/plain": [
       "[1] 100"
      ]
     },
     "metadata": {},
     "output_type": "display_data"
    }
   ],
   "source": [
    "length(model_mnist$IterativeFitError)"
   ]
  },
  {
   "cell_type": "code",
   "execution_count": 43,
   "metadata": {},
   "outputs": [
    {
     "name": "stdout",
     "output_type": "stream",
     "text": [
      " num [1:60000, 1:10] 1.92e-04 9.99e-01 3.82e-11 1.04e-11 1.35e-11 ...\n"
     ]
    }
   ],
   "source": [
    "str(fitted.values(model_mnist))"
   ]
  },
  {
   "cell_type": "code",
   "execution_count": 40,
   "metadata": {},
   "outputs": [
    {
     "data": {
      "image/png": "[encoded data removed]",
      "text/plain": [
       "plot without title"
      ]
     },
     "metadata": {},
     "output_type": "display_data"
    }
   ],
   "source": [
    "#::GMG::No sale la parte de test en rojo (?!)\n",
    "plotIterativeError(model_mnist)"
   ]
  },
  {
   "cell_type": "markdown",
   "metadata": {},
   "source": [
    "### Predicción"
   ]
  },
  {
   "cell_type": "code",
   "execution_count": 44,
   "metadata": {},
   "outputs": [
    {
     "data": {
      "text/html": [
       "<table>\n",
       "<thead><tr><th></th><th scope=col>Input_1</th><th scope=col>Input_2</th><th scope=col>Input_3</th><th scope=col>Input_4</th><th scope=col>Hidden_2_1</th><th scope=col>Hidden_2_2</th><th scope=col>Hidden_2_3</th><th scope=col>Hidden_2_4</th><th scope=col>Hidden_2_5</th><th scope=col>Output_setosa</th><th scope=col>Output_versicolor</th><th scope=col>Output_virginica</th></tr></thead>\n",
       "<tbody>\n",
       "\t<tr><th scope=row>Input_1</th><td>0          </td><td>0          </td><td>0          </td><td>0          </td><td> 0.2084407 </td><td> 0.4157994 </td><td> 0.29920870</td><td> 0.1766878 </td><td> 0.7407534 </td><td> 0.000000  </td><td>0.0000000  </td><td> 0.000000  </td></tr>\n",
       "\t<tr><th scope=row>Input_2</th><td>0          </td><td>0          </td><td>0          </td><td>0          </td><td> 0.1132473 </td><td>-1.2578596 </td><td> 0.07215004</td><td>-1.2827166 </td><td>-1.6325650 </td><td> 0.000000  </td><td>0.0000000  </td><td> 0.000000  </td></tr>\n",
       "\t<tr><th scope=row>Input_3</th><td>0          </td><td>0          </td><td>0          </td><td>0          </td><td>-1.3111145 </td><td> 1.2235508 </td><td>-1.81650555</td><td> 1.4037654 </td><td> 1.6144031 </td><td> 0.000000  </td><td>0.0000000  </td><td> 0.000000  </td></tr>\n",
       "\t<tr><th scope=row>Input_4</th><td>0          </td><td>0          </td><td>0          </td><td>0          </td><td>-2.3104682 </td><td> 0.8072597 </td><td>-2.59405518</td><td> 1.2761834 </td><td> 1.3942412 </td><td> 0.000000  </td><td>0.0000000  </td><td> 0.000000  </td></tr>\n",
       "\t<tr><th scope=row>Hidden_2_1</th><td>0          </td><td>0          </td><td>0          </td><td>0          </td><td> 0.0000000 </td><td> 0.0000000 </td><td> 0.00000000</td><td> 0.0000000 </td><td> 0.0000000 </td><td> 1.679274  </td><td>1.1386397  </td><td>-3.454794  </td></tr>\n",
       "\t<tr><th scope=row>Hidden_2_2</th><td>0          </td><td>0          </td><td>0          </td><td>0          </td><td> 0.0000000 </td><td> 0.0000000 </td><td> 0.00000000</td><td> 0.0000000 </td><td> 0.0000000 </td><td>-1.903718  </td><td>0.5730166  </td><td> 1.307913  </td></tr>\n",
       "\t<tr><th scope=row>Hidden_2_3</th><td>0          </td><td>0          </td><td>0          </td><td>0          </td><td> 0.0000000 </td><td> 0.0000000 </td><td> 0.00000000</td><td> 0.0000000 </td><td> 0.0000000 </td><td> 1.558027  </td><td>2.0798967  </td><td>-3.452202  </td></tr>\n",
       "\t<tr><th scope=row>Hidden_2_4</th><td>0          </td><td>0          </td><td>0          </td><td>0          </td><td> 0.0000000 </td><td> 0.0000000 </td><td> 0.00000000</td><td> 0.0000000 </td><td> 0.0000000 </td><td>-2.434654  </td><td>0.8314279  </td><td> 1.898671  </td></tr>\n",
       "\t<tr><th scope=row>Hidden_2_5</th><td>0          </td><td>0          </td><td>0          </td><td>0          </td><td> 0.0000000 </td><td> 0.0000000 </td><td> 0.00000000</td><td> 0.0000000 </td><td> 0.0000000 </td><td>-2.152975  </td><td>2.1384485  </td><td> 0.844058  </td></tr>\n",
       "\t<tr><th scope=row>Output_setosa</th><td>0          </td><td>0          </td><td>0          </td><td>0          </td><td> 0.0000000 </td><td> 0.0000000 </td><td> 0.00000000</td><td> 0.0000000 </td><td> 0.0000000 </td><td> 0.000000  </td><td>0.0000000  </td><td> 0.000000  </td></tr>\n",
       "\t<tr><th scope=row>Output_versicolor</th><td>0          </td><td>0          </td><td>0          </td><td>0          </td><td> 0.0000000 </td><td> 0.0000000 </td><td> 0.00000000</td><td> 0.0000000 </td><td> 0.0000000 </td><td> 0.000000  </td><td>0.0000000  </td><td> 0.000000  </td></tr>\n",
       "\t<tr><th scope=row>Output_virginica</th><td>0          </td><td>0          </td><td>0          </td><td>0          </td><td> 0.0000000 </td><td> 0.0000000 </td><td> 0.00000000</td><td> 0.0000000 </td><td> 0.0000000 </td><td> 0.000000  </td><td>0.0000000  </td><td> 0.000000  </td></tr>\n",
       "</tbody>\n",
       "</table>\n"
      ],
      "text/latex": [
       "\\begin{tabular}{r|llllllllllll}\n",
       "  & Input\\_1 & Input\\_2 & Input\\_3 & Input\\_4 & Hidden\\_2\\_1 & Hidden\\_2\\_2 & Hidden\\_2\\_3 & Hidden\\_2\\_4 & Hidden\\_2\\_5 & Output\\_setosa & Output\\_versicolor & Output\\_virginica\\\\\n",
       "\\hline\n",
       "\tInput\\_1 & 0           & 0           & 0           & 0           &  0.2084407  &  0.4157994  &  0.29920870 &  0.1766878  &  0.7407534  &  0.000000   & 0.0000000   &  0.000000  \\\\\n",
       "\tInput\\_2 & 0           & 0           & 0           & 0           &  0.1132473  & -1.2578596  &  0.07215004 & -1.2827166  & -1.6325650  &  0.000000   & 0.0000000   &  0.000000  \\\\\n",
       "\tInput\\_3 & 0           & 0           & 0           & 0           & -1.3111145  &  1.2235508  & -1.81650555 &  1.4037654  &  1.6144031  &  0.000000   & 0.0000000   &  0.000000  \\\\\n",
       "\tInput\\_4 & 0           & 0           & 0           & 0           & -2.3104682  &  0.8072597  & -2.59405518 &  1.2761834  &  1.3942412  &  0.000000   & 0.0000000   &  0.000000  \\\\\n",
       "\tHidden\\_2\\_1 & 0           & 0           & 0           & 0           &  0.0000000  &  0.0000000  &  0.00000000 &  0.0000000  &  0.0000000  &  1.679274   & 1.1386397   & -3.454794  \\\\\n",
       "\tHidden\\_2\\_2 & 0           & 0           & 0           & 0           &  0.0000000  &  0.0000000  &  0.00000000 &  0.0000000  &  0.0000000  & -1.903718   & 0.5730166   &  1.307913  \\\\\n",
       "\tHidden\\_2\\_3 & 0           & 0           & 0           & 0           &  0.0000000  &  0.0000000  &  0.00000000 &  0.0000000  &  0.0000000  &  1.558027   & 2.0798967   & -3.452202  \\\\\n",
       "\tHidden\\_2\\_4 & 0           & 0           & 0           & 0           &  0.0000000  &  0.0000000  &  0.00000000 &  0.0000000  &  0.0000000  & -2.434654   & 0.8314279   &  1.898671  \\\\\n",
       "\tHidden\\_2\\_5 & 0           & 0           & 0           & 0           &  0.0000000  &  0.0000000  &  0.00000000 &  0.0000000  &  0.0000000  & -2.152975   & 2.1384485   &  0.844058  \\\\\n",
       "\tOutput\\_setosa & 0           & 0           & 0           & 0           &  0.0000000  &  0.0000000  &  0.00000000 &  0.0000000  &  0.0000000  &  0.000000   & 0.0000000   &  0.000000  \\\\\n",
       "\tOutput\\_versicolor & 0           & 0           & 0           & 0           &  0.0000000  &  0.0000000  &  0.00000000 &  0.0000000  &  0.0000000  &  0.000000   & 0.0000000   &  0.000000  \\\\\n",
       "\tOutput\\_virginica & 0           & 0           & 0           & 0           &  0.0000000  &  0.0000000  &  0.00000000 &  0.0000000  &  0.0000000  &  0.000000   & 0.0000000   &  0.000000  \\\\\n",
       "\\end{tabular}\n"
      ],
      "text/markdown": [
       "\n",
       "| <!--/--> | Input_1 | Input_2 | Input_3 | Input_4 | Hidden_2_1 | Hidden_2_2 | Hidden_2_3 | Hidden_2_4 | Hidden_2_5 | Output_setosa | Output_versicolor | Output_virginica | \n",
       "|---|---|---|---|---|---|---|---|---|---|---|---|\n",
       "| Input_1 | 0           | 0           | 0           | 0           |  0.2084407  |  0.4157994  |  0.29920870 |  0.1766878  |  0.7407534  |  0.000000   | 0.0000000   |  0.000000   | \n",
       "| Input_2 | 0           | 0           | 0           | 0           |  0.1132473  | -1.2578596  |  0.07215004 | -1.2827166  | -1.6325650  |  0.000000   | 0.0000000   |  0.000000   | \n",
       "| Input_3 | 0           | 0           | 0           | 0           | -1.3111145  |  1.2235508  | -1.81650555 |  1.4037654  |  1.6144031  |  0.000000   | 0.0000000   |  0.000000   | \n",
       "| Input_4 | 0           | 0           | 0           | 0           | -2.3104682  |  0.8072597  | -2.59405518 |  1.2761834  |  1.3942412  |  0.000000   | 0.0000000   |  0.000000   | \n",
       "| Hidden_2_1 | 0           | 0           | 0           | 0           |  0.0000000  |  0.0000000  |  0.00000000 |  0.0000000  |  0.0000000  |  1.679274   | 1.1386397   | -3.454794   | \n",
       "| Hidden_2_2 | 0           | 0           | 0           | 0           |  0.0000000  |  0.0000000  |  0.00000000 |  0.0000000  |  0.0000000  | -1.903718   | 0.5730166   |  1.307913   | \n",
       "| Hidden_2_3 | 0           | 0           | 0           | 0           |  0.0000000  |  0.0000000  |  0.00000000 |  0.0000000  |  0.0000000  |  1.558027   | 2.0798967   | -3.452202   | \n",
       "| Hidden_2_4 | 0           | 0           | 0           | 0           |  0.0000000  |  0.0000000  |  0.00000000 |  0.0000000  |  0.0000000  | -2.434654   | 0.8314279   |  1.898671   | \n",
       "| Hidden_2_5 | 0           | 0           | 0           | 0           |  0.0000000  |  0.0000000  |  0.00000000 |  0.0000000  |  0.0000000  | -2.152975   | 2.1384485   |  0.844058   | \n",
       "| Output_setosa | 0           | 0           | 0           | 0           |  0.0000000  |  0.0000000  |  0.00000000 |  0.0000000  |  0.0000000  |  0.000000   | 0.0000000   |  0.000000   | \n",
       "| Output_versicolor | 0           | 0           | 0           | 0           |  0.0000000  |  0.0000000  |  0.00000000 |  0.0000000  |  0.0000000  |  0.000000   | 0.0000000   |  0.000000   | \n",
       "| Output_virginica | 0           | 0           | 0           | 0           |  0.0000000  |  0.0000000  |  0.00000000 |  0.0000000  |  0.0000000  |  0.000000   | 0.0000000   |  0.000000   | \n",
       "\n",
       "\n"
      ],
      "text/plain": [
       "                  Input_1 Input_2 Input_3 Input_4 Hidden_2_1 Hidden_2_2\n",
       "Input_1           0       0       0       0        0.2084407  0.4157994\n",
       "Input_2           0       0       0       0        0.1132473 -1.2578596\n",
       "Input_3           0       0       0       0       -1.3111145  1.2235508\n",
       "Input_4           0       0       0       0       -2.3104682  0.8072597\n",
       "Hidden_2_1        0       0       0       0        0.0000000  0.0000000\n",
       "Hidden_2_2        0       0       0       0        0.0000000  0.0000000\n",
       "Hidden_2_3        0       0       0       0        0.0000000  0.0000000\n",
       "Hidden_2_4        0       0       0       0        0.0000000  0.0000000\n",
       "Hidden_2_5        0       0       0       0        0.0000000  0.0000000\n",
       "Output_setosa     0       0       0       0        0.0000000  0.0000000\n",
       "Output_versicolor 0       0       0       0        0.0000000  0.0000000\n",
       "Output_virginica  0       0       0       0        0.0000000  0.0000000\n",
       "                  Hidden_2_3  Hidden_2_4 Hidden_2_5 Output_setosa\n",
       "Input_1            0.29920870  0.1766878  0.7407534  0.000000    \n",
       "Input_2            0.07215004 -1.2827166 -1.6325650  0.000000    \n",
       "Input_3           -1.81650555  1.4037654  1.6144031  0.000000    \n",
       "Input_4           -2.59405518  1.2761834  1.3942412  0.000000    \n",
       "Hidden_2_1         0.00000000  0.0000000  0.0000000  1.679274    \n",
       "Hidden_2_2         0.00000000  0.0000000  0.0000000 -1.903718    \n",
       "Hidden_2_3         0.00000000  0.0000000  0.0000000  1.558027    \n",
       "Hidden_2_4         0.00000000  0.0000000  0.0000000 -2.434654    \n",
       "Hidden_2_5         0.00000000  0.0000000  0.0000000 -2.152975    \n",
       "Output_setosa      0.00000000  0.0000000  0.0000000  0.000000    \n",
       "Output_versicolor  0.00000000  0.0000000  0.0000000  0.000000    \n",
       "Output_virginica   0.00000000  0.0000000  0.0000000  0.000000    \n",
       "                  Output_versicolor Output_virginica\n",
       "Input_1           0.0000000          0.000000       \n",
       "Input_2           0.0000000          0.000000       \n",
       "Input_3           0.0000000          0.000000       \n",
       "Input_4           0.0000000          0.000000       \n",
       "Hidden_2_1        1.1386397         -3.454794       \n",
       "Hidden_2_2        0.5730166          1.307913       \n",
       "Hidden_2_3        2.0798967         -3.452202       \n",
       "Hidden_2_4        0.8314279          1.898671       \n",
       "Hidden_2_5        2.1384485          0.844058       \n",
       "Output_setosa     0.0000000          0.000000       \n",
       "Output_versicolor 0.0000000          0.000000       \n",
       "Output_virginica  0.0000000          0.000000       "
      ]
     },
     "metadata": {},
     "output_type": "display_data"
    }
   ],
   "source": [
    "weightMatrix(model_iris)"
   ]
  },
  {
   "cell_type": "code",
   "execution_count": 20,
   "metadata": {},
   "outputs": [],
   "source": [
    "# Predict\n",
    "predictions_iris <- predict(model_iris, iris_s$inputsTest)"
   ]
  },
  {
   "cell_type": "code",
   "execution_count": 21,
   "metadata": {},
   "outputs": [
    {
     "data": {
      "text/html": [
       "<table>\n",
       "<tbody>\n",
       "\t<tr><td>0.085146300 </td><td>0.6927439   </td><td>0.0344312526</td></tr>\n",
       "\t<tr><td>0.956521511 </td><td>0.1954876   </td><td>0.0005074329</td></tr>\n",
       "\t<tr><td>0.003617003 </td><td>0.3997899   </td><td>0.8232519627</td></tr>\n",
       "\t<tr><td>0.003817929 </td><td>0.3644625   </td><td>0.8347600698</td></tr>\n",
       "\t<tr><td>0.005292352 </td><td>0.4662571   </td><td>0.6988753080</td></tr>\n",
       "\t<tr><td>0.952109456 </td><td>0.2032968   </td><td>0.0005423008</td></tr>\n",
       "</tbody>\n",
       "</table>\n"
      ],
      "text/latex": [
       "\\begin{tabular}{lll}\n",
       "\t 0.085146300  & 0.6927439    & 0.0344312526\\\\\n",
       "\t 0.956521511  & 0.1954876    & 0.0005074329\\\\\n",
       "\t 0.003617003  & 0.3997899    & 0.8232519627\\\\\n",
       "\t 0.003817929  & 0.3644625    & 0.8347600698\\\\\n",
       "\t 0.005292352  & 0.4662571    & 0.6988753080\\\\\n",
       "\t 0.952109456  & 0.2032968    & 0.0005423008\\\\\n",
       "\\end{tabular}\n"
      ],
      "text/markdown": [
       "\n",
       "| 0.085146300  | 0.6927439    | 0.0344312526 | \n",
       "| 0.956521511  | 0.1954876    | 0.0005074329 | \n",
       "| 0.003617003  | 0.3997899    | 0.8232519627 | \n",
       "| 0.003817929  | 0.3644625    | 0.8347600698 | \n",
       "| 0.005292352  | 0.4662571    | 0.6988753080 | \n",
       "| 0.952109456  | 0.2032968    | 0.0005423008 | \n",
       "\n",
       "\n"
      ],
      "text/plain": [
       "     [,1]        [,2]      [,3]        \n",
       "[1,] 0.085146300 0.6927439 0.0344312526\n",
       "[2,] 0.956521511 0.1954876 0.0005074329\n",
       "[3,] 0.003617003 0.3997899 0.8232519627\n",
       "[4,] 0.003817929 0.3644625 0.8347600698\n",
       "[5,] 0.005292352 0.4662571 0.6988753080\n",
       "[6,] 0.952109456 0.2032968 0.0005423008"
      ]
     },
     "metadata": {},
     "output_type": "display_data"
    }
   ],
   "source": [
    "head(predictions_iris)"
   ]
  },
  {
   "cell_type": "code",
   "execution_count": 22,
   "metadata": {},
   "outputs": [
    {
     "name": "stdout",
     "output_type": "stream",
     "text": [
      " num [1:23, 1:3] 0.08515 0.95652 0.00362 0.00382 0.00529 ...\n",
      " - attr(*, \"dimnames\")=List of 2\n",
      "  ..$ : NULL\n",
      "  ..$ : NULL\n"
     ]
    }
   ],
   "source": [
    "str(predictions_iris)"
   ]
  },
  {
   "cell_type": "code",
   "execution_count": 23,
   "metadata": {},
   "outputs": [],
   "source": [
    "predictions_mnist <- predict(model_mnist, mnist_s$test$images)"
   ]
  },
  {
   "cell_type": "code",
   "execution_count": 24,
   "metadata": {},
   "outputs": [
    {
     "data": {
      "text/html": [
       "<table>\n",
       "<tbody>\n",
       "\t<tr><td>4.760631e-09</td><td>3.182100e-11</td><td>4.417698e-06</td><td>1.224030e-04</td><td>7.718395e-06</td><td>2.784260e-09</td><td>2.484722e-14</td><td>9.999996e-01</td><td>1.650189e-06</td><td>3.764096e-08</td></tr>\n",
       "\t<tr><td>1.836062e-06</td><td>2.388146e-03</td><td>9.984929e-01</td><td>1.011951e-02</td><td>1.955765e-13</td><td>1.327548e-07</td><td>3.225019e-05</td><td>1.230490e-08</td><td>2.870031e-08</td><td>1.418346e-15</td></tr>\n",
       "\t<tr><td>1.506977e-10</td><td>9.999237e-01</td><td>8.102510e-06</td><td>1.047438e-07</td><td>3.203307e-13</td><td>1.908541e-08</td><td>3.404179e-05</td><td>7.781573e-05</td><td>2.423743e-05</td><td>2.089417e-11</td></tr>\n",
       "\t<tr><td>9.993417e-01</td><td>9.471514e-08</td><td>6.780648e-03</td><td>4.252242e-06</td><td>6.164918e-14</td><td>1.339179e-08</td><td>8.155225e-06</td><td>1.091385e-05</td><td>3.804407e-05</td><td>4.231258e-03</td></tr>\n",
       "\t<tr><td>2.242883e-07</td><td>3.849796e-12</td><td>2.942902e-07</td><td>2.576456e-07</td><td>9.999006e-01</td><td>7.679503e-08</td><td>7.101634e-07</td><td>1.596570e-03</td><td>8.883517e-09</td><td>2.669639e-07</td></tr>\n",
       "\t<tr><td>3.096430e-10</td><td>9.999654e-01</td><td>6.798680e-07</td><td>8.084942e-09</td><td>7.079386e-16</td><td>4.236739e-08</td><td>3.486301e-06</td><td>8.091199e-05</td><td>1.544491e-04</td><td>4.742015e-07</td></tr>\n",
       "</tbody>\n",
       "</table>\n"
      ],
      "text/latex": [
       "\\begin{tabular}{llllllllll}\n",
       "\t 4.760631e-09 & 3.182100e-11 & 4.417698e-06 & 1.224030e-04 & 7.718395e-06 & 2.784260e-09 & 2.484722e-14 & 9.999996e-01 & 1.650189e-06 & 3.764096e-08\\\\\n",
       "\t 1.836062e-06 & 2.388146e-03 & 9.984929e-01 & 1.011951e-02 & 1.955765e-13 & 1.327548e-07 & 3.225019e-05 & 1.230490e-08 & 2.870031e-08 & 1.418346e-15\\\\\n",
       "\t 1.506977e-10 & 9.999237e-01 & 8.102510e-06 & 1.047438e-07 & 3.203307e-13 & 1.908541e-08 & 3.404179e-05 & 7.781573e-05 & 2.423743e-05 & 2.089417e-11\\\\\n",
       "\t 9.993417e-01 & 9.471514e-08 & 6.780648e-03 & 4.252242e-06 & 6.164918e-14 & 1.339179e-08 & 8.155225e-06 & 1.091385e-05 & 3.804407e-05 & 4.231258e-03\\\\\n",
       "\t 2.242883e-07 & 3.849796e-12 & 2.942902e-07 & 2.576456e-07 & 9.999006e-01 & 7.679503e-08 & 7.101634e-07 & 1.596570e-03 & 8.883517e-09 & 2.669639e-07\\\\\n",
       "\t 3.096430e-10 & 9.999654e-01 & 6.798680e-07 & 8.084942e-09 & 7.079386e-16 & 4.236739e-08 & 3.486301e-06 & 8.091199e-05 & 1.544491e-04 & 4.742015e-07\\\\\n",
       "\\end{tabular}\n"
      ],
      "text/markdown": [
       "\n",
       "| 4.760631e-09 | 3.182100e-11 | 4.417698e-06 | 1.224030e-04 | 7.718395e-06 | 2.784260e-09 | 2.484722e-14 | 9.999996e-01 | 1.650189e-06 | 3.764096e-08 | \n",
       "| 1.836062e-06 | 2.388146e-03 | 9.984929e-01 | 1.011951e-02 | 1.955765e-13 | 1.327548e-07 | 3.225019e-05 | 1.230490e-08 | 2.870031e-08 | 1.418346e-15 | \n",
       "| 1.506977e-10 | 9.999237e-01 | 8.102510e-06 | 1.047438e-07 | 3.203307e-13 | 1.908541e-08 | 3.404179e-05 | 7.781573e-05 | 2.423743e-05 | 2.089417e-11 | \n",
       "| 9.993417e-01 | 9.471514e-08 | 6.780648e-03 | 4.252242e-06 | 6.164918e-14 | 1.339179e-08 | 8.155225e-06 | 1.091385e-05 | 3.804407e-05 | 4.231258e-03 | \n",
       "| 2.242883e-07 | 3.849796e-12 | 2.942902e-07 | 2.576456e-07 | 9.999006e-01 | 7.679503e-08 | 7.101634e-07 | 1.596570e-03 | 8.883517e-09 | 2.669639e-07 | \n",
       "| 3.096430e-10 | 9.999654e-01 | 6.798680e-07 | 8.084942e-09 | 7.079386e-16 | 4.236739e-08 | 3.486301e-06 | 8.091199e-05 | 1.544491e-04 | 4.742015e-07 | \n",
       "\n",
       "\n"
      ],
      "text/plain": [
       "     [,1]         [,2]         [,3]         [,4]         [,5]        \n",
       "[1,] 4.760631e-09 3.182100e-11 4.417698e-06 1.224030e-04 7.718395e-06\n",
       "[2,] 1.836062e-06 2.388146e-03 9.984929e-01 1.011951e-02 1.955765e-13\n",
       "[3,] 1.506977e-10 9.999237e-01 8.102510e-06 1.047438e-07 3.203307e-13\n",
       "[4,] 9.993417e-01 9.471514e-08 6.780648e-03 4.252242e-06 6.164918e-14\n",
       "[5,] 2.242883e-07 3.849796e-12 2.942902e-07 2.576456e-07 9.999006e-01\n",
       "[6,] 3.096430e-10 9.999654e-01 6.798680e-07 8.084942e-09 7.079386e-16\n",
       "     [,6]         [,7]         [,8]         [,9]         [,10]       \n",
       "[1,] 2.784260e-09 2.484722e-14 9.999996e-01 1.650189e-06 3.764096e-08\n",
       "[2,] 1.327548e-07 3.225019e-05 1.230490e-08 2.870031e-08 1.418346e-15\n",
       "[3,] 1.908541e-08 3.404179e-05 7.781573e-05 2.423743e-05 2.089417e-11\n",
       "[4,] 1.339179e-08 8.155225e-06 1.091385e-05 3.804407e-05 4.231258e-03\n",
       "[5,] 7.679503e-08 7.101634e-07 1.596570e-03 8.883517e-09 2.669639e-07\n",
       "[6,] 4.236739e-08 3.486301e-06 8.091199e-05 1.544491e-04 4.742015e-07"
      ]
     },
     "metadata": {},
     "output_type": "display_data"
    }
   ],
   "source": [
    "head(predictions_mnist)"
   ]
  },
  {
   "cell_type": "code",
   "execution_count": 25,
   "metadata": {},
   "outputs": [
    {
     "name": "stdout",
     "output_type": "stream",
     "text": [
      " num [1:10000, 1:10] 4.76e-09 1.84e-06 1.51e-10 9.99e-01 2.24e-07 ...\n",
      " - attr(*, \"dimnames\")=List of 2\n",
      "  ..$ : NULL\n",
      "  ..$ : NULL\n"
     ]
    }
   ],
   "source": [
    "str(predictions_mnist)"
   ]
  },
  {
   "cell_type": "markdown",
   "metadata": {},
   "source": [
    "### Validación"
   ]
  },
  {
   "cell_type": "code",
   "execution_count": 26,
   "metadata": {},
   "outputs": [
    {
     "data": {
      "text/plain": [
       "       predictions\n",
       "targets  1  2  3\n",
       "      1 43  0  0\n",
       "      2  0 42  2\n",
       "      3  0  2 38"
      ]
     },
     "metadata": {},
     "output_type": "display_data"
    }
   ],
   "source": [
    "confusionMatrix(iris_s$targetsTrain, fitted.values(model_iris))"
   ]
  },
  {
   "cell_type": "code",
   "execution_count": 27,
   "metadata": {},
   "outputs": [
    {
     "data": {
      "text/plain": [
       "       predictions\n",
       "targets  0  1  2  3\n",
       "      1  0 43  0  0\n",
       "      2  6  0 38  0\n",
       "      3  7  0  1 32"
      ]
     },
     "metadata": {},
     "output_type": "display_data"
    }
   ],
   "source": [
    "confusionMatrix(iris_s$targetsTrain, \n",
    "                encodeClassLabels(fitted.values(model_iris), \n",
    "                                  method = \"402040\", \n",
    "                                  l = 0.4, h = 0.6))"
   ]
  },
  {
   "cell_type": "code",
   "execution_count": 28,
   "metadata": {},
   "outputs": [
    {
     "data": {
      "text/plain": [
       "       predictions\n",
       "targets 1 2 3\n",
       "      1 7 0 0\n",
       "      2 0 6 0\n",
       "      3 0 1 9"
      ]
     },
     "metadata": {},
     "output_type": "display_data"
    }
   ],
   "source": [
    "confusionMatrix(iris_s$targetsTest, predictions_iris)"
   ]
  },
  {
   "cell_type": "code",
   "execution_count": 30,
   "metadata": {},
   "outputs": [],
   "source": [
    "# https://stackoverflow.com/questions/4903092/calculate-auc-in-r\n",
    "#auroc <- function(score, bool) {\n",
    "#  n1 <- sum(!bool)\n",
    "#  n2 <- sum(bool)\n",
    "#  U  <- sum(rank(score)[!bool]) - n1 * (n1 + 1) / 2\n",
    "#  return(1 - U / n1 / n2)\n",
    "#}"
   ]
  },
  {
   "cell_type": "code",
   "execution_count": 31,
   "metadata": {},
   "outputs": [],
   "source": [
    "#auroc(predictions[, 2], iris_s$targetsTest[, 2])"
   ]
  },
  {
   "cell_type": "code",
   "execution_count": 32,
   "metadata": {},
   "outputs": [
    {
     "data": {
      "text/plain": [
       "       predictions\n",
       "targets    1    2    3    4    5    6    7    8    9   10\n",
       "     1  5827    0    7    4    9    4   12    7   50    3\n",
       "     2     1 6626   23   25    8    7    6   14   26    6\n",
       "     3    19   11 5724   26   38    9   22   32   73    4\n",
       "     4    13    6   42 5919    4   24   14   42   41   26\n",
       "     5    13    7    8    2 5711    7   18   18    6   52\n",
       "     6    21    9   23   83   12 5167   30   11   50   15\n",
       "     7    22    6    6    1   12   14 5815    1   40    1\n",
       "     8     9   18   35   13   42    6    7 6096    7   32\n",
       "     9     5   21   29   18    5   21   16   10 5717    9\n",
       "     10   13    5    7   45   54   15    4   57   24 5725"
      ]
     },
     "metadata": {},
     "output_type": "display_data"
    }
   ],
   "source": [
    "confusionMatrix(mnist_s$train$labels, fitted.values(model_mnist))"
   ]
  },
  {
   "cell_type": "code",
   "execution_count": 37,
   "metadata": {},
   "outputs": [
    {
     "data": {
      "text/plain": [
       "       predictions\n",
       "targets    1    2    3    4    5    6    7    8    9   10\n",
       "     1   964    0    2    2    0    4    3    3    2    0\n",
       "     2     0 1111    3    1    1    2    4    4    9    0\n",
       "     3    11    2  962    7    9    3    8   10   18    2\n",
       "     4     2    0   12  952    1    8    5   15    8    7\n",
       "     5     0    1    2    2  934    2    9    8    4   20\n",
       "     6     9    1    1   30    6  813   11    4   12    5\n",
       "     7    13    3    4    1    9   10  907    0   11    0\n",
       "     8     2    7   19   10    5    0    1  972    2   10\n",
       "     9     4    3    4    9    6    8    6   14  914    6\n",
       "     10    5    6    0   13   27    7    1   20    8  922"
      ]
     },
     "metadata": {},
     "output_type": "display_data"
    }
   ],
   "source": [
    "confusionMatrix(mnist_s$test$labels, predictions_mnist)"
   ]
  }
 ],
 "metadata": {
  "kernelspec": {
   "display_name": "R",
   "language": "R",
   "name": "ir"
  },
  "language_info": {
   "codemirror_mode": "r",
   "file_extension": ".r",
   "mimetype": "text/x-r-source",
   "name": "R",
   "pygments_lexer": "r",
   "version": "3.4.4"
  }
 },
 "nbformat": 4,
 "nbformat_minor": 2
}
