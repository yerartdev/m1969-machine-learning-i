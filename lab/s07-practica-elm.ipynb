{
 "cells": [
  {
   "cell_type": "markdown",
   "metadata": {},
   "source": [
    "# Alumno: Gerardo de Miguel González"
   ]
  },
  {
   "cell_type": "markdown",
   "metadata": {},
   "source": [
    "## Práctica Extreme Learning Machines"
   ]
  },
  {
   "cell_type": "markdown",
   "metadata": {},
   "source": [
    "## 1 Bibliotecas de trabajo"
   ]
  },
  {
   "cell_type": "code",
   "execution_count": 1,
   "metadata": {},
   "outputs": [
    {
     "name": "stderr",
     "output_type": "stream",
     "text": [
      "Loading required package: KernelKnn\n"
     ]
    }
   ],
   "source": [
    "#::GMG::Instalamos un paquete de ELM para R\n",
    "#\n",
    "#::nota::en CRAN elmNN ha sido descatalogado y existen alternativas como las\n",
    "#        instaladas aquí\n",
    "#\n",
    "# https://github.com/mlampros/elmNNRcpp\n",
    "# https://rdrr.io/cran/elmNNRcpp/man/elm_predict.html\n",
    "# https://cran.r-project.org/web/packages/elmNNRcpp/index.html\n",
    "# https://cran.r-project.org/web/packages/elmNNRcpp/vignettes/extreme_learning_machine.html\n",
    "# http://mlampros.github.io/2018/07/05/the_extreme_learning_machine_package/\n",
    "#\n",
    "#install.packages('elmNNRcpp')\n",
    "#\n",
    "# >Installing package into ‘/home/jovyan/R/x86_64-pc-linux-gnu-library/3.4’\n",
    "# >(as ‘lib’ is unspecified)\n",
    "# > also installing the dependencies ‘KernelKnn’, ‘RcppArmadillo’\n",
    "library('elmNNRcpp')"
   ]
  },
  {
   "cell_type": "code",
   "execution_count": 2,
   "metadata": {},
   "outputs": [],
   "source": [
    "#::GMG::Paquete alternativo en CRAN propuesto por el profesor \n",
    "#\n",
    "# https://cran.r-project.org/web/packages/ELMR/index.html\n",
    "# https://cran.r-project.org/web/packages/ELMR/ELMR.pdf\n",
    "#\n",
    "# >Installing package into ‘/home/jovyan/R/x86_64-pc-linux-gnu-library/3.4’\n",
    "# >(as ‘lib’ is unspecified)\n",
    "#install.packages('ELMR')\n",
    "library('ELMR')"
   ]
  },
  {
   "cell_type": "code",
   "execution_count": 7,
   "metadata": {},
   "outputs": [],
   "source": [
    "#install.packages('dslabs')\n",
    "# https://rdrr.io/cran/dslabs/\n",
    "# https://github.com/rafalab/dslabs\n",
    "# https://www.rdocumentation.org/packages/dslabs/versions/0.5.2\n",
    "# https://cran.r-project.org/web/packages/dslabs/index.html\n",
    "# https://cran.r-project.org/web/packages/dslabs/dslabs.pdf\n",
    "library('dslabs')"
   ]
  },
  {
   "cell_type": "markdown",
   "metadata": {},
   "source": [
    "## 2 Datasets"
   ]
  },
  {
   "cell_type": "markdown",
   "metadata": {},
   "source": [
    "### Dataset Circle "
   ]
  },
  {
   "cell_type": "code",
   "execution_count": 3,
   "metadata": {},
   "outputs": [],
   "source": [
    "#::GMG::Cargo los datos\n",
    "circle <- read.csv(\"data/circle.csv\")"
   ]
  },
  {
   "cell_type": "code",
   "execution_count": 4,
   "metadata": {},
   "outputs": [],
   "source": [
    "#::GMG::Nombro las columnas de características\n",
    "colnames(circle) <- c(\"x1\",\"x2\",\"y\")"
   ]
  },
  {
   "cell_type": "code",
   "execution_count": 5,
   "metadata": {},
   "outputs": [
    {
     "name": "stdout",
     "output_type": "stream",
     "text": [
      "'data.frame':\t99 obs. of  3 variables:\n",
      " $ x1: num  -0.553 -0.0949 -0.8096 0.399 -0.6736 ...\n",
      " $ x2: num  -0.577 -0.299 0.857 0.69 -0.684 ...\n",
      " $ y : int  0 1 0 0 0 0 0 0 0 0 ...\n"
     ]
    }
   ],
   "source": [
    "#::GMG::Describo los datos\n",
    "str(circle)"
   ]
  },
  {
   "cell_type": "code",
   "execution_count": 6,
   "metadata": {},
   "outputs": [
    {
     "data": {
      "image/png": "[encoded data removed]",
      "text/plain": [
       "plot without title"
      ]
     },
     "metadata": {},
     "output_type": "display_data"
    }
   ],
   "source": [
    "#::GMG:: Visualizo los datos\n",
    "ind.A <- which(circle$y == 0)\n",
    "ind.B <- which(circle$y == 1)\n",
    "plot(circle$x1[ind.A],\n",
    "     circle$x2[ind.A], \n",
    "     pch = 21, \n",
    "     xlab = \"Coordinate x1\", \n",
    "     ylab = \"Coordinate x2\")\n",
    "points(circle$x1[ind.B],\n",
    "       circle$x2[ind.B], \n",
    "       pch = 19)\n",
    "legend(\"topright\", \n",
    "       legend = c(\"A\", \"B\"), \n",
    "       pch = c(21,19))"
   ]
  },
  {
   "cell_type": "markdown",
   "metadata": {},
   "source": [
    "### Dataset MNIST"
   ]
  },
  {
   "cell_type": "code",
   "execution_count": 8,
   "metadata": {},
   "outputs": [],
   "source": [
    "#::GMG:Cargo los datos\n",
    "#::nota::lo mejor es cargarlos de una fuente remota original\n",
    "#        http://yann.lecun.com/exdb/mnist/\n",
    "#::nota::para eso se puede usar una biblioteca adicional dslabs\n",
    "# https://rdrr.io/cran/dslabs/man/read_mnist.html\n",
    "# que tarda unos segundos en hacerlo (dependiendo de la conexión)\n",
    "mnist <- dslabs::read_mnist()"
   ]
  },
  {
   "cell_type": "code",
   "execution_count": 10,
   "metadata": {},
   "outputs": [
    {
     "name": "stdout",
     "output_type": "stream",
     "text": [
      "List of 2\n",
      " $ train:List of 2\n",
      "  ..$ images: int [1:60000, 1:784] 0 0 0 0 0 0 0 0 0 0 ...\n",
      "  ..$ labels: int [1:60000] 5 0 4 1 9 2 1 3 1 4 ...\n",
      " $ test :List of 2\n",
      "  ..$ images: int [1:10000, 1:784] 0 0 0 0 0 0 0 0 0 0 ...\n",
      "  ..$ labels: int [1:10000] 7 2 1 0 4 1 4 9 5 9 ...\n"
     ]
    }
   ],
   "source": [
    "#::GMG::Describo los datos\n",
    "str(object = mnist)"
   ]
  },
  {
   "cell_type": "code",
   "execution_count": 12,
   "metadata": {},
   "outputs": [
    {
     "name": "stdout",
     "output_type": "stream",
     "text": [
      "List of 2\n",
      " $ images: int [1:60000, 1:784] 0 0 0 0 0 0 0 0 0 0 ...\n",
      " $ labels: int [1:60000] 5 0 4 1 9 2 1 3 1 4 ...\n"
     ]
    }
   ],
   "source": [
    "str(mnist$train)"
   ]
  },
  {
   "cell_type": "code",
   "execution_count": 13,
   "metadata": {},
   "outputs": [
    {
     "name": "stdout",
     "output_type": "stream",
     "text": [
      "List of 2\n",
      " $ images: int [1:10000, 1:784] 0 0 0 0 0 0 0 0 0 0 ...\n",
      " $ labels: int [1:10000] 7 2 1 0 4 1 4 9 5 9 ...\n"
     ]
    }
   ],
   "source": [
    "str(mnist$test)"
   ]
  },
  {
   "cell_type": "code",
   "execution_count": 27,
   "metadata": {},
   "outputs": [
    {
     "data": {
      "text/html": [
       "7"
      ],
      "text/latex": [
       "7"
      ],
      "text/markdown": [
       "7"
      ],
      "text/plain": [
       "[1] 7"
      ]
     },
     "metadata": {},
     "output_type": "display_data"
    },
    {
     "data": {
      "image/png": "[encoded data removed]",
      "text/plain": [
       "plot without title"
      ]
     },
     "metadata": {},
     "output_type": "display_data"
    }
   ],
   "source": [
    "#::GMG::Una imagen de test de ejemplo\n",
    "i <- 1\n",
    "image(1:28, 1:28, matrix(mnist$test$images[i,], nrow=28)[ , 28:1], \n",
    "    col = gray(seq(0, 1, 0.05)), xlab = \"\", ylab=\"\")\n",
    "## the labels for this image is: \n",
    "mnist$test$labels[i]"
   ]
  },
  {
   "cell_type": "markdown",
   "metadata": {},
   "source": [
    "## 3 Prueba de concepto con ELMR"
   ]
  },
  {
   "cell_type": "code",
   "execution_count": null,
   "metadata": {},
   "outputs": [],
   "source": [
    "#::GMG::Prueba canónica propuesta por el profesor ebn clase con MNIST\n",
    "# https://cran.r-project.org/web/packages/ELMR/ELMR.pdf\n",
    "# https://www.rdocumentation.org/packages/ELMR/versions/1.0\n",
    "modelo <- OSelm_train.formula(formula = y9~., \n",
    "                              data = datT, \n",
    "                              Elm_type = \"classification\", \n",
    "                              nHiddenNeurons = 200, \n",
    "                              ActivationFunction = \"sig\", \n",
    "                              N0 = 100, \n",
    "                              Block = 100)"
   ]
  },
  {
   "cell_type": "code",
   "execution_count": null,
   "metadata": {},
   "outputs": [],
   "source": [
    "yy <- predict_elm(mod, datT)"
   ]
  },
  {
   "cell_type": "code",
   "execution_count": null,
   "metadata": {},
   "outputs": [],
   "source": [
    "yy$accuracy.reg"
   ]
  },
  {
   "cell_type": "code",
   "execution_count": null,
   "metadata": {},
   "outputs": [],
   "source": []
  },
  {
   "cell_type": "markdown",
   "metadata": {},
   "source": [
    "## 4 Prueba de concepto con emlNNRcpp"
   ]
  },
  {
   "cell_type": "code",
   "execution_count": null,
   "metadata": {},
   "outputs": [],
   "source": []
  },
  {
   "cell_type": "markdown",
   "metadata": {},
   "source": [
    "## 5 Implementación manual (clase)"
   ]
  },
  {
   "cell_type": "code",
   "execution_count": null,
   "metadata": {},
   "outputs": [],
   "source": [
    "activacion <- function(z) {\n",
    "    1/(1 + exp(-z))\n",
    "}"
   ]
  },
  {
   "cell_type": "code",
   "execution_count": null,
   "metadata": {},
   "outputs": [],
   "source": [
    "#::GMG:: h <- xv, y <- hw (la segunda no hace falta pq lo hacemos con lm)\n",
    "elm_train <- function(x,y,nhid = 1) {\n",
    "    n_in <- ncol(x)\n",
    "    n_out <- ncol(y)\n",
    "    V <- matrix(runif(prod(n_out,nhid), min = -1, max = 1), nrow = 2, ncol = nhid)\n",
    "    h <- activacion(x %*% V)\n",
    "    df_ <- data.frame('y' = y, 'h' = h)\n",
    "    model <- glm(formula = y ~ ., data = df_, family = binomial(link = 'logit'))\n",
    "    list('model' = model, 'V' = V)\n",
    "}"
   ]
  },
  {
   "cell_type": "code",
   "execution_count": null,
   "metadata": {},
   "outputs": [],
   "source": [
    "m <- elm_train(cbind(df$x1,df$x2), df$y, nhid = 5)"
   ]
  },
  {
   "cell_type": "code",
   "execution_count": null,
   "metadata": {},
   "outputs": [],
   "source": [
    "elm_predict <- function (x, m) {\n",
    "    h <- as.data.frame(activacion(x %*% m$V))\n",
    "    pred <- predict.glm(m$model, newdata = h, type = 'response')\n",
    "    return (pred)\n",
    "}"
   ]
  },
  {
   "cell_type": "code",
   "execution_count": null,
   "metadata": {},
   "outputs": [],
   "source": [
    "p <- elm_predict(cbind(df$x1, df$x2), m)"
   ]
  },
  {
   "cell_type": "code",
   "execution_count": null,
   "metadata": {},
   "outputs": [],
   "source": [
    "#::GMG::Calcular AUC (con umbral)\n",
    "library ('verification')"
   ]
  },
  {
   "cell_type": "code",
   "execution_count": null,
   "metadata": {},
   "outputs": [],
   "source": [
    "roc.plot(p)"
   ]
  }
 ],
 "metadata": {
  "kernelspec": {
   "display_name": "R",
   "language": "R",
   "name": "ir"
  },
  "language_info": {
   "codemirror_mode": "r",
   "file_extension": ".r",
   "mimetype": "text/x-r-source",
   "name": "R",
   "pygments_lexer": "r",
   "version": "3.4.4"
  }
 },
 "nbformat": 4,
 "nbformat_minor": 2
}
