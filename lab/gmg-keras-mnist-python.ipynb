{
  "cells": [
    {
      "metadata": {},
      "cell_type": "markdown",
      "source": "Github: keras/examples/[mnist_mlp.py](https://github.com/keras-team/keras/blob/master/examples/mnist_mlp.py#L19)"
    },
    {
      "metadata": {
        "trusted": true
      },
      "cell_type": "code",
      "source": "from __future__ import print_function",
      "execution_count": 1,
      "outputs": []
    },
    {
      "metadata": {
        "trusted": true
      },
      "cell_type": "code",
      "source": "import keras",
      "execution_count": 2,
      "outputs": [
        {
          "output_type": "stream",
          "text": "Using TensorFlow backend.\n",
          "name": "stderr"
        }
      ]
    },
    {
      "metadata": {
        "trusted": true
      },
      "cell_type": "code",
      "source": "from keras.datasets import mnist",
      "execution_count": 3,
      "outputs": []
    },
    {
      "metadata": {
        "trusted": true
      },
      "cell_type": "code",
      "source": "from keras.models import Sequential",
      "execution_count": 4,
      "outputs": []
    },
    {
      "metadata": {
        "trusted": true
      },
      "cell_type": "code",
      "source": "from keras.layers import Dense, Dropout",
      "execution_count": 5,
      "outputs": []
    },
    {
      "metadata": {
        "trusted": true
      },
      "cell_type": "code",
      "source": "from keras.optimizers import RMSprop",
      "execution_count": 6,
      "outputs": []
    },
    {
      "metadata": {
        "trusted": true
      },
      "cell_type": "code",
      "source": "batch_size = 128\nnum_classes = 10\nepochs = 20",
      "execution_count": 7,
      "outputs": []
    },
    {
      "metadata": {
        "trusted": true
      },
      "cell_type": "code",
      "source": "# the data, split between train and test sets\n(x_train, y_train), (x_test, y_test) = mnist.load_data()",
      "execution_count": 8,
      "outputs": [
        {
          "output_type": "stream",
          "text": "Downloading data from https://s3.amazonaws.com/img-datasets/mnist.npz\n11493376/11490434 [==============================] - 2s 0us/step\n",
          "name": "stdout"
        }
      ]
    },
    {
      "metadata": {
        "trusted": true
      },
      "cell_type": "code",
      "source": "x_train = x_train.reshape(60000, 784)\nx_test = x_test.reshape(10000, 784)",
      "execution_count": 9,
      "outputs": []
    },
    {
      "metadata": {
        "trusted": true
      },
      "cell_type": "code",
      "source": "x_train = x_train.astype('float32')\nx_test = x_test.astype('float32')",
      "execution_count": 10,
      "outputs": []
    },
    {
      "metadata": {
        "trusted": true
      },
      "cell_type": "code",
      "source": "x_train /= 255\nx_test /= 255",
      "execution_count": 11,
      "outputs": []
    },
    {
      "metadata": {
        "trusted": true
      },
      "cell_type": "code",
      "source": "print(x_train.shape[0], 'train samples')\nprint(x_test.shape[0], 'test samples')",
      "execution_count": 12,
      "outputs": [
        {
          "output_type": "stream",
          "text": "60000 train samples\n10000 test samples\n",
          "name": "stdout"
        }
      ]
    },
    {
      "metadata": {
        "trusted": true
      },
      "cell_type": "code",
      "source": "# convert class vectors to binary class matrices\ny_train = keras.utils.to_categorical(y_train, num_classes)\ny_test = keras.utils.to_categorical(y_test, num_classes)",
      "execution_count": 13,
      "outputs": []
    },
    {
      "metadata": {
        "trusted": true
      },
      "cell_type": "code",
      "source": "model = Sequential()\nmodel.add(Dense(512, activation='relu', input_shape=(784,)))\nmodel.add(Dropout(0.2))\nmodel.add(Dense(512, activation='relu'))\nmodel.add(Dropout(0.2))\nmodel.add(Dense(num_classes, activation='softmax'))",
      "execution_count": 14,
      "outputs": []
    },
    {
      "metadata": {
        "trusted": true
      },
      "cell_type": "code",
      "source": "model.summary()",
      "execution_count": 15,
      "outputs": [
        {
          "output_type": "stream",
          "text": "_________________________________________________________________\nLayer (type)                 Output Shape              Param #   \n=================================================================\ndense_1 (Dense)              (None, 512)               401920    \n_________________________________________________________________\ndropout_1 (Dropout)          (None, 512)               0         \n_________________________________________________________________\ndense_2 (Dense)              (None, 512)               262656    \n_________________________________________________________________\ndropout_2 (Dropout)          (None, 512)               0         \n_________________________________________________________________\ndense_3 (Dense)              (None, 10)                5130      \n=================================================================\nTotal params: 669,706\nTrainable params: 669,706\nNon-trainable params: 0\n_________________________________________________________________\n",
          "name": "stdout"
        }
      ]
    },
    {
      "metadata": {
        "trusted": true
      },
      "cell_type": "code",
      "source": "model.compile(loss='categorical_crossentropy',\n              optimizer=RMSprop(),\n              metrics=['accuracy'])",
      "execution_count": 16,
      "outputs": []
    },
    {
      "metadata": {
        "trusted": true
      },
      "cell_type": "code",
      "source": "history = model.fit(x_train, y_train,\n                    batch_size=batch_size,\n                    epochs=epochs,\n                    verbose=1,\n                    validation_data=(x_test, y_test))",
      "execution_count": 17,
      "outputs": [
        {
          "output_type": "stream",
          "text": "Train on 60000 samples, validate on 10000 samples\nEpoch 1/20\n60000/60000 [==============================] - 26s 435us/step - loss: 0.2508 - acc: 0.9237 - val_loss: 0.1189 - val_acc: 0.9626\nEpoch 2/20\n60000/60000 [==============================] - 23s 378us/step - loss: 0.1063 - acc: 0.9679 - val_loss: 0.0799 - val_acc: 0.9739\nEpoch 3/20\n60000/60000 [==============================] - 23s 385us/step - loss: 0.0773 - acc: 0.9766 - val_loss: 0.0760 - val_acc: 0.9804\nEpoch 4/20\n60000/60000 [==============================] - 26s 428us/step - loss: 0.0632 - acc: 0.9806 - val_loss: 0.0797 - val_acc: 0.9788\nEpoch 5/20\n60000/60000 [==============================] - 26s 432us/step - loss: 0.0522 - acc: 0.9848 - val_loss: 0.0808 - val_acc: 0.9786\nEpoch 6/20\n60000/60000 [==============================] - 26s 440us/step - loss: 0.0478 - acc: 0.9863 - val_loss: 0.0829 - val_acc: 0.9785\nEpoch 7/20\n60000/60000 [==============================] - 26s 440us/step - loss: 0.0392 - acc: 0.9887 - val_loss: 0.0889 - val_acc: 0.9803\nEpoch 8/20\n60000/60000 [==============================] - 28s 462us/step - loss: 0.0346 - acc: 0.9897 - val_loss: 0.0862 - val_acc: 0.9806\nEpoch 9/20\n60000/60000 [==============================] - 30s 502us/step - loss: 0.0316 - acc: 0.9913 - val_loss: 0.0946 - val_acc: 0.9805\nEpoch 10/20\n60000/60000 [==============================] - 28s 461us/step - loss: 0.0307 - acc: 0.9911 - val_loss: 0.0819 - val_acc: 0.9837\nEpoch 11/20\n60000/60000 [==============================] - 28s 462us/step - loss: 0.0290 - acc: 0.9918 - val_loss: 0.0862 - val_acc: 0.9812\nEpoch 12/20\n60000/60000 [==============================] - 27s 450us/step - loss: 0.0244 - acc: 0.9928 - val_loss: 0.0924 - val_acc: 0.9837\nEpoch 13/20\n60000/60000 [==============================] - 27s 442us/step - loss: 0.0244 - acc: 0.9931 - val_loss: 0.1059 - val_acc: 0.9827\nEpoch 14/20\n60000/60000 [==============================] - 26s 433us/step - loss: 0.0244 - acc: 0.9934 - val_loss: 0.1015 - val_acc: 0.9824\nEpoch 15/20\n60000/60000 [==============================] - 25s 419us/step - loss: 0.0233 - acc: 0.9937 - val_loss: 0.1179 - val_acc: 0.9821\nEpoch 16/20\n60000/60000 [==============================] - 24s 404us/step - loss: 0.0226 - acc: 0.9940 - val_loss: 0.1010 - val_acc: 0.9833\nEpoch 17/20\n60000/60000 [==============================] - 25s 422us/step - loss: 0.0206 - acc: 0.9943 - val_loss: 0.1056 - val_acc: 0.9831\nEpoch 18/20\n60000/60000 [==============================] - 26s 428us/step - loss: 0.0207 - acc: 0.9945 - val_loss: 0.1059 - val_acc: 0.9817\nEpoch 19/20\n60000/60000 [==============================] - 26s 426us/step - loss: 0.0205 - acc: 0.9946 - val_loss: 0.1135 - val_acc: 0.9834\nEpoch 20/20\n60000/60000 [==============================] - 26s 434us/step - loss: 0.0177 - acc: 0.9951 - val_loss: 0.1198 - val_acc: 0.9823\n",
          "name": "stdout"
        }
      ]
    },
    {
      "metadata": {
        "trusted": true
      },
      "cell_type": "code",
      "source": "score = model.evaluate(x_test, y_test, verbose=0)",
      "execution_count": 18,
      "outputs": []
    },
    {
      "metadata": {
        "trusted": true
      },
      "cell_type": "code",
      "source": "print('Test loss:', score[0])\nprint('Test accuracy:', score[1])",
      "execution_count": 19,
      "outputs": [
        {
          "output_type": "stream",
          "text": "Test loss: 0.11981233570563331\nTest accuracy: 0.9823\n",
          "name": "stdout"
        }
      ]
    }
  ],
  "metadata": {
    "kernelspec": {
      "name": "python36",
      "display_name": "Python 3.6",
      "language": "python"
    },
    "language_info": {
      "mimetype": "text/x-python",
      "nbconvert_exporter": "python",
      "name": "python",
      "pygments_lexer": "ipython3",
      "version": "3.6.6",
      "file_extension": ".py",
      "codemirror_mode": {
        "version": 3,
        "name": "ipython"
      }
    }
  },
  "nbformat": 4,
  "nbformat_minor": 2
}