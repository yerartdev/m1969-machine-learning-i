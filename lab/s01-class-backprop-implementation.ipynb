{
 "cells": [
  {
   "cell_type": "code",
   "execution_count": 1,
   "metadata": {},
   "outputs": [],
   "source": [
    "#::GMG::Cargo los datos del problema (nube de puentos ejemplo)\n",
    "lin <- read.csv(\"lineal.csv\",header = F)"
   ]
  },
  {
   "cell_type": "code",
   "execution_count": 2,
   "metadata": {},
   "outputs": [],
   "source": [
    "#::GMG::Obtengo los índices de los puntos de una de las clases\n",
    "ind <- which(lin[,3]==0)"
   ]
  },
  {
   "cell_type": "code",
   "execution_count": 3,
   "metadata": {},
   "outputs": [
    {
     "data": {
      "image/png": "[encoded data removed]",
      "text/plain": [
       "plot without title"
      ]
     },
     "metadata": {},
     "output_type": "display_data"
    }
   ],
   "source": [
    "#::GMG::Dibujo los puntos con las dos clases\n",
    "plot(lin[ind,1],lin[ind,2],type=\"p\",xlim=c(0,1),ylim=c(0,1))\n",
    "lines(lin[-ind,1],lin[-ind,2],type=\"p\",col=\"red\")"
   ]
  },
  {
   "cell_type": "code",
   "execution_count": 4,
   "metadata": {},
   "outputs": [
    {
     "data": {
      "text/html": [
       "<ol class=list-inline>\n",
       "\t<li>15</li>\n",
       "\t<li>2</li>\n",
       "</ol>\n"
      ],
      "text/latex": [
       "\\begin{enumerate*}\n",
       "\\item 15\n",
       "\\item 2\n",
       "\\end{enumerate*}\n"
      ],
      "text/markdown": [
       "1. 15\n",
       "2. 2\n",
       "\n",
       "\n"
      ],
      "text/plain": [
       "[1] 15  2"
      ]
     },
     "metadata": {},
     "output_type": "display_data"
    }
   ],
   "source": [
    "#::GMG::Obtengo el vector columna (matriz) de entrada de lo que tengo\n",
    "a <- as.matrix(lin[,-3])\n",
    "dim(a)"
   ]
  },
  {
   "cell_type": "code",
   "execution_count": 5,
   "metadata": {},
   "outputs": [
    {
     "data": {
      "text/html": [
       "<ol class=list-inline>\n",
       "\t<li>15</li>\n",
       "\t<li>3</li>\n",
       "</ol>\n"
      ],
      "text/latex": [
       "\\begin{enumerate*}\n",
       "\\item 15\n",
       "\\item 3\n",
       "\\end{enumerate*}\n"
      ],
      "text/markdown": [
       "1. 15\n",
       "2. 3\n",
       "\n",
       "\n"
      ],
      "text/plain": [
       "[1] 15  3"
      ]
     },
     "metadata": {},
     "output_type": "display_data"
    }
   ],
   "source": [
    "#::GMG::Incluyo el bias \n",
    "a <- cbind(a,rep(1,nrow(a)))\n",
    "dim(a)"
   ]
  },
  {
   "cell_type": "code",
   "execution_count": 7,
   "metadata": {},
   "outputs": [
    {
     "data": {
      "text/html": [
       "<ol class=list-inline>\n",
       "\t<li>15</li>\n",
       "\t<li>1</li>\n",
       "</ol>\n"
      ],
      "text/latex": [
       "\\begin{enumerate*}\n",
       "\\item 15\n",
       "\\item 1\n",
       "\\end{enumerate*}\n"
      ],
      "text/markdown": [
       "1. 15\n",
       "2. 1\n",
       "\n",
       "\n"
      ],
      "text/plain": [
       "[1] 15  1"
      ]
     },
     "metadata": {},
     "output_type": "display_data"
    }
   ],
   "source": [
    "#::GMG::Calculo el vector columna (matriz) de salida de lo que quiero\n",
    "b <- as.matrix(lin[,3])\n",
    "dim(b)"
   ]
  },
  {
   "cell_type": "code",
   "execution_count": null,
   "metadata": {},
   "outputs": [],
   "source": [
    "#::GMG::Recordatorio para hacer el producto escalar de la función sigmoid\n",
    "# Producto escalar c(1,2,3)%*%c(3,2,1)\n",
    "#t(b)%*%b\n",
    "#8"
   ]
  },
  {
   "cell_type": "code",
   "execution_count": 8,
   "metadata": {},
   "outputs": [],
   "source": [
    "#::GMG::Elijo la función de activaciónx ue voy a aplicar\n",
    "#       a mis neuronas (sigmoid)\n",
    "#::nota::f'(x) = f(x) (1 - f(x))\n",
    "activacion <- function(z) {\n",
    "    1/(1 + exp(-z))\n",
    "}"
   ]
  },
  {
   "cell_type": "code",
   "execution_count": 10,
   "metadata": {},
   "outputs": [
    {
     "data": {
      "text/html": [
       "<ol class=list-inline>\n",
       "\t<li>3</li>\n",
       "\t<li>1</li>\n",
       "</ol>\n"
      ],
      "text/latex": [
       "\\begin{enumerate*}\n",
       "\\item 3\n",
       "\\item 1\n",
       "\\end{enumerate*}\n"
      ],
      "text/markdown": [
       "1. 3\n",
       "2. 1\n",
       "\n",
       "\n"
      ],
      "text/plain": [
       "[1] 3 1"
      ]
     },
     "metadata": {},
     "output_type": "display_data"
    }
   ],
   "source": [
    "#::GMG::Construyo las neuronas\n",
    "#::nota::solamente tenemos una capa de neuronas de 3x1\n",
    "#         1 capa de entrada/salida de 3 neuronas\n",
    "neurons <- c(ncol(a),ncol(b))\n",
    "neurons"
   ]
  },
  {
   "cell_type": "code",
   "execution_count": 11,
   "metadata": {},
   "outputs": [
    {
     "data": {
      "text/html": [
       "<ol class=list-inline>\n",
       "\t<li>1</li>\n",
       "\t<li>3</li>\n",
       "</ol>\n"
      ],
      "text/latex": [
       "\\begin{enumerate*}\n",
       "\\item 1\n",
       "\\item 3\n",
       "\\end{enumerate*}\n"
      ],
      "text/markdown": [
       "1. 1\n",
       "2. 3\n",
       "\n",
       "\n"
      ],
      "text/plain": [
       "[1] 1 3"
      ]
     },
     "metadata": {},
     "output_type": "display_data"
    }
   ],
   "source": [
    "#::GMG::Calculo una matriz de pesos inicial\n",
    "#::nota::uso la función vectorizada prod()\n",
    "# https://www.rdocumentation.org/packages/base/versions/3.5.2/topics/prod\n",
    "#::DUDA::el rango de los pesos entre -1 y 1 (?)\n",
    "W <- matrix(data = runif(prod(neurons), min = -1, max = 1),\n",
    "            nrow = neurons[2], ncol = neurons[1])\n",
    "dim(W)"
   ]
  },
  {
   "cell_type": "code",
   "execution_count": null,
   "metadata": {},
   "outputs": [],
   "source": [
    "error <- b-bout\n",
    "aux<- error*bout*(1-bout)\n",
    "Wdelta <- t(aux)%*%a"
   ]
  },
  {
   "cell_type": "code",
   "execution_count": null,
   "metadata": {},
   "outputs": [],
   "source": [
    "backprop <- function(y,x, epochs = 10, eta = 0.1) {\n",
    "### Inicializar matrices y listas\n",
    "for (j in 1:epochs) {\n",
    "\n",
    "### Propagar hacia delante\n",
    "### Actualizar pesos\n",
    "### Error output\n",
    "print(error)\n",
    "\n",
    "}\n",
    "### Return values\n",
    "return(...)\n",
    "}"
   ]
  },
  {
   "cell_type": "code",
   "execution_count": null,
   "metadata": {},
   "outputs": [],
   "source": [
    "backprop(b, a,  epochs = 500, eta = 0.1)"
   ]
  }
 ],
 "metadata": {
  "kernelspec": {
   "display_name": "R",
   "language": "R",
   "name": "ir"
  },
  "language_info": {
   "codemirror_mode": "r",
   "file_extension": ".r",
   "mimetype": "text/x-r-source",
   "name": "R",
   "pygments_lexer": "r",
   "version": "3.4.4"
  }
 },
 "nbformat": 4,
 "nbformat_minor": 2
}
