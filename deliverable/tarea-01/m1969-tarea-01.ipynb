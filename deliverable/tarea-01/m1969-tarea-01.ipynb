{
 "cells": [
  {
   "cell_type": "markdown",
   "metadata": {
    "colab_type": "text",
    "id": "uTfzdl56UVAR"
   },
   "source": [
    "# Tarea 1"
   ]
  },
  {
   "cell_type": "markdown",
   "metadata": {
    "colab_type": "text",
    "id": "uaAKbbbzUw9q"
   },
   "source": [
    "## Alumno: Gerardo de Miguel González"
   ]
  },
  {
   "cell_type": "markdown",
   "metadata": {
    "colab_type": "text",
    "id": "7CEzkdTqWrkx"
   },
   "source": [
    "### Generalización (capas ocultas)"
   ]
  },
  {
   "cell_type": "markdown",
   "metadata": {
    "colab_type": "text",
    "id": "sqHvsapfU009"
   },
   "source": [
    "```r\n",
    "lin<-read.csv('circle.csv',header= F)\n",
    "a<-as.matrix(lin[,-3])\n",
    "b<-as.matrix(lin[,3])\n",
    "backprop_mlp(a,b, h=5, epochs= 500, eta = 0.1)  \n",
    "# h: hidden neurons\n",
    "```\n",
    "\n",
    "Generalizar la función `backprop_mlp` anterior para que contemple la inclusión de una capa oculta. Aplicar la función al ejemplo de la clasificación circular. "
   ]
  },
  {
   "cell_type": "code",
   "execution_count": 0,
   "metadata": {
    "colab": {},
    "colab_type": "code",
    "id": "UokLdYZeV6UE"
   },
   "outputs": [],
   "source": [
    ""
   ]
  },
  {
   "cell_type": "markdown",
   "metadata": {
    "colab_type": "text",
    "id": "RUhryxhTV65a"
   },
   "source": [
    "Si se fija el número máximo de épocas en 1000. ¿Qué número de neuronas ocultas y qué valor de la tasa de aprendizaje (eta) es óptimo para este problema? (basta una solución aproximada)."
   ]
  },
  {
   "cell_type": "code",
   "execution_count": 0,
   "metadata": {
    "colab": {},
    "colab_type": "code",
    "id": "VYRQbjJVUOeA"
   },
   "outputs": [],
   "source": [
    ""
   ]
  },
  {
   "cell_type": "markdown",
   "metadata": {
    "colab_type": "text",
    "id": "a5SzKfgvV9Nq"
   },
   "source": [
    "### BONUS 1 ¿Sabrías incluir un término de inercia en el método de backpropagation?"
   ]
  },
  {
   "cell_type": "markdown",
   "metadata": {
    "colab_type": "text",
    "id": "d9Zr6jYZWQvr"
   },
   "source": [
    "NOTA: ver transparencia 4"
   ]
  },
  {
   "cell_type": "code",
   "execution_count": 0,
   "metadata": {
    "colab": {},
    "colab_type": "code",
    "id": "0iZM_j8GV_on"
   },
   "outputs": [],
   "source": [
    ""
   ]
  },
  {
   "cell_type": "markdown",
   "metadata": {
    "colab_type": "text",
    "id": "NHX6DdV8WAB8"
   },
   "source": [
    "### BONUS 2 Generalizar a un número arbitrario de capas"
   ]
  },
  {
   "cell_type": "markdown",
   "metadata": {
    "colab_type": "text",
    "id": "bZe74sWrWWyE"
   },
   "source": [
    "Recomendación: definir los pesos como una lista de matrices, una para cada capa"
   ]
  },
  {
   "cell_type": "code",
   "execution_count": 0,
   "metadata": {
    "colab": {},
    "colab_type": "code",
    "id": "j9Xl-LdSWBO8"
   },
   "outputs": [],
   "source": [
    ""
   ]
  }
 ],
 "metadata": {
  "colab": {
   "name": "m1969-tarea-01.ipynb",
   "provenance": [],
   "version": "0.3.2"
  },
  "kernelspec": {
   "display_name": "Python 3",
   "name": "python3"
  }
 },
 "nbformat": 4,
 "nbformat_minor": 0
}
