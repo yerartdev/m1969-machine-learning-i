{
 "cells": [
  {
   "cell_type": "markdown",
   "metadata": {},
   "source": [
    "# Alumno: Gerardo de Miguel González"
   ]
  },
  {
   "cell_type": "markdown",
   "metadata": {},
   "source": [
    "## Predicción Keras "
   ]
  },
  {
   "cell_type": "markdown",
   "metadata": {},
   "source": [
    "**Practica 2** - predecir la precipitación en Madrid. Hay que entregar tanto el archivo con la prediccion (.rda) como el codigo que lo genera (.html a ser posible, si lo haceis en jupyter notebooks lo podeis guardar como .html).\n",
    "\n",
    " 1) Si habéis predicho la ocurrencia de precipitacion y la cantidad de precipitacion por separado entonces enviadme ambas predicciones tal que:\n",
    "\n",
    "```r\n",
    "save(yTest_ocu,yTest_reg,file=\"yTest.rda\")\n",
    "```\n",
    "\n",
    " 2) Si habeis predicho la ocurrencia y la cantidad de precipitation con el mismo modelo entonces enviadmelo asi:\n",
    "\n",
    "```r\n",
    "save(yTest,file=\"yTest.rda\")\n",
    "```"
   ]
  },
  {
   "cell_type": "markdown",
   "metadata": {},
   "source": [
    "## Descripción detallada"
   ]
  },
  {
   "cell_type": "markdown",
   "metadata": {},
   "source": [
    "El objetivo es diseñar una red neuronal que sea capaz de predecir el valor de la precipitación mediante la información de variables de larga escala. El dataset consiste en 450 predictores y un predictando, la precipitación en Madrid.\n",
    "\n",
    "Hay que tener en cuenta que la precipitación es una variable mixta, ya que habrá días con un valor exacto de 0 y otros que se encuentren en el intervalo (0,inf).\n",
    "\n",
    "Así pues, diseñar una/s red neuronal/es con KERAS, que sea capaz de predecir la precipitación de acuerdo con los siguientes índices:\n",
    "\n",
    "  - La ocurrencia de precipitación se evalúa con el AUC.\n",
    "  - La cantidad de precipitación se evalúa con el MSE.\n",
    "\n",
    "Podréis valeros de todas las técnicas aprendidas hasta ahora: early stopping, regularización, backpropagation + momento, ajustar el learning rate, poner varias capas y demás. Esto no quiere decir que la red que contenga toda esta variedad de técnicas será la que obtenga un menor error. Tenéis que jugar y probar distintos diseños de redes con el fin de encontrar la que consideréis que obtendría un menor error en un dataset distinto (es decir, que tenga buena\n",
    "capacidad de generalización).\n",
    "\n",
    "Construiréis vuestro modelo usando xTrain e yTrain, y después evaluaréis el modelo en xTest. La predicción que resulte al evaluar el modelo en xTest es lo que tenéis que guardar en un fichero y lo que se envía para corrección:\n",
    "\n",
    "```r\n",
    "save(yTest, file = “yTest.rda”)\n",
    "```\n",
    "\n",
    "**NOTA**: se considera día de lluvia si el valor de precipitación es mayor que 1, sino convertir a 0."
   ]
  },
  {
   "cell_type": "markdown",
   "metadata": {},
   "source": [
    "## Dataset Meteo Madrid"
   ]
  },
  {
   "cell_type": "markdown",
   "metadata": {},
   "source": [
    "Se proporciona el dataset `Madrid_Alumno.rda` junto con el enunciado de la práctica"
   ]
  },
  {
   "cell_type": "code",
   "execution_count": 3,
   "metadata": {},
   "outputs": [
    {
     "data": {
      "text/html": [
       "<table>\n",
       "<thead><tr><th></th><th scope=col>size</th><th scope=col>isdir</th><th scope=col>mode</th><th scope=col>mtime</th><th scope=col>ctime</th><th scope=col>atime</th><th scope=col>uid</th><th scope=col>gid</th><th scope=col>uname</th><th scope=col>grname</th></tr></thead>\n",
       "<tbody>\n",
       "\t<tr><th scope=row>data/Madrid_Alumno.rda</th><td>20099579           </td><td>FALSE              </td><td>644                </td><td>2019-03-22 11:31:26</td><td>2019-03-22 11:31:26</td><td>2019-03-22 11:35:08</td><td>1000               </td><td>100                </td><td>jovyan             </td><td>users              </td></tr>\n",
       "</tbody>\n",
       "</table>\n"
      ],
      "text/latex": [
       "\\begin{tabular}{r|llllllllll}\n",
       "  & size & isdir & mode & mtime & ctime & atime & uid & gid & uname & grname\\\\\n",
       "\\hline\n",
       "\tdata/Madrid\\_Alumno.rda & 20099579            & FALSE               & 644                 & 2019-03-22 11:31:26 & 2019-03-22 11:31:26 & 2019-03-22 11:35:08 & 1000                & 100                 & jovyan              & users              \\\\\n",
       "\\end{tabular}\n"
      ],
      "text/markdown": [
       "\n",
       "| <!--/--> | size | isdir | mode | mtime | ctime | atime | uid | gid | uname | grname | \n",
       "|---|\n",
       "| data/Madrid_Alumno.rda | 20099579            | FALSE               | 644                 | 2019-03-22 11:31:26 | 2019-03-22 11:31:26 | 2019-03-22 11:35:08 | 1000                | 100                 | jovyan              | users               | \n",
       "\n",
       "\n"
      ],
      "text/plain": [
       "                       size     isdir mode mtime              \n",
       "data/Madrid_Alumno.rda 20099579 FALSE 644  2019-03-22 11:31:26\n",
       "                       ctime               atime               uid  gid uname \n",
       "data/Madrid_Alumno.rda 2019-03-22 11:31:26 2019-03-22 11:35:08 1000 100 jovyan\n",
       "                       grname\n",
       "data/Madrid_Alumno.rda users "
      ]
     },
     "metadata": {},
     "output_type": "display_data"
    }
   ],
   "source": [
    "file.info('data/Madrid_Alumno.rda')"
   ]
  },
  {
   "cell_type": "code",
   "execution_count": 4,
   "metadata": {},
   "outputs": [],
   "source": [
    "#::GMG::Cargo en memoria el rda\n",
    "# https://stat.ethz.ch/R-manual/R-devel/library/base/html/load.html\n",
    "load('data/Madrid_Alumno.rda')"
   ]
  },
  {
   "cell_type": "code",
   "execution_count": 5,
   "metadata": {},
   "outputs": [
    {
     "data": {
      "text/html": [
       "<ol class=list-inline>\n",
       "\t<li>'xTest'</li>\n",
       "\t<li>'xTrain'</li>\n",
       "\t<li>'yTrain'</li>\n",
       "</ol>\n"
      ],
      "text/latex": [
       "\\begin{enumerate*}\n",
       "\\item 'xTest'\n",
       "\\item 'xTrain'\n",
       "\\item 'yTrain'\n",
       "\\end{enumerate*}\n"
      ],
      "text/markdown": [
       "1. 'xTest'\n",
       "2. 'xTrain'\n",
       "3. 'yTrain'\n",
       "\n",
       "\n"
      ],
      "text/plain": [
       "[1] \"xTest\"  \"xTrain\" \"yTrain\""
      ]
     },
     "metadata": {},
     "output_type": "display_data"
    }
   ],
   "source": [
    "#::GMG::Tengo los tres \"objetos\" que se mencionan en el enunciado\n",
    "ls()"
   ]
  },
  {
   "cell_type": "code",
   "execution_count": 6,
   "metadata": {},
   "outputs": [
    {
     "name": "stdout",
     "output_type": "stream",
     "text": [
      " num [1:2192, 1:450] 57168 56932 56256 55960 55665 ...\n"
     ]
    }
   ],
   "source": [
    "str(xTest)"
   ]
  },
  {
   "cell_type": "code",
   "execution_count": 12,
   "metadata": {},
   "outputs": [
    {
     "data": {
      "text/html": [
       "'matrix'"
      ],
      "text/latex": [
       "'matrix'"
      ],
      "text/markdown": [
       "'matrix'"
      ],
      "text/plain": [
       "[1] \"matrix\""
      ]
     },
     "metadata": {},
     "output_type": "display_data"
    }
   ],
   "source": [
    "class(xTest)"
   ]
  },
  {
   "cell_type": "code",
   "execution_count": 11,
   "metadata": {},
   "outputs": [
    {
     "data": {
      "text/html": [
       "<ol class=list-inline>\n",
       "\t<li>2192</li>\n",
       "\t<li>450</li>\n",
       "</ol>\n"
      ],
      "text/latex": [
       "\\begin{enumerate*}\n",
       "\\item 2192\n",
       "\\item 450\n",
       "\\end{enumerate*}\n"
      ],
      "text/markdown": [
       "1. 2192\n",
       "2. 450\n",
       "\n",
       "\n"
      ],
      "text/plain": [
       "[1] 2192  450"
      ]
     },
     "metadata": {},
     "output_type": "display_data"
    }
   ],
   "source": [
    "dim(xTest)"
   ]
  },
  {
   "cell_type": "code",
   "execution_count": 7,
   "metadata": {},
   "outputs": [
    {
     "name": "stdout",
     "output_type": "stream",
     "text": [
      " num [1:8766, 1:450] 57043 56963 56523 54628 53584 ...\n"
     ]
    }
   ],
   "source": [
    "str(xTrain)"
   ]
  },
  {
   "cell_type": "code",
   "execution_count": 13,
   "metadata": {},
   "outputs": [
    {
     "data": {
      "text/html": [
       "'matrix'"
      ],
      "text/latex": [
       "'matrix'"
      ],
      "text/markdown": [
       "'matrix'"
      ],
      "text/plain": [
       "[1] \"matrix\""
      ]
     },
     "metadata": {},
     "output_type": "display_data"
    }
   ],
   "source": [
    "class(xTrain)"
   ]
  },
  {
   "cell_type": "code",
   "execution_count": 10,
   "metadata": {},
   "outputs": [
    {
     "data": {
      "text/html": [
       "<ol class=list-inline>\n",
       "\t<li>8766</li>\n",
       "\t<li>450</li>\n",
       "</ol>\n"
      ],
      "text/latex": [
       "\\begin{enumerate*}\n",
       "\\item 8766\n",
       "\\item 450\n",
       "\\end{enumerate*}\n"
      ],
      "text/markdown": [
       "1. 8766\n",
       "2. 450\n",
       "\n",
       "\n"
      ],
      "text/plain": [
       "[1] 8766  450"
      ]
     },
     "metadata": {},
     "output_type": "display_data"
    }
   ],
   "source": [
    "dim(xTrain)"
   ]
  },
  {
   "cell_type": "code",
   "execution_count": 8,
   "metadata": {},
   "outputs": [
    {
     "name": "stdout",
     "output_type": "stream",
     "text": [
      " num [1:8766(1d)] 0.2 0 7.4 0 0 1.6 7.8 0 0 0 ...\n",
      " - attr(*, \"dimensions\")= chr \"time\"\n"
     ]
    }
   ],
   "source": [
    "str(yTrain)"
   ]
  },
  {
   "cell_type": "code",
   "execution_count": 14,
   "metadata": {},
   "outputs": [
    {
     "data": {
      "text/html": [
       "'array'"
      ],
      "text/latex": [
       "'array'"
      ],
      "text/markdown": [
       "'array'"
      ],
      "text/plain": [
       "[1] \"array\""
      ]
     },
     "metadata": {},
     "output_type": "display_data"
    }
   ],
   "source": [
    "class(yTrain)"
   ]
  },
  {
   "cell_type": "code",
   "execution_count": 9,
   "metadata": {},
   "outputs": [
    {
     "data": {
      "text/html": [
       "8766"
      ],
      "text/latex": [
       "8766"
      ],
      "text/markdown": [
       "8766"
      ],
      "text/plain": [
       "[1] 8766"
      ]
     },
     "metadata": {},
     "output_type": "display_data"
    }
   ],
   "source": [
    "dim(yTrain)"
   ]
  },
  {
   "cell_type": "code",
   "execution_count": 15,
   "metadata": {},
   "outputs": [
    {
     "data": {
      "text/html": [
       "<ol class=list-inline>\n",
       "\t<li>8766</li>\n",
       "\t<li>1</li>\n",
       "</ol>\n"
      ],
      "text/latex": [
       "\\begin{enumerate*}\n",
       "\\item 8766\n",
       "\\item 1\n",
       "\\end{enumerate*}\n"
      ],
      "text/markdown": [
       "1. 8766\n",
       "2. 1\n",
       "\n",
       "\n"
      ],
      "text/plain": [
       "[1] 8766    1"
      ]
     },
     "metadata": {},
     "output_type": "display_data"
    }
   ],
   "source": [
    "dim(as.matrix(yTrain))"
   ]
  },
  {
   "cell_type": "markdown",
   "metadata": {},
   "source": [
    "## Biblioteca"
   ]
  },
  {
   "cell_type": "code",
   "execution_count": 1,
   "metadata": {},
   "outputs": [],
   "source": [
    "#::GMG::Hay que usar Keras en R\n",
    "library(keras)"
   ]
  },
  {
   "cell_type": "markdown",
   "metadata": {},
   "source": [
    "## Preparación de los datos"
   ]
  },
  {
   "cell_type": "code",
   "execution_count": null,
   "metadata": {},
   "outputs": [],
   "source": [
    "#::GMG:: Normalzación\n"
   ]
  },
  {
   "cell_type": "markdown",
   "metadata": {},
   "source": [
    "## Modelo de Clasificación"
   ]
  },
  {
   "cell_type": "markdown",
   "metadata": {},
   "source": [
    "### Construcción de la red inicial"
   ]
  },
  {
   "cell_type": "code",
   "execution_count": 22,
   "metadata": {},
   "outputs": [],
   "source": [
    "#::GMG::Sigo el guión que hemos trabajado en clase\n",
    "# Paso 1. Defino mi modelo como una estructura secuencial.\n",
    "modelo_class <- keras_model_sequential()"
   ]
  },
  {
   "cell_type": "code",
   "execution_count": 23,
   "metadata": {},
   "outputs": [],
   "source": [
    "#::GMG::Comienzo con una red \"simple\" con una capa oculta de 10 neuronas\n",
    "# Paso 2. Defino la topología de la red neuronal\n",
    "# 450 -- 5 -- 1\n",
    "modelo_class %>% \n",
    "  # capa oculta\n",
    "  layer_dense(units = 10, input_shape = 450, activation = \"sigmoid\") %>% \n",
    "  layer_dense(units = 1 , activation = \"sigmoid\") "
   ]
  },
  {
   "cell_type": "code",
   "execution_count": 24,
   "metadata": {},
   "outputs": [
    {
     "name": "stdout",
     "output_type": "stream",
     "text": [
      "Model\n",
      "________________________________________________________________________________\n",
      "Layer (type)                        Output Shape                    Param #     \n",
      "================================================================================\n",
      "dense_5 (Dense)                     (None, 10)                      4510        \n",
      "________________________________________________________________________________\n",
      "dense_6 (Dense)                     (None, 1)                       11          \n",
      "================================================================================\n",
      "Total params: 4,521\n",
      "Trainable params: 4,521\n",
      "Non-trainable params: 0\n",
      "________________________________________________________________________________\n",
      "\n",
      "\n"
     ]
    }
   ],
   "source": [
    "#::GMG::Visualizo mi modelo\n",
    "str(modelo_class)"
   ]
  },
  {
   "cell_type": "code",
   "execution_count": null,
   "metadata": {},
   "outputs": [],
   "source": [
    "# una medida mejor que accuracy cuando hay desequlibrio entre clases\n",
    "# Fmeasure <- 2 * precision * recall / (precision + recall)"
   ]
  },
  {
   "cell_type": "code",
   "execution_count": null,
   "metadata": {},
   "outputs": [],
   "source": [
    "# ::GMG:: Me mantengo en lo clásico: backprop con SGD, de momento sin optimizaciones\n",
    "# Paso 3. Defino cómo va a aprender la red: algoritmo de aprendizaje y función a minimizar\n",
    "modelo_class %>% compile(\n",
    "  optimizer = optimizer_sgd(lr = 0.1),\n",
    "  loss='binary_crossentropy',\n",
    "  metrics=['accuracy']\n",
    ")"
   ]
  },
  {
   "cell_type": "markdown",
   "metadata": {},
   "source": [
    "### Entrenamiento"
   ]
  },
  {
   "cell_type": "code",
   "execution_count": null,
   "metadata": {},
   "outputs": [],
   "source": [
    "# Paso 4. Entreno el modelo y lo valido\n",
    "# ::GMG:: Voy a controlar un sobreajuste separando un validation set\n",
    "#         en el entrenamiento (tal y como nos han indicado en las sesiones prácticas)\n",
    "#::nota:: además voy a monitorizar el tiempo de entrenamiento\n",
    "timeKERAS_begin <- Sys.time(\n",
    "history <- modelo_class %>% fit(x_train, \n",
    "                                y_train, \n",
    "                                epochs = 20, \n",
    "                                batch_size = 100,\n",
    "                                validation_split = 0.2)\n",
    "timeKERAS_end <- Sys.time()\n",
    "timeKERAS <- timeKERAS_end - timeKERAS_begin\n",
    "timeKERAS"
   ]
  },
  {
   "cell_type": "code",
   "execution_count": null,
   "metadata": {},
   "outputs": [],
   "source": [
    "#::GMG::Veo el resultado\n",
    "plot(history)"
   ]
  },
  {
   "cell_type": "code",
   "execution_count": null,
   "metadata": {},
   "outputs": [],
   "source": [
    "# Paso 5. (opcional) regularización L1, L2, ElasticNet(L1/L2)\n"
   ]
  },
  {
   "cell_type": "code",
   "execution_count": null,
   "metadata": {},
   "outputs": [],
   "source": [
    "# Paso X: evaluación final el modelo\n",
    "# ::GMG::El problema que tenemos aquí es que no tenemos el yTest\n",
    "#        por lo tanto este sería el paso previo a la grabación del\n",
    "#        resultado que nos piden\n",
    "#pred <- predict(modelo_class,x_test)"
   ]
  },
  {
   "cell_type": "code",
   "execution_count": null,
   "metadata": {},
   "outputs": [],
   "source": []
  },
  {
   "cell_type": "markdown",
   "metadata": {},
   "source": [
    "### Tuning de hiperparametros"
   ]
  },
  {
   "cell_type": "code",
   "execution_count": null,
   "metadata": {},
   "outputs": [],
   "source": []
  },
  {
   "cell_type": "markdown",
   "metadata": {},
   "source": [
    "## Modelo de Regresión"
   ]
  },
  {
   "cell_type": "markdown",
   "metadata": {},
   "source": [
    "### Construcción de la red inicial"
   ]
  },
  {
   "cell_type": "code",
   "execution_count": null,
   "metadata": {},
   "outputs": [],
   "source": []
  },
  {
   "cell_type": "markdown",
   "metadata": {},
   "source": [
    "### Entrenamiento"
   ]
  },
  {
   "cell_type": "code",
   "execution_count": null,
   "metadata": {},
   "outputs": [],
   "source": []
  },
  {
   "cell_type": "markdown",
   "metadata": {},
   "source": [
    "### Tuning de hiperparametros"
   ]
  },
  {
   "cell_type": "code",
   "execution_count": null,
   "metadata": {},
   "outputs": [],
   "source": []
  },
  {
   "cell_type": "markdown",
   "metadata": {},
   "source": [
    "## Grabación de modelos"
   ]
  },
  {
   "cell_type": "code",
   "execution_count": null,
   "metadata": {},
   "outputs": [],
   "source": []
  },
  {
   "cell_type": "code",
   "execution_count": null,
   "metadata": {},
   "outputs": [],
   "source": []
  }
 ],
 "metadata": {
  "kernelspec": {
   "display_name": "R",
   "language": "R",
   "name": "ir"
  },
  "language_info": {
   "codemirror_mode": "r",
   "file_extension": ".r",
   "mimetype": "text/x-r-source",
   "name": "R",
   "pygments_lexer": "r",
   "version": "3.4.4"
  }
 },
 "nbformat": 4,
 "nbformat_minor": 2
}
