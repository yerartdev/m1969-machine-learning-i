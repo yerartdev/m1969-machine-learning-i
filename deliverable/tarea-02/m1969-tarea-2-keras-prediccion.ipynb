{
 "cells": [
  {
   "cell_type": "markdown",
   "metadata": {},
   "source": [
    "# Alumno: Gerardo de Miguel González"
   ]
  },
  {
   "cell_type": "markdown",
   "metadata": {},
   "source": [
    "## Keras Prediccion"
   ]
  },
  {
   "cell_type": "markdown",
   "metadata": {},
   "source": [
    "**Practica 2** - predecir la precipitación en Madrid. Hay que entregar tanto el archivo con la prediccion (.rda) como el codigo que lo genera (.html a ser posible, si lo haceis en jupyter notebooks lo podeis guardar como .html).\n",
    "\n",
    " 1) Si habéis predicho la ocurrencia de precipitacion y la cantidad de precipitacion por separado entonces enviadme ambas predicciones tal que:\n",
    "\n",
    "```r\n",
    "save(yTest_ocu,yTest_reg,file=\"yTest.rda\")\n",
    "```\n",
    "\n",
    " 2) Si habeis predicho la ocurrencia y la cantidad de precipitation con el mismo modelo entonces enviadmelo asi:\n",
    "\n",
    "```r\n",
    "save(yTest,file=\"yTest.rda\")\n",
    "```"
   ]
  },
  {
   "cell_type": "markdown",
   "metadata": {},
   "source": [
    "## Descripción detallada"
   ]
  },
  {
   "cell_type": "markdown",
   "metadata": {},
   "source": [
    "El objetivo es diseñar una red neuronal que sea capaz de predecir el valor de la precipitación mediante la información de variables de larga escala. El dataset consiste en 450 predictores y un predictando, la precipitación en Madrid.\n",
    "\n",
    "Hay que tener en cuenta que la precipitación es una variable mixta, ya que habrá días con un valor exacto de 0 y otros que se encuentren en el intervalo (0,inf).\n",
    "\n",
    "Así pues, diseñar una/s red neuronal/es con KERAS, que sea capaz de predecir la precipitación de acuerdo con los siguientes índices:\n",
    "\n",
    "  - La ocurrencia de precipitación se evalúa con el AUC.\n",
    "  - La cantidad de precipitación se evalúa con el MSE.\n",
    "\n",
    "Podréis valeros de todas las técnicas aprendidas hasta ahora: early stopping, regularización, backpropagation + momento, ajustar el learning rate, poner varias capas y demás. Esto no quiere decir que la red que contenga toda esta variedad de técnicas será la que obtenga un menor error. Tenéis que jugar y probar distintos diseños de redes con el fin de encontrar la que consideréis que obtendría un menor error en un dataset distinto (es decir, que tenga buena\n",
    "capacidad de generalización).\n",
    "\n",
    "Construiréis vuestro modelo usando xTrain e yTrain, y después evaluaréis el modelo en xTest. La predicción que resulte al evaluar el modelo en xTest es lo que tenéis que guardar en un fichero y lo que se envía para corrección:\n",
    "\n",
    "```r\n",
    "save(yTest, file = “yTest.rda”)\n",
    "```\n",
    "\n",
    "**NOTA**: se considera día de lluvia si el valor de precipitación es mayor que 1, sino convertir a 0."
   ]
  },
  {
   "cell_type": "markdown",
   "metadata": {},
   "source": [
    "## Dataset Meteo Madrid"
   ]
  },
  {
   "cell_type": "markdown",
   "metadata": {},
   "source": [
    "Se proporciona el dataset `Madrid_Alumno.rda` junto con el enunciado de la práctica\n",
    "\n",
    "**::GMG::** ¿Cómo se lee el rda?"
   ]
  },
  {
   "cell_type": "code",
   "execution_count": 1,
   "metadata": {},
   "outputs": [
    {
     "data": {
      "text/html": [
       "<table>\n",
       "<thead><tr><th></th><th scope=col>size</th><th scope=col>isdir</th><th scope=col>mode</th><th scope=col>mtime</th><th scope=col>ctime</th><th scope=col>atime</th><th scope=col>uid</th><th scope=col>gid</th><th scope=col>uname</th><th scope=col>grname</th></tr></thead>\n",
       "<tbody>\n",
       "\t<tr><th scope=row>data/Madrid_Alumno.rda</th><td>20099579           </td><td>FALSE              </td><td>644                </td><td>2019-03-22 11:31:26</td><td>2019-03-22 11:31:26</td><td>2019-03-22 11:35:08</td><td>1000               </td><td>100                </td><td>jovyan             </td><td>users              </td></tr>\n",
       "</tbody>\n",
       "</table>\n"
      ],
      "text/latex": [
       "\\begin{tabular}{r|llllllllll}\n",
       "  & size & isdir & mode & mtime & ctime & atime & uid & gid & uname & grname\\\\\n",
       "\\hline\n",
       "\tdata/Madrid\\_Alumno.rda & 20099579            & FALSE               & 644                 & 2019-03-22 11:31:26 & 2019-03-22 11:31:26 & 2019-03-22 11:35:08 & 1000                & 100                 & jovyan              & users              \\\\\n",
       "\\end{tabular}\n"
      ],
      "text/markdown": [
       "\n",
       "| <!--/--> | size | isdir | mode | mtime | ctime | atime | uid | gid | uname | grname | \n",
       "|---|\n",
       "| data/Madrid_Alumno.rda | 20099579            | FALSE               | 644                 | 2019-03-22 11:31:26 | 2019-03-22 11:31:26 | 2019-03-22 11:35:08 | 1000                | 100                 | jovyan              | users               | \n",
       "\n",
       "\n"
      ],
      "text/plain": [
       "                       size     isdir mode mtime              \n",
       "data/Madrid_Alumno.rda 20099579 FALSE 644  2019-03-22 11:31:26\n",
       "                       ctime               atime               uid  gid uname \n",
       "data/Madrid_Alumno.rda 2019-03-22 11:31:26 2019-03-22 11:35:08 1000 100 jovyan\n",
       "                       grname\n",
       "data/Madrid_Alumno.rda users "
      ]
     },
     "metadata": {},
     "output_type": "display_data"
    }
   ],
   "source": [
    "file.info('data/Madrid_Alumno.rda')"
   ]
  },
  {
   "cell_type": "code",
   "execution_count": 2,
   "metadata": {},
   "outputs": [
    {
     "data": {
      "text/html": [
       "<ol class=list-inline>\n",
       "\t<li>'xTest'</li>\n",
       "\t<li>'xTrain'</li>\n",
       "\t<li>'yTrain'</li>\n",
       "</ol>\n"
      ],
      "text/latex": [
       "\\begin{enumerate*}\n",
       "\\item 'xTest'\n",
       "\\item 'xTrain'\n",
       "\\item 'yTrain'\n",
       "\\end{enumerate*}\n"
      ],
      "text/markdown": [
       "1. 'xTest'\n",
       "2. 'xTrain'\n",
       "3. 'yTrain'\n",
       "\n",
       "\n"
      ],
      "text/plain": [
       "[1] \"xTest\"  \"xTrain\" \"yTrain\""
      ]
     },
     "metadata": {},
     "output_type": "display_data"
    }
   ],
   "source": [
    "# https://stat.ethz.ch/R-manual/R-devel/library/base/html/load.html\n",
    "load('data/Madrid_Alumno.rda')\n",
    "ls()"
   ]
  },
  {
   "cell_type": "code",
   "execution_count": 3,
   "metadata": {},
   "outputs": [
    {
     "name": "stdout",
     "output_type": "stream",
     "text": [
      " num [1:2192, 1:450] 57168 56932 56256 55960 55665 ...\n"
     ]
    }
   ],
   "source": [
    "str(xTest)"
   ]
  },
  {
   "cell_type": "code",
   "execution_count": 4,
   "metadata": {},
   "outputs": [
    {
     "name": "stdout",
     "output_type": "stream",
     "text": [
      " num [1:8766, 1:450] 57043 56963 56523 54628 53584 ...\n"
     ]
    }
   ],
   "source": [
    "str(xTrain)"
   ]
  },
  {
   "cell_type": "code",
   "execution_count": 5,
   "metadata": {},
   "outputs": [
    {
     "name": "stdout",
     "output_type": "stream",
     "text": [
      " num [1:8766(1d)] 0.2 0 7.4 0 0 1.6 7.8 0 0 0 ...\n",
      " - attr(*, \"dimensions\")= chr \"time\"\n"
     ]
    }
   ],
   "source": [
    "str(yTrain)"
   ]
  },
  {
   "cell_type": "code",
   "execution_count": null,
   "metadata": {},
   "outputs": [],
   "source": []
  }
 ],
 "metadata": {
  "kernelspec": {
   "display_name": "R",
   "language": "R",
   "name": "ir"
  },
  "language_info": {
   "codemirror_mode": "r",
   "file_extension": ".r",
   "mimetype": "text/x-r-source",
   "name": "R",
   "pygments_lexer": "r",
   "version": "3.4.4"
  }
 },
 "nbformat": 4,
 "nbformat_minor": 2
}
