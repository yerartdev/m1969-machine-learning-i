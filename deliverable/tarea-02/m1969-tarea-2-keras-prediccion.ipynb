{
 "cells": [
  {
   "cell_type": "markdown",
   "metadata": {},
   "source": [
    "# Alumno: Gerardo de Miguel González"
   ]
  },
  {
   "cell_type": "markdown",
   "metadata": {},
   "source": [
    "## Predicción Keras "
   ]
  },
  {
   "cell_type": "markdown",
   "metadata": {},
   "source": [
    "**Practica 2** - predecir la precipitación en Madrid. Hay que entregar tanto el archivo con la prediccion (.rda) como el codigo que lo genera (.html a ser posible, si lo haceis en jupyter notebooks lo podeis guardar como .html).\n",
    "\n",
    " 1) Si habéis predicho la ocurrencia de precipitacion y la cantidad de precipitacion por separado entonces enviadme ambas predicciones tal que:\n",
    "\n",
    "```r\n",
    "save(yTest_ocu,yTest_reg,file=\"yTest.rda\")\n",
    "```\n",
    "\n",
    " 2) Si habeis predicho la ocurrencia y la cantidad de precipitation con el mismo modelo entonces enviadmelo asi:\n",
    "\n",
    "```r\n",
    "save(yTest,file=\"yTest.rda\")\n",
    "```"
   ]
  },
  {
   "cell_type": "markdown",
   "metadata": {},
   "source": [
    "## Descripción detallada"
   ]
  },
  {
   "cell_type": "markdown",
   "metadata": {},
   "source": [
    "El objetivo es diseñar una red neuronal que sea capaz de predecir el valor de la precipitación mediante la información de variables de larga escala. El dataset consiste en 450 predictores y un predictando, la precipitación en Madrid.\n",
    "\n",
    "Hay que tener en cuenta que la precipitación es una variable mixta, ya que habrá días con un valor exacto de 0 y otros que se encuentren en el intervalo (0,inf).\n",
    "\n",
    "Así pues, diseñar una/s red neuronal/es con KERAS, que sea capaz de predecir la precipitación de acuerdo con los siguientes índices:\n",
    "\n",
    "  - La ocurrencia de precipitación se evalúa con el AUC.\n",
    "  - La cantidad de precipitación se evalúa con el MSE.\n",
    "\n",
    "Podréis valeros de todas las técnicas aprendidas hasta ahora: early stopping, regularización, backpropagation + momento, ajustar el learning rate, poner varias capas y demás. Esto no quiere decir que la red que contenga toda esta variedad de técnicas será la que obtenga un menor error. Tenéis que jugar y probar distintos diseños de redes con el fin de encontrar la que consideréis que obtendría un menor error en un dataset distinto (es decir, que tenga buena\n",
    "capacidad de generalización).\n",
    "\n",
    "Construiréis vuestro modelo usando xTrain e yTrain, y después evaluaréis el modelo en xTest. La predicción que resulte al evaluar el modelo en xTest es lo que tenéis que guardar en un fichero y lo que se envía para corrección:\n",
    "\n",
    "```r\n",
    "save(yTest, file = “yTest.rda”)\n",
    "```\n",
    "\n",
    "**NOTA**: se considera día de lluvia si el valor de precipitación es mayor que 1, sino convertir a 0."
   ]
  },
  {
   "cell_type": "markdown",
   "metadata": {},
   "source": [
    "## Dataset Meteo Madrid"
   ]
  },
  {
   "cell_type": "markdown",
   "metadata": {},
   "source": [
    "Se proporciona el dataset `Madrid_Alumno.rda` junto con el enunciado de la práctica"
   ]
  },
  {
   "cell_type": "code",
   "execution_count": 1,
   "metadata": {},
   "outputs": [
    {
     "data": {
      "text/html": [
       "<table>\n",
       "<thead><tr><th></th><th scope=col>size</th><th scope=col>isdir</th><th scope=col>mode</th><th scope=col>mtime</th><th scope=col>ctime</th><th scope=col>atime</th><th scope=col>uid</th><th scope=col>gid</th><th scope=col>uname</th><th scope=col>grname</th></tr></thead>\n",
       "<tbody>\n",
       "\t<tr><th scope=row>data/Madrid_Alumno.rda</th><td>20099579           </td><td>FALSE              </td><td>644                </td><td>2019-03-22 11:31:26</td><td>2019-03-22 11:31:26</td><td>2019-03-31 18:40:47</td><td>1000               </td><td>100                </td><td>jovyan             </td><td>users              </td></tr>\n",
       "</tbody>\n",
       "</table>\n"
      ],
      "text/latex": [
       "\\begin{tabular}{r|llllllllll}\n",
       "  & size & isdir & mode & mtime & ctime & atime & uid & gid & uname & grname\\\\\n",
       "\\hline\n",
       "\tdata/Madrid\\_Alumno.rda & 20099579            & FALSE               & 644                 & 2019-03-22 11:31:26 & 2019-03-22 11:31:26 & 2019-03-31 18:40:47 & 1000                & 100                 & jovyan              & users              \\\\\n",
       "\\end{tabular}\n"
      ],
      "text/markdown": [
       "\n",
       "| <!--/--> | size | isdir | mode | mtime | ctime | atime | uid | gid | uname | grname | \n",
       "|---|\n",
       "| data/Madrid_Alumno.rda | 20099579            | FALSE               | 644                 | 2019-03-22 11:31:26 | 2019-03-22 11:31:26 | 2019-03-31 18:40:47 | 1000                | 100                 | jovyan              | users               | \n",
       "\n",
       "\n"
      ],
      "text/plain": [
       "                       size     isdir mode mtime              \n",
       "data/Madrid_Alumno.rda 20099579 FALSE 644  2019-03-22 11:31:26\n",
       "                       ctime               atime               uid  gid uname \n",
       "data/Madrid_Alumno.rda 2019-03-22 11:31:26 2019-03-31 18:40:47 1000 100 jovyan\n",
       "                       grname\n",
       "data/Madrid_Alumno.rda users "
      ]
     },
     "metadata": {},
     "output_type": "display_data"
    }
   ],
   "source": [
    "file.info('data/Madrid_Alumno.rda')"
   ]
  },
  {
   "cell_type": "code",
   "execution_count": 2,
   "metadata": {},
   "outputs": [],
   "source": [
    "#::GMG::Cargo en memoria el rda\n",
    "# https://stat.ethz.ch/R-manual/R-devel/library/base/html/load.html\n",
    "load('data/Madrid_Alumno.rda')"
   ]
  },
  {
   "cell_type": "code",
   "execution_count": 3,
   "metadata": {},
   "outputs": [
    {
     "data": {
      "text/html": [
       "<ol class=list-inline>\n",
       "\t<li>'xTest'</li>\n",
       "\t<li>'xTrain'</li>\n",
       "\t<li>'yTrain'</li>\n",
       "</ol>\n"
      ],
      "text/latex": [
       "\\begin{enumerate*}\n",
       "\\item 'xTest'\n",
       "\\item 'xTrain'\n",
       "\\item 'yTrain'\n",
       "\\end{enumerate*}\n"
      ],
      "text/markdown": [
       "1. 'xTest'\n",
       "2. 'xTrain'\n",
       "3. 'yTrain'\n",
       "\n",
       "\n"
      ],
      "text/plain": [
       "[1] \"xTest\"  \"xTrain\" \"yTrain\""
      ]
     },
     "metadata": {},
     "output_type": "display_data"
    }
   ],
   "source": [
    "#::GMG::Tengo los tres \"objetos\" que se mencionan en el enunciado\n",
    "ls()"
   ]
  },
  {
   "cell_type": "code",
   "execution_count": 4,
   "metadata": {},
   "outputs": [
    {
     "name": "stdout",
     "output_type": "stream",
     "text": [
      " num [1:2192, 1:450] 57168 56932 56256 55960 55665 ...\n"
     ]
    }
   ],
   "source": [
    "str(xTest)"
   ]
  },
  {
   "cell_type": "code",
   "execution_count": 5,
   "metadata": {},
   "outputs": [
    {
     "data": {
      "text/html": [
       "'matrix'"
      ],
      "text/latex": [
       "'matrix'"
      ],
      "text/markdown": [
       "'matrix'"
      ],
      "text/plain": [
       "[1] \"matrix\""
      ]
     },
     "metadata": {},
     "output_type": "display_data"
    }
   ],
   "source": [
    "class(xTest)"
   ]
  },
  {
   "cell_type": "code",
   "execution_count": 6,
   "metadata": {},
   "outputs": [
    {
     "data": {
      "text/html": [
       "<ol class=list-inline>\n",
       "\t<li>2192</li>\n",
       "\t<li>450</li>\n",
       "</ol>\n"
      ],
      "text/latex": [
       "\\begin{enumerate*}\n",
       "\\item 2192\n",
       "\\item 450\n",
       "\\end{enumerate*}\n"
      ],
      "text/markdown": [
       "1. 2192\n",
       "2. 450\n",
       "\n",
       "\n"
      ],
      "text/plain": [
       "[1] 2192  450"
      ]
     },
     "metadata": {},
     "output_type": "display_data"
    }
   ],
   "source": [
    "dim(xTest)"
   ]
  },
  {
   "cell_type": "code",
   "execution_count": 7,
   "metadata": {},
   "outputs": [
    {
     "name": "stdout",
     "output_type": "stream",
     "text": [
      " num [1:8766, 1:450] 57043 56963 56523 54628 53584 ...\n"
     ]
    }
   ],
   "source": [
    "str(xTrain)"
   ]
  },
  {
   "cell_type": "code",
   "execution_count": 8,
   "metadata": {},
   "outputs": [
    {
     "data": {
      "text/html": [
       "'matrix'"
      ],
      "text/latex": [
       "'matrix'"
      ],
      "text/markdown": [
       "'matrix'"
      ],
      "text/plain": [
       "[1] \"matrix\""
      ]
     },
     "metadata": {},
     "output_type": "display_data"
    }
   ],
   "source": [
    "class(xTrain)"
   ]
  },
  {
   "cell_type": "code",
   "execution_count": 9,
   "metadata": {},
   "outputs": [
    {
     "data": {
      "text/html": [
       "<ol class=list-inline>\n",
       "\t<li>8766</li>\n",
       "\t<li>450</li>\n",
       "</ol>\n"
      ],
      "text/latex": [
       "\\begin{enumerate*}\n",
       "\\item 8766\n",
       "\\item 450\n",
       "\\end{enumerate*}\n"
      ],
      "text/markdown": [
       "1. 8766\n",
       "2. 450\n",
       "\n",
       "\n"
      ],
      "text/plain": [
       "[1] 8766  450"
      ]
     },
     "metadata": {},
     "output_type": "display_data"
    }
   ],
   "source": [
    "dim(xTrain)"
   ]
  },
  {
   "cell_type": "code",
   "execution_count": 10,
   "metadata": {},
   "outputs": [
    {
     "name": "stdout",
     "output_type": "stream",
     "text": [
      " num [1:8766(1d)] 0.2 0 7.4 0 0 1.6 7.8 0 0 0 ...\n",
      " - attr(*, \"dimensions\")= chr \"time\"\n"
     ]
    }
   ],
   "source": [
    "str(yTrain)"
   ]
  },
  {
   "cell_type": "code",
   "execution_count": 11,
   "metadata": {},
   "outputs": [
    {
     "data": {
      "text/html": [
       "'array'"
      ],
      "text/latex": [
       "'array'"
      ],
      "text/markdown": [
       "'array'"
      ],
      "text/plain": [
       "[1] \"array\""
      ]
     },
     "metadata": {},
     "output_type": "display_data"
    }
   ],
   "source": [
    "class(yTrain)"
   ]
  },
  {
   "cell_type": "code",
   "execution_count": 12,
   "metadata": {},
   "outputs": [
    {
     "data": {
      "text/html": [
       "8766"
      ],
      "text/latex": [
       "8766"
      ],
      "text/markdown": [
       "8766"
      ],
      "text/plain": [
       "[1] 8766"
      ]
     },
     "metadata": {},
     "output_type": "display_data"
    }
   ],
   "source": [
    "dim(yTrain)"
   ]
  },
  {
   "cell_type": "code",
   "execution_count": 13,
   "metadata": {},
   "outputs": [
    {
     "data": {
      "text/html": [
       "<ol class=list-inline>\n",
       "\t<li>8766</li>\n",
       "\t<li>1</li>\n",
       "</ol>\n"
      ],
      "text/latex": [
       "\\begin{enumerate*}\n",
       "\\item 8766\n",
       "\\item 1\n",
       "\\end{enumerate*}\n"
      ],
      "text/markdown": [
       "1. 8766\n",
       "2. 1\n",
       "\n",
       "\n"
      ],
      "text/plain": [
       "[1] 8766    1"
      ]
     },
     "metadata": {},
     "output_type": "display_data"
    }
   ],
   "source": [
    "dim(base::as.matrix(yTrain))"
   ]
  },
  {
   "cell_type": "markdown",
   "metadata": {},
   "source": [
    "## Bibliotecas"
   ]
  },
  {
   "cell_type": "code",
   "execution_count": 14,
   "metadata": {},
   "outputs": [],
   "source": [
    "suppressMessages(library(keras))"
   ]
  },
  {
   "cell_type": "code",
   "execution_count": 15,
   "metadata": {},
   "outputs": [],
   "source": [
    "# The following object is masked from ‘package:base’: as.matrix\n",
    "suppressMessages(library('verification'))"
   ]
  },
  {
   "cell_type": "code",
   "execution_count": 16,
   "metadata": {},
   "outputs": [],
   "source": [
    "# The following object is masked from ‘package:base’: Recall\n",
    "suppressMessages(library('MLmetrics'))"
   ]
  },
  {
   "cell_type": "markdown",
   "metadata": {},
   "source": [
    "## Preparación de los datos"
   ]
  },
  {
   "cell_type": "code",
   "execution_count": 17,
   "metadata": {},
   "outputs": [],
   "source": [
    "# normalizado de features xTrain, xTest\n",
    "normalize <- function(x) {\n",
    "    return ((x - min(x)) / (max(x) - min(x)))\n",
    "}"
   ]
  },
  {
   "cell_type": "code",
   "execution_count": 20,
   "metadata": {},
   "outputs": [
    {
     "data": {
      "text/plain": [
       "       V1              V2                  V3              V4         \n",
       " Min.   :51932   Min.   :4.388e-05   Min.   :241.2   Min.   :-23.640  \n",
       " 1st Qu.:55792   1st Qu.:3.990e-04   1st Qu.:255.2   1st Qu.:  1.891  \n",
       " Median :56608   Median :6.229e-04   Median :258.8   Median :  7.645  \n",
       " Mean   :56482   Mean   :7.210e-04   Mean   :258.8   Mean   :  7.872  \n",
       " 3rd Qu.:57315   3rd Qu.:9.278e-04   3rd Qu.:262.7   3rd Qu.: 13.526  \n",
       " Max.   :58724   Max.   :4.010e-03   Max.   :270.3   Max.   : 41.613  "
      ]
     },
     "metadata": {},
     "output_type": "display_data"
    }
   ],
   "source": [
    "summary(xTrain[,c(1,3,5,7)])"
   ]
  },
  {
   "cell_type": "code",
   "execution_count": 25,
   "metadata": {},
   "outputs": [],
   "source": [
    "xTrain_n <- apply (X = xTrain, MARGIN = 2, FUN = normalize)"
   ]
  },
  {
   "cell_type": "code",
   "execution_count": 26,
   "metadata": {},
   "outputs": [
    {
     "name": "stdout",
     "output_type": "stream",
     "text": [
      " num [1:8766, 1:450] 0.752 0.741 0.676 0.397 0.243 ...\n"
     ]
    }
   ],
   "source": [
    "str(xTrain_n)"
   ]
  },
  {
   "cell_type": "code",
   "execution_count": 27,
   "metadata": {},
   "outputs": [
    {
     "data": {
      "text/plain": [
       "       V1               V2                V3               V4        \n",
       " Min.   :0.0000   Min.   :0.00000   Min.   :0.0000   Min.   :0.0000  \n",
       " 1st Qu.:0.5683   1st Qu.:0.08953   1st Qu.:0.4839   1st Qu.:0.3913  \n",
       " Median :0.6884   Median :0.14600   Median :0.6065   Median :0.4794  \n",
       " Mean   :0.6699   Mean   :0.17073   Mean   :0.6059   Mean   :0.4829  \n",
       " 3rd Qu.:0.7926   3rd Qu.:0.22287   3rd Qu.:0.7403   3rd Qu.:0.5696  \n",
       " Max.   :1.0000   Max.   :1.00000   Max.   :1.0000   Max.   :1.0000  "
      ]
     },
     "metadata": {},
     "output_type": "display_data"
    }
   ],
   "source": [
    "summary(xTrain_n[,c(1,3,5,7)])"
   ]
  },
  {
   "cell_type": "code",
   "execution_count": 28,
   "metadata": {},
   "outputs": [
    {
     "data": {
      "text/plain": [
       "       V1              V2                  V3              V4         \n",
       " Min.   :53077   Min.   :3.287e-05   Min.   :241.9   Min.   :-30.578  \n",
       " 1st Qu.:55795   1st Qu.:3.513e-04   1st Qu.:255.5   1st Qu.:  1.672  \n",
       " Median :56609   Median :5.956e-04   Median :259.3   Median :  7.168  \n",
       " Mean   :56494   Mean   :7.066e-04   Mean   :259.1   Mean   :  7.241  \n",
       " 3rd Qu.:57332   3rd Qu.:9.419e-04   3rd Qu.:263.1   3rd Qu.: 12.779  \n",
       " Max.   :58626   Max.   :3.012e-03   Max.   :269.9   Max.   : 38.196  "
      ]
     },
     "metadata": {},
     "output_type": "display_data"
    }
   ],
   "source": [
    "summary(xTest[,c(1,3,5,7)])"
   ]
  },
  {
   "cell_type": "code",
   "execution_count": 29,
   "metadata": {},
   "outputs": [],
   "source": [
    "xTest_n <- apply (X = xTest, MARGIN = 2, FUN = normalize)"
   ]
  },
  {
   "cell_type": "code",
   "execution_count": 30,
   "metadata": {},
   "outputs": [
    {
     "data": {
      "text/plain": [
       "       V1               V2               V3               V4        \n",
       " Min.   :0.0000   Min.   :0.0000   Min.   :0.0000   Min.   :0.0000  \n",
       " 1st Qu.:0.4897   1st Qu.:0.1069   1st Qu.:0.4861   1st Qu.:0.4689  \n",
       " Median :0.6364   Median :0.1889   Median :0.6198   Median :0.5488  \n",
       " Mean   :0.6158   Mean   :0.2262   Mean   :0.6158   Mean   :0.5499  \n",
       " 3rd Qu.:0.7667   3rd Qu.:0.3052   3rd Qu.:0.7563   3rd Qu.:0.6304  \n",
       " Max.   :1.0000   Max.   :1.0000   Max.   :1.0000   Max.   :1.0000  "
      ]
     },
     "metadata": {},
     "output_type": "display_data"
    }
   ],
   "source": [
    "summary(xTest_n[,c(1,3,5,7)])"
   ]
  },
  {
   "cell_type": "code",
   "execution_count": 31,
   "metadata": {},
   "outputs": [],
   "source": [
    "# Discretizado wet/dry para clasisifcación yTrain\n",
    "occurrence <- ifelse(yTrain >= 1, 1, 0)"
   ]
  },
  {
   "cell_type": "code",
   "execution_count": 32,
   "metadata": {},
   "outputs": [
    {
     "name": "stdout",
     "output_type": "stream",
     "text": [
      " num [1:8766(1d)] 0 0 1 0 0 1 1 0 0 0 ...\n"
     ]
    }
   ],
   "source": [
    "str(occurrence)"
   ]
  },
  {
   "cell_type": "code",
   "execution_count": 33,
   "metadata": {},
   "outputs": [
    {
     "data": {
      "text/html": [
       "<ol class=list-inline>\n",
       "\t<li>'0.2 --&gt; 0'</li>\n",
       "\t<li>'0 --&gt; 0'</li>\n",
       "\t<li>'7.4 --&gt; 1'</li>\n",
       "\t<li>'0 --&gt; 0'</li>\n",
       "\t<li>'0 --&gt; 0'</li>\n",
       "\t<li>'1.6 --&gt; 1'</li>\n",
       "</ol>\n"
      ],
      "text/latex": [
       "\\begin{enumerate*}\n",
       "\\item '0.2 --> 0'\n",
       "\\item '0 --> 0'\n",
       "\\item '7.4 --> 1'\n",
       "\\item '0 --> 0'\n",
       "\\item '0 --> 0'\n",
       "\\item '1.6 --> 1'\n",
       "\\end{enumerate*}\n"
      ],
      "text/markdown": [
       "1. '0.2 --&gt; 0'\n",
       "2. '0 --&gt; 0'\n",
       "3. '7.4 --&gt; 1'\n",
       "4. '0 --&gt; 0'\n",
       "5. '0 --&gt; 0'\n",
       "6. '1.6 --&gt; 1'\n",
       "\n",
       "\n"
      ],
      "text/plain": [
       "[1] \"0.2 --> 0\" \"0 --> 0\"   \"7.4 --> 1\" \"0 --> 0\"   \"0 --> 0\"   \"1.6 --> 1\""
      ]
     },
     "metadata": {},
     "output_type": "display_data"
    }
   ],
   "source": [
    "paste(head(yTrain), '-->', head(occurrence))"
   ]
  },
  {
   "cell_type": "code",
   "execution_count": 43,
   "metadata": {},
   "outputs": [
    {
     "data": {
      "text/plain": [
       "occurrence\n",
       "   0    1 \n",
       "7430 1336 "
      ]
     },
     "metadata": {},
     "output_type": "display_data"
    },
    {
     "data": {
      "text/plain": [
       "occurrence\n",
       "       0        1 \n",
       "0.847593 0.152407 "
      ]
     },
     "metadata": {},
     "output_type": "display_data"
    }
   ],
   "source": [
    "# imbalanced dataset en train\n",
    "# no lluevia = 0, lluvia = 1\n",
    "# ::nota::tenerlo en cuenta en hild-out train/test para entrenamiento fit (?)\n",
    "table(occurrence)\n",
    "prop.table(table(occurrence))"
   ]
  },
  {
   "cell_type": "code",
   "execution_count": 36,
   "metadata": {},
   "outputs": [],
   "source": [
    "# para la regresión yTrain es precip\n",
    "precip <- yTrain"
   ]
  },
  {
   "cell_type": "code",
   "execution_count": 37,
   "metadata": {},
   "outputs": [
    {
     "data": {
      "text/html": [
       "<ol class=list-inline>\n",
       "\t<li>'normalize'</li>\n",
       "\t<li>'occurrence'</li>\n",
       "\t<li>'precip'</li>\n",
       "\t<li>'xTest'</li>\n",
       "\t<li>'xTest_n'</li>\n",
       "\t<li>'xTrain'</li>\n",
       "\t<li>'xTrain_n'</li>\n",
       "\t<li>'yTrain'</li>\n",
       "</ol>\n"
      ],
      "text/latex": [
       "\\begin{enumerate*}\n",
       "\\item 'normalize'\n",
       "\\item 'occurrence'\n",
       "\\item 'precip'\n",
       "\\item 'xTest'\n",
       "\\item 'xTest\\_n'\n",
       "\\item 'xTrain'\n",
       "\\item 'xTrain\\_n'\n",
       "\\item 'yTrain'\n",
       "\\end{enumerate*}\n"
      ],
      "text/markdown": [
       "1. 'normalize'\n",
       "2. 'occurrence'\n",
       "3. 'precip'\n",
       "4. 'xTest'\n",
       "5. 'xTest_n'\n",
       "6. 'xTrain'\n",
       "7. 'xTrain_n'\n",
       "8. 'yTrain'\n",
       "\n",
       "\n"
      ],
      "text/plain": [
       "[1] \"normalize\"  \"occurrence\" \"precip\"     \"xTest\"      \"xTest_n\"   \n",
       "[6] \"xTrain\"     \"xTrain_n\"   \"yTrain\"    "
      ]
     },
     "metadata": {},
     "output_type": "display_data"
    }
   ],
   "source": [
    "ls()"
   ]
  },
  {
   "cell_type": "markdown",
   "metadata": {},
   "source": [
    "## Modelo de Clasificación"
   ]
  },
  {
   "cell_type": "markdown",
   "metadata": {},
   "source": [
    "### Construcción del modelo red inicial"
   ]
  },
  {
   "cell_type": "code",
   "execution_count": 50,
   "metadata": {},
   "outputs": [],
   "source": [
    "#::GMG::Sigo el guión que hemos trabajado en clase\n",
    "# Paso 1. Defino mi modelo como una estructura secuencial.\n",
    "modelo_class_1 <- keras_model_sequential()"
   ]
  },
  {
   "cell_type": "code",
   "execution_count": 51,
   "metadata": {},
   "outputs": [],
   "source": [
    "#::GMG::Comienzo con una red \"simple\" con una capa oculta de 5 neuronas\n",
    "# Paso 2. Defino la topología de la red neuronal\n",
    "# 450 -- 5 -- 1\n",
    "modelo_class_1 %>% \n",
    "  layer_dense(units = 5, input_shape = c(450), activation = 'sigmoid') %>% \n",
    "  layer_dense(units = 1 , activation = 'sigmoid') "
   ]
  },
  {
   "cell_type": "code",
   "execution_count": 52,
   "metadata": {},
   "outputs": [
    {
     "name": "stdout",
     "output_type": "stream",
     "text": [
      "Model\n",
      "________________________________________________________________________________\n",
      "Layer (type)                        Output Shape                    Param #     \n",
      "================================================================================\n",
      "dense_3 (Dense)                     (None, 5)                       2255        \n",
      "________________________________________________________________________________\n",
      "dense_4 (Dense)                     (None, 1)                       6           \n",
      "================================================================================\n",
      "Total params: 2,261\n",
      "Trainable params: 2,261\n",
      "Non-trainable params: 0\n",
      "________________________________________________________________________________\n",
      "\n",
      "\n"
     ]
    }
   ],
   "source": [
    "#::GMG::Visualizo mi modelo\n",
    "str(modelo_class_1)"
   ]
  },
  {
   "cell_type": "code",
   "execution_count": 53,
   "metadata": {},
   "outputs": [],
   "source": [
    "# ::GMG:: backprop con SGD con tasa de emprendizaje y momento\n",
    "# Paso 3. Defino cómo va a aprender la red: algoritmo de aprendizaje y función a minimizar\n",
    "#::nota:: hiperparámetros aquí: optimizer, lr, momentum, loss, metrics\n",
    "modelo_class_1 %>% compile(\n",
    "  optimizer = optimizer_sgd(lr = 0.1, momentum = 0.9),\n",
    "  # https://keras.io/losses/\n",
    "  loss='binary_crossentropy',\n",
    "  # https://keras.rstudio.com/reference/metric_binary_accuracy.html\n",
    "  metrics='binary_accuracy'\n",
    ")"
   ]
  },
  {
   "cell_type": "markdown",
   "metadata": {},
   "source": [
    "### Entrenamiento"
   ]
  },
  {
   "cell_type": "code",
   "execution_count": 54,
   "metadata": {},
   "outputs": [
    {
     "data": {
      "text/plain": [
       "Time difference of 20.28698 secs"
      ]
     },
     "metadata": {},
     "output_type": "display_data"
    }
   ],
   "source": [
    "# Paso 4. Entreno el modelo y lo valido\n",
    "# ::GMG:: Voy a controlar un sobreajuste separando un validation set\n",
    "#         en el entrenamiento (tal y como nos han indicado en las sesiones prácticas)\n",
    "#::nota:: además voy a monitorizar el tiempo de entrenamiento\n",
    "# https://www.r-bloggers.com/5-ways-to-measure-running-time-of-r-code/\n",
    "timeKERAS_begin <- Sys.time()\n",
    "#::nota:: uso en principio un validation split simple (holdout 80/20) que no tiene\n",
    "#         en cuenta la falta de balance de no lluvia/lluvia\n",
    "# https://keras.io/models/sequential/#fit\n",
    "#::nota:: hiperparámetros aquí: epochs, batch_size\n",
    "history_1 <- modelo_class_1 %>% fit(xTrain_n, occurrence, \n",
    "                                epochs = 30, \n",
    "                                batch_size = 100,\n",
    "                                validation_split = 0.2)\n",
    "timeKERAS_end <- Sys.time()\n",
    "timeKERAS <- timeKERAS_end - timeKERAS_begin\n",
    "timeKERAS"
   ]
  },
  {
   "cell_type": "code",
   "execution_count": 55,
   "metadata": {},
   "outputs": [
    {
     "data": {},
     "metadata": {},
     "output_type": "display_data"
    },
    {
     "data": {
      "image/png": "[encoded data removed]",
      "text/plain": [
       "plot without title"
      ]
     },
     "metadata": {},
     "output_type": "display_data"
    }
   ],
   "source": [
    "#::GMG::Veo el resultado\n",
    "\n",
    "plot(history_1)"
   ]
  },
  {
   "cell_type": "code",
   "execution_count": 56,
   "metadata": {},
   "outputs": [
    {
     "data": {
      "text/html": [
       "<ol class=list-inline>\n",
       "\t<li>'history_1'</li>\n",
       "\t<li>'modelo_class_1'</li>\n",
       "\t<li>'normalize'</li>\n",
       "\t<li>'occurrence'</li>\n",
       "\t<li>'precip'</li>\n",
       "\t<li>'timeKERAS'</li>\n",
       "\t<li>'timeKERAS_begin'</li>\n",
       "\t<li>'timeKERAS_end'</li>\n",
       "\t<li>'xTest'</li>\n",
       "\t<li>'xTest_n'</li>\n",
       "\t<li>'xTrain'</li>\n",
       "\t<li>'xTrain_n'</li>\n",
       "\t<li>'yTrain'</li>\n",
       "</ol>\n"
      ],
      "text/latex": [
       "\\begin{enumerate*}\n",
       "\\item 'history\\_1'\n",
       "\\item 'modelo\\_class\\_1'\n",
       "\\item 'normalize'\n",
       "\\item 'occurrence'\n",
       "\\item 'precip'\n",
       "\\item 'timeKERAS'\n",
       "\\item 'timeKERAS\\_begin'\n",
       "\\item 'timeKERAS\\_end'\n",
       "\\item 'xTest'\n",
       "\\item 'xTest\\_n'\n",
       "\\item 'xTrain'\n",
       "\\item 'xTrain\\_n'\n",
       "\\item 'yTrain'\n",
       "\\end{enumerate*}\n"
      ],
      "text/markdown": [
       "1. 'history_1'\n",
       "2. 'modelo_class_1'\n",
       "3. 'normalize'\n",
       "4. 'occurrence'\n",
       "5. 'precip'\n",
       "6. 'timeKERAS'\n",
       "7. 'timeKERAS_begin'\n",
       "8. 'timeKERAS_end'\n",
       "9. 'xTest'\n",
       "10. 'xTest_n'\n",
       "11. 'xTrain'\n",
       "12. 'xTrain_n'\n",
       "13. 'yTrain'\n",
       "\n",
       "\n"
      ],
      "text/plain": [
       " [1] \"history_1\"       \"modelo_class_1\"  \"normalize\"       \"occurrence\"     \n",
       " [5] \"precip\"          \"timeKERAS\"       \"timeKERAS_begin\" \"timeKERAS_end\"  \n",
       " [9] \"xTest\"           \"xTest_n\"         \"xTrain\"          \"xTrain_n\"       \n",
       "[13] \"yTrain\"         "
      ]
     },
     "metadata": {},
     "output_type": "display_data"
    }
   ],
   "source": [
    "ls()"
   ]
  },
  {
   "cell_type": "code",
   "execution_count": 58,
   "metadata": {},
   "outputs": [
    {
     "data": {
      "text/html": [
       "<ol class=list-inline>\n",
       "\t<li>'data'</li>\n",
       "\t<li>'m1969-tarea-2-keras-prediccion.ipynb'</li>\n",
       "</ol>\n"
      ],
      "text/latex": [
       "\\begin{enumerate*}\n",
       "\\item 'data'\n",
       "\\item 'm1969-tarea-2-keras-prediccion.ipynb'\n",
       "\\end{enumerate*}\n"
      ],
      "text/markdown": [
       "1. 'data'\n",
       "2. 'm1969-tarea-2-keras-prediccion.ipynb'\n",
       "\n",
       "\n"
      ],
      "text/plain": [
       "[1] \"data\"                                \n",
       "[2] \"m1969-tarea-2-keras-prediccion.ipynb\""
      ]
     },
     "metadata": {},
     "output_type": "display_data"
    }
   ],
   "source": [
    "list.files(path = '.')"
   ]
  },
  {
   "cell_type": "code",
   "execution_count": 63,
   "metadata": {},
   "outputs": [],
   "source": [
    "# https://keras.io/getting-started/faq/#how-can-i-save-a-keras-model\n",
    "keras::save_model_hdf5('gmg-model-450-5-1-sgd.h5', object = modelo_class_1)"
   ]
  },
  {
   "cell_type": "code",
   "execution_count": 74,
   "metadata": {},
   "outputs": [],
   "source": [
    "base::save(history_1, timeKERAS, file = 'gmg-sesion-modelo-1.rda')"
   ]
  },
  {
   "cell_type": "code",
   "execution_count": 75,
   "metadata": {},
   "outputs": [
    {
     "data": {
      "text/html": [
       "<ol class=list-inline>\n",
       "\t<li>'data'</li>\n",
       "\t<li>'gmg-model-450-5-1-sgd.h5'</li>\n",
       "\t<li>'gmg-sesion-modelo-1.rda'</li>\n",
       "\t<li>'m1969-tarea-2-keras-prediccion.ipynb'</li>\n",
       "</ol>\n"
      ],
      "text/latex": [
       "\\begin{enumerate*}\n",
       "\\item 'data'\n",
       "\\item 'gmg-model-450-5-1-sgd.h5'\n",
       "\\item 'gmg-sesion-modelo-1.rda'\n",
       "\\item 'm1969-tarea-2-keras-prediccion.ipynb'\n",
       "\\end{enumerate*}\n"
      ],
      "text/markdown": [
       "1. 'data'\n",
       "2. 'gmg-model-450-5-1-sgd.h5'\n",
       "3. 'gmg-sesion-modelo-1.rda'\n",
       "4. 'm1969-tarea-2-keras-prediccion.ipynb'\n",
       "\n",
       "\n"
      ],
      "text/plain": [
       "[1] \"data\"                                \n",
       "[2] \"gmg-model-450-5-1-sgd.h5\"            \n",
       "[3] \"gmg-sesion-modelo-1.rda\"             \n",
       "[4] \"m1969-tarea-2-keras-prediccion.ipynb\""
      ]
     },
     "metadata": {},
     "output_type": "display_data"
    }
   ],
   "source": [
    "list.files(path = '.')"
   ]
  },
  {
   "cell_type": "markdown",
   "metadata": {},
   "source": [
    "### Overfitting"
   ]
  },
  {
   "cell_type": "code",
   "execution_count": 82,
   "metadata": {},
   "outputs": [],
   "source": [
    "#::GMG::Pruebo un dropout()\n",
    "modelo_class_2 <- keras_model_sequential()\n",
    "modelo_class_2 %>% \n",
    "  layer_dense(units = 5, input_shape = c(450), activation = 'sigmoid') %>%\n",
    "  layer_dropout(rate = 0.1) %>%\n",
    "  layer_dense(units = 1 , activation = 'sigmoid') \n",
    "modelo_class_2 %>% compile(\n",
    "  optimizer = optimizer_sgd(lr = 0.1, momentum = 0.9),\n",
    "  loss='binary_crossentropy',\n",
    "  metrics='binary_accuracy'\n",
    ")"
   ]
  },
  {
   "cell_type": "code",
   "execution_count": 83,
   "metadata": {},
   "outputs": [
    {
     "data": {
      "text/plain": [
       "Time difference of 18.68778 secs"
      ]
     },
     "metadata": {},
     "output_type": "display_data"
    }
   ],
   "source": [
    "timeKERAS_begin <- Sys.time()\n",
    "history_2 <- modelo_class_2 %>% fit(xTrain_n, occurrence, \n",
    "                                epochs = 30, \n",
    "                                batch_size = 100,\n",
    "                                validation_split = 0.2)\n",
    "timeKERAS_end <- Sys.time()\n",
    "timeKERAS <- timeKERAS_end - timeKERAS_begin\n",
    "timeKERAS"
   ]
  },
  {
   "cell_type": "code",
   "execution_count": 84,
   "metadata": {},
   "outputs": [
    {
     "data": {},
     "metadata": {},
     "output_type": "display_data"
    },
    {
     "data": {
      "image/png": "[encoded data removed]",
      "text/plain": [
       "plot without title"
      ]
     },
     "metadata": {},
     "output_type": "display_data"
    }
   ],
   "source": [
    "plot(history_2)"
   ]
  },
  {
   "cell_type": "code",
   "execution_count": 85,
   "metadata": {},
   "outputs": [],
   "source": [
    "keras::save_model_hdf5('gmg-model-450-5-1-sgd-dropout.h5', object = modelo_class_2)\n",
    "base::save(history_2, timeKERAS, file = 'gmg-sesion-modelo-2.rda')"
   ]
  },
  {
   "cell_type": "code",
   "execution_count": 86,
   "metadata": {},
   "outputs": [
    {
     "data": {
      "text/html": [
       "<ol class=list-inline>\n",
       "\t<li>'data'</li>\n",
       "\t<li>'gmg-model-450-5-1-sgd-dropout.h5'</li>\n",
       "\t<li>'gmg-model-450-5-1-sgd.h5'</li>\n",
       "\t<li>'gmg-sesion-modelo-1.rda'</li>\n",
       "\t<li>'gmg-sesion-modelo-2.rda'</li>\n",
       "\t<li>'m1969-tarea-2-keras-prediccion.ipynb'</li>\n",
       "</ol>\n"
      ],
      "text/latex": [
       "\\begin{enumerate*}\n",
       "\\item 'data'\n",
       "\\item 'gmg-model-450-5-1-sgd-dropout.h5'\n",
       "\\item 'gmg-model-450-5-1-sgd.h5'\n",
       "\\item 'gmg-sesion-modelo-1.rda'\n",
       "\\item 'gmg-sesion-modelo-2.rda'\n",
       "\\item 'm1969-tarea-2-keras-prediccion.ipynb'\n",
       "\\end{enumerate*}\n"
      ],
      "text/markdown": [
       "1. 'data'\n",
       "2. 'gmg-model-450-5-1-sgd-dropout.h5'\n",
       "3. 'gmg-model-450-5-1-sgd.h5'\n",
       "4. 'gmg-sesion-modelo-1.rda'\n",
       "5. 'gmg-sesion-modelo-2.rda'\n",
       "6. 'm1969-tarea-2-keras-prediccion.ipynb'\n",
       "\n",
       "\n"
      ],
      "text/plain": [
       "[1] \"data\"                                \n",
       "[2] \"gmg-model-450-5-1-sgd-dropout.h5\"    \n",
       "[3] \"gmg-model-450-5-1-sgd.h5\"            \n",
       "[4] \"gmg-sesion-modelo-1.rda\"             \n",
       "[5] \"gmg-sesion-modelo-2.rda\"             \n",
       "[6] \"m1969-tarea-2-keras-prediccion.ipynb\""
      ]
     },
     "metadata": {},
     "output_type": "display_data"
    }
   ],
   "source": [
    "list.files(path = '.')"
   ]
  },
  {
   "cell_type": "markdown",
   "metadata": {},
   "source": [
    "### Métricas alternativas"
   ]
  },
  {
   "cell_type": "code",
   "execution_count": 72,
   "metadata": {},
   "outputs": [],
   "source": [
    "#::GMG::Parece que consigo una buena accuracy entorno a 0.89\n",
    "#::nota:: no obstante debido a la falta de balance de clases decido introducir\n",
    "#         otras dos métricas: f1_score y auc\n",
    "#::nota:: si quiero hacerlo de forma integrada con el fit hay que programar\n",
    "#         las funciones de métrica con funciones internas de keras k_func()\n",
    "#         lo cual resulta complicado (!)\n",
    "# https://keras.io/metrics/#custom-metrics\n",
    "# https://rpubs.com/burchz/KerasCustomLoss\n"
   ]
  },
  {
   "cell_type": "code",
   "execution_count": null,
   "metadata": {},
   "outputs": [],
   "source": [
    "# Paso 5. (opcional) regularización L1, L2, ElasticNet(L1/L2)\n"
   ]
  },
  {
   "cell_type": "code",
   "execution_count": null,
   "metadata": {},
   "outputs": [],
   "source": [
    "# una medida mejor que accuracy cuando hay desequlibrio entre clases\n",
    "# Fmeasure <- 2 * precision * recall / (precision + recall)"
   ]
  },
  {
   "cell_type": "code",
   "execution_count": null,
   "metadata": {},
   "outputs": [],
   "source": [
    "#::GMG::Comienzo con una red \"simple\" con una capa oculta de 10 neuronas\n",
    "# Paso 2. Defino la topología de la red neuronal# 450 (entradas) -> 16 (hidden layer 1) -> 1 (output layer)\n",
    "# hiperparámetros: activation (sigmoid), units (20)\n",
    "# ::duda:: ¿layer_input?\n",
    "# https://keras.rstudio.com/reference/layer_input.html\n",
    "#model_1 %>% \n",
    "#  layer_dense(units = 5, input_shape = c(450), activation = \"sigmoid\") %>% \n",
    "#  layer_dense(units = 5, activation = \"sigmoid\") %>% \n",
    "#  layer_dense(units = 1, activation = \"sigmoid\")"
   ]
  },
  {
   "cell_type": "code",
   "execution_count": null,
   "metadata": {},
   "outputs": [],
   "source": [
    "# Paso X: evaluación final el modelo\n",
    "# ::GMG::El problema que tenemos aquí es que no tenemos el yTest\n",
    "#        por lo tanto este sería el paso previo a la grabación del\n",
    "#        resultado que nos piden\n",
    "#pred <- predict(modelo_class,x_test)"
   ]
  },
  {
   "cell_type": "code",
   "execution_count": null,
   "metadata": {},
   "outputs": [],
   "source": []
  },
  {
   "cell_type": "markdown",
   "metadata": {},
   "source": [
    "### Tuning de hiperparametros"
   ]
  },
  {
   "cell_type": "code",
   "execution_count": null,
   "metadata": {},
   "outputs": [],
   "source": []
  },
  {
   "cell_type": "markdown",
   "metadata": {},
   "source": [
    "## Modelo de Regresión"
   ]
  },
  {
   "cell_type": "markdown",
   "metadata": {},
   "source": [
    "### Construcción de la red inicial"
   ]
  },
  {
   "cell_type": "code",
   "execution_count": null,
   "metadata": {},
   "outputs": [],
   "source": []
  },
  {
   "cell_type": "markdown",
   "metadata": {},
   "source": [
    "### Entrenamiento"
   ]
  },
  {
   "cell_type": "code",
   "execution_count": null,
   "metadata": {},
   "outputs": [],
   "source": []
  },
  {
   "cell_type": "markdown",
   "metadata": {},
   "source": [
    "### Tuning de hiperparametros"
   ]
  },
  {
   "cell_type": "code",
   "execution_count": null,
   "metadata": {},
   "outputs": [],
   "source": []
  },
  {
   "cell_type": "markdown",
   "metadata": {},
   "source": [
    "## Grabación de modelos"
   ]
  },
  {
   "cell_type": "code",
   "execution_count": null,
   "metadata": {},
   "outputs": [],
   "source": []
  },
  {
   "cell_type": "code",
   "execution_count": null,
   "metadata": {},
   "outputs": [],
   "source": []
  }
 ],
 "metadata": {
  "kernelspec": {
   "display_name": "R",
   "language": "R",
   "name": "ir"
  },
  "language_info": {
   "codemirror_mode": "r",
   "file_extension": ".r",
   "mimetype": "text/x-r-source",
   "name": "R",
   "pygments_lexer": "r",
   "version": "3.4.4"
  }
 },
 "nbformat": 4,
 "nbformat_minor": 2
}
